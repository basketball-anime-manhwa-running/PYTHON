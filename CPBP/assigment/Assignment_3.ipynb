{
 "cells": [
  {
   "cell_type": "code",
   "execution_count": 4,
   "id": "da9229cd-7a5e-441b-9328-69fd807ca7a9",
   "metadata": {},
   "outputs": [
    {
     "name": "stdin",
     "output_type": "stream",
     "text": [
      "Enter the name :  Shashank\n",
      "Enter the PAN Card Number : Shash7894a\n"
     ]
    },
    {
     "name": "stdout",
     "output_type": "stream",
     "text": [
      "\n",
      "User Details:\n",
      "Name: Shashank\n",
      "PAN Card Number: Shash7894a\n"
     ]
    }
   ],
   "source": [
    "#Q1.Write a program that takes the user's name and pan card number as input. Validate the information using isX function and print the details.\n",
    "name = input (\"Enter the name : \" )\n",
    "pan_card = input (\"Enter the PAN Card Number :\")\n",
    "\n",
    "def validate_pan_details():\n",
    "    if not name.isalpha() or not name:\n",
    "        print(\"Invalid name. Name should contain only alphabetic characters.\")\n",
    "        return\n",
    "\n",
    "    if len(pan_card) == 10 and pan_card[:5].isalpha() and pan_card[5:9].isdigit() and pan_card[-1].isalpha():\n",
    "        print(\"\\nUser Details:\")\n",
    "        print(\"Name:\",name)\n",
    "        print(\"PAN Card Number:\",pan_card)\n",
    "    else:\n",
    "        print(\"Invalid PAN card number. Please ensure it has the format: 5 letters, 4 digits, and 1 letter.\")\n",
    "validate_pan_details()"
   ]
  },
  {
   "cell_type": "code",
   "execution_count": 8,
   "id": "dcd8f196-21de-4c55-b1c6-dfeba232362b",
   "metadata": {},
   "outputs": [
    {
     "name": "stdout",
     "output_type": "stream",
     "text": [
      "Abecedarian Series: ['abc', 'aeg', 'ghost', 'loop', 'adder', 'xyz']\n"
     ]
    }
   ],
   "source": [
    "def is_abecedarian(word):\n",
    "    return ''.join(sorted(word)) == word\n",
    "def generate_abecedarian_series(word_list):\n",
    "    return [word for word in word_list if is_abecedarian(word)]\n",
    "words = [\"abc\", \"aeg\", \"apple\", \"ghost\", \"loop\", \"adder\", \"xyz\"]\n",
    "abecedarian_series = generate_abecedarian_series(words)\n",
    "\n",
    "print(\"Abecedarian Series:\", abecedarian_series)\n"
   ]
  },
  {
   "cell_type": "code",
   "execution_count": 9,
   "id": "f20d4b5e-3cf8-47bb-9d19-a71ff8f3455f",
   "metadata": {},
   "outputs": [
    {
     "name": "stdin",
     "output_type": "stream",
     "text": [
      "Enter a string:  Shashank\n",
      "Enter the character to count:  h\n"
     ]
    },
    {
     "name": "stdout",
     "output_type": "stream",
     "text": [
      "The character h appears 2 times in the string.\n"
     ]
    }
   ],
   "source": [
    "#Q3. Write a program that counts the occurrences of a character in a string. Do not use built in functions. \n",
    "def count_character(string, char):\n",
    "    count = 0  \n",
    "    for c in string:\n",
    "        if c == char:\n",
    "            count += 1  \n",
    "    return count\n",
    "\n",
    "string = input(\"Enter a string: \")\n",
    "char = input(\"Enter the character to count: \")\n",
    "\n",
    "if len(char) != 1:\n",
    "    print(\"Please enter only one character for counting.\")\n",
    "else:\n",
    "    occurrences = count_character(string, char)\n",
    "    print(\"The character\" ,char, \"appears\", occurrences, \"times in the string.\")"
   ]
  },
  {
   "cell_type": "code",
   "execution_count": 35,
   "id": "464a1c23-b32b-4ec2-8b4a-3f82fabbeb36",
   "metadata": {},
   "outputs": [
    {
     "name": "stdout",
     "output_type": "stream",
     "text": [
      "9\n"
     ]
    }
   ],
   "source": [
    "#Q4.Write a function that takes a list of words and returns the length of the longest one.\n",
    "def longest_word_length(words):\n",
    "    if not words:\n",
    "        return 0\n",
    "    longest = max(words, key=len)\n",
    "    return len(longest)\n",
    "\n",
    "words_list = [\"apple\", \"guavava\", \"mango\", \"pineapple\", \"bnanana\"]\n",
    "print(longest_word_length(words_list))"
   ]
  },
  {
   "cell_type": "code",
   "execution_count": 10,
   "id": "7b693e9d-a1d8-41cf-839f-0c4778cfba5b",
   "metadata": {},
   "outputs": [
    {
     "name": "stdout",
     "output_type": "stream",
     "text": [
      "Sh\n"
     ]
    }
   ],
   "source": [
    "#Q5.Write a function to get the first half of half of a specified string of even length.\n",
    "def first_half_of_half(s):\n",
    "    if len(s) % 2 != 0:\n",
    "        raise ValueError(\"String length must be even.\")\n",
    "    \n",
    "    half_index = len(s) // 2\n",
    "    first_half = s[:half_index]\n",
    "    first_half_of_half = first_half[:half_index // 2]\n",
    "    \n",
    "    return first_half_of_half\n",
    "\n",
    "\n",
    "test_string = \"Shashank\"\n",
    "result = first_half_of_half(test_string)\n",
    "print(result)  \n"
   ]
  },
  {
   "cell_type": "code",
   "execution_count": 2,
   "id": "2b5c2fa6-8a54-4522-ab68-cc57f50c0329",
   "metadata": {},
   "outputs": [
    {
     "name": "stdout",
     "output_type": "stream",
     "text": [
      "wollo herld\n"
     ]
    }
   ],
   "source": [
    "#Q6.Write a program to get a single string from two given strings separated by a space and swap the first two characters of each string.\n",
    "def swap_and_concat(str1, str2):\n",
    "    if len(str1) < 2 or len(str2) < 2:\n",
    "        raise ValueError(\"Both strings must have at least two characters.\")\n",
    "    \n",
    "    new_str1 = str2[:2] + str1[2:]\n",
    "    new_str2 = str1[:2] + str2[2:]\n",
    "    \n",
    "    return new_str1 + \" \" + new_str2\n",
    "\n",
    "\n",
    "string1 = \"hello\"\n",
    "string2 = \"world\"\n",
    "result = swap_and_concat(string1, string2)\n",
    "print(result)  "
   ]
  },
  {
   "cell_type": "code",
   "execution_count": 6,
   "id": "9ceb9bb0-c5f0-4fdf-b1c0-aad0e82f76d4",
   "metadata": {},
   "outputs": [
    {
     "name": "stdout",
     "output_type": "stream",
     "text": [
      "123\n"
     ]
    }
   ],
   "source": [
    "#Q7.Write a program to print floating point numbers with no decimal places.\n",
    "def print_no_decimal(number):\n",
    "    print(int(number))\n",
    "\n",
    "floating_point_number = 123.456\n",
    "print_no_decimal(floating_point_number)  # Output will be 123\n"
   ]
  },
  {
   "cell_type": "code",
   "execution_count": null,
   "id": "87c1b4ff-29b3-4f1d-a341-a0d721b876ba",
   "metadata": {},
   "outputs": [],
   "source": []
  }
 ],
 "metadata": {
  "kernelspec": {
   "display_name": "Python 3 (ipykernel)",
   "language": "python",
   "name": "python3"
  },
  "language_info": {
   "codemirror_mode": {
    "name": "ipython",
    "version": 3
   },
   "file_extension": ".py",
   "mimetype": "text/x-python",
   "name": "python",
   "nbconvert_exporter": "python",
   "pygments_lexer": "ipython3",
   "version": "3.12.5"
  }
 },
 "nbformat": 4,
 "nbformat_minor": 5
}
