{
 "cells": [
  {
   "cell_type": "code",
   "execution_count": 3,
   "id": "456be01f-647e-4f01-9921-b5b7e9a6e1a6",
   "metadata": {},
   "outputs": [
    {
     "name": "stdin",
     "output_type": "stream",
     "text": [
      "Enter the radius of the circle:  5\n"
     ]
    },
    {
     "name": "stdout",
     "output_type": "stream",
     "text": [
      "78.5\n"
     ]
    }
   ],
   "source": [
    "#Wap to calculate area of circle\n",
    "radius = float(input(\"Enter the radius of the circle: \"))\n",
    "area = 3.14 * (radius ** 2)\n",
    "print(area)\n"
   ]
  },
  {
   "cell_type": "code",
   "execution_count": 4,
   "id": "ac23c02a-8427-4d3f-82be-c3cec366408e",
   "metadata": {},
   "outputs": [
    {
     "name": "stdin",
     "output_type": "stream",
     "text": [
      "Enter a positive integer:  544\n"
     ]
    },
    {
     "name": "stdout",
     "output_type": "stream",
     "text": [
      "4\n"
     ]
    }
   ],
   "source": [
    "#Wap to print the digit at one's place of a number\n",
    "number = int(input(\"Enter a positive integer: \"))\n",
    "ones_digit = number % 10\n",
    "print(ones_digit)\n"
   ]
  },
  {
   "cell_type": "code",
   "execution_count": 6,
   "id": "480d7325-08ac-410d-8a71-e4f5724a2387",
   "metadata": {},
   "outputs": [
    {
     "name": "stdin",
     "output_type": "stream",
     "text": [
      "Enter the first number:  2\n",
      "Enter the second number:  4\n"
     ]
    },
    {
     "name": "stdout",
     "output_type": "stream",
     "text": [
      "3.0\n",
      "-1.0\n",
      "1.0\n"
     ]
    }
   ],
   "source": [
    "#Wap to calculate average of two numbers and print their deviation\n",
    "\n",
    "num1 = float(input(\"Enter the first number: \"))\n",
    "num2 = float(input(\"Enter the second number: \"))\n",
    "average = (num1 + num2) / 2\n",
    "deviation1 = num1 - average\n",
    "deviation2 = num2 - average\n",
    "print(average)\n",
    "print(deviation1)\n",
    "print(deviation2)\n"
   ]
  },
  {
   "cell_type": "code",
   "execution_count": 8,
   "id": "8433314a-bbc1-4060-9173-2a6c589954fa",
   "metadata": {},
   "outputs": [
    {
     "name": "stdin",
     "output_type": "stream",
     "text": [
      "Enter a floating-point number:  5.64\n"
     ]
    },
    {
     "name": "stdout",
     "output_type": "stream",
     "text": [
      "5\n"
     ]
    }
   ],
   "source": [
    "#Wap to convert floating point number in corresponding integer\n",
    "\n",
    "float_num = float(input(\"Enter a floating-point number: \"))\n",
    "int_num = int(float_num)\n",
    "print(int_num)\n"
   ]
  },
  {
   "cell_type": "code",
   "execution_count": 10,
   "id": "ff6085a6-17f9-442a-aaa2-42b4414e9d7a",
   "metadata": {},
   "outputs": [
    {
     "name": "stdin",
     "output_type": "stream",
     "text": [
      "Enter a integer number 5\n"
     ]
    },
    {
     "name": "stdout",
     "output_type": "stream",
     "text": [
      "5.0\n"
     ]
    }
   ],
   "source": [
    "#Wap from integer to float\n",
    "int_num=int(input(\"Enter a integer number\"))\n",
    "float_num=float(int_num)\n",
    "print(float_num)"
   ]
  },
  {
   "cell_type": "code",
   "execution_count": 12,
   "id": "e6bdd258-b587-4210-813f-5615fb79cce9",
   "metadata": {},
   "outputs": [
    {
     "name": "stdin",
     "output_type": "stream",
     "text": [
      "Enter the temperature in Fahrenheit:  0\n"
     ]
    },
    {
     "name": "stdout",
     "output_type": "stream",
     "text": [
      "-17.77777777777778\n"
     ]
    }
   ],
   "source": [
    "#wap to convert F to Celcius\n",
    "fahrenheit = float(input(\"Enter the temperature in Fahrenheit: \"))\n",
    "celsius = (fahrenheit - 32)*(5/9)\n",
    "print(celsius)\n"
   ]
  },
  {
   "cell_type": "code",
   "execution_count": null,
   "id": "5f4510dc-7cf6-4bd1-a032-fbe73637d9fb",
   "metadata": {},
   "outputs": [],
   "source": []
  }
 ],
 "metadata": {
  "kernelspec": {
   "display_name": "Python 3 (ipykernel)",
   "language": "python",
   "name": "python3"
  },
  "language_info": {
   "codemirror_mode": {
    "name": "ipython",
    "version": 3
   },
   "file_extension": ".py",
   "mimetype": "text/x-python",
   "name": "python",
   "nbconvert_exporter": "python",
   "pygments_lexer": "ipython3",
   "version": "3.12.5"
  }
 },
 "nbformat": 4,
 "nbformat_minor": 5
}
