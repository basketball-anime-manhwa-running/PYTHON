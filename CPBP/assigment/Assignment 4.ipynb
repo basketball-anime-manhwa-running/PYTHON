{
 "cells": [
  {
   "cell_type": "code",
   "execution_count": 1,
   "id": "d1f73885-5515-493e-9488-a296828508d5",
   "metadata": {},
   "outputs": [
    {
     "name": "stdout",
     "output_type": "stream",
     "text": [
      "['S', 'h', 'a', 's', 'h', 'a', 'n', 'k']\n"
     ]
    }
   ],
   "source": [
    "#Write a program to extract each character from a string using a regular expression.\n",
    "import re\n",
    "\n",
    "def extract_characters(text):\n",
    "    pattern = r'.'\n",
    "    return re.findall(pattern, text)\n",
    "\n",
    "text = \"Shashank\"\n",
    "characters = extract_characters(text)\n",
    "print(characters)\n"
   ]
  },
  {
   "cell_type": "code",
   "execution_count": 2,
   "id": "30958dbf-04d7-4c56-91b6-da4cf04192e9",
   "metadata": {},
   "outputs": [
    {
     "name": "stdout",
     "output_type": "stream",
     "text": [
      "['Hello', 'Shashank']\n"
     ]
    }
   ],
   "source": [
    "#Write a program to extract each word from a string using a regular expression.\n",
    "import re\n",
    "\n",
    "def extract_words(text):\n",
    "    pattern = r'\\b\\w+\\b'\n",
    "    return re.findall(pattern, text)\n",
    "\n",
    "text = \"Hello, Shashank!\"\n",
    "words = extract_words(text)\n",
    "print(words)\n"
   ]
  },
  {
   "cell_type": "code",
   "execution_count": 3,
   "id": "dfe6dbe4-6247-4702-8121-0bcdb7fb976a",
   "metadata": {},
   "outputs": [
    {
     "name": "stdout",
     "output_type": "stream",
     "text": [
      "Hello,\n"
     ]
    }
   ],
   "source": [
    "#Write a program to print the first word of the string.\n",
    "def first_word(text):\n",
    "    return text.split()[0]\n",
    "\n",
    "text = \"Hello, Shashank!\"\n",
    "print(first_word(text))\n"
   ]
  },
  {
   "cell_type": "code",
   "execution_count": 4,
   "id": "cae3ccaf-c7fd-492f-8db8-26993d40c728",
   "metadata": {},
   "outputs": [
    {
     "name": "stdout",
     "output_type": "stream",
     "text": [
      "Shashank!\n"
     ]
    }
   ],
   "source": [
    "#Write a program to print the last word of the string.\n",
    "def last_word(text):\n",
    "    return text.split()[-1]\n",
    "\n",
    "text = \"Hello, Shashank!\"\n",
    "print(last_word(text))\n"
   ]
  },
  {
   "cell_type": "code",
   "execution_count": 5,
   "id": "e2286534-5852-4829-8ddb-4090a45e3c5b",
   "metadata": {},
   "outputs": [
    {
     "name": "stdout",
     "output_type": "stream",
     "text": [
      "['Sh', 'as', 'ha', 'nk']\n"
     ]
    }
   ],
   "source": [
    "#Write the program to print the characters in pairs.\n",
    "def characters_in_pairs(text):\n",
    "    pairs = [text[i:i+2] for i in range(0, len(text), 2)]\n",
    "    return pairs\n",
    "\n",
    "text = \"Shashank\"\n",
    "pairs = characters_in_pairs(text)\n",
    "print(pairs)\n"
   ]
  },
  {
   "cell_type": "code",
   "execution_count": 6,
   "id": "f8b4372e-42cb-460c-bbb8-e99890747aaf",
   "metadata": {},
   "outputs": [
    {
     "name": "stdout",
     "output_type": "stream",
     "text": [
      "['He', 'Sh']\n"
     ]
    }
   ],
   "source": [
    "#Write a program to print only the first two characters of every word.\n",
    "def first_two_characters_of_each_word(text):\n",
    "    return [word[:2] for word in text.split()]\n",
    "\n",
    "text = \"Hello, Shashank!\"\n",
    "first_two_chars = first_two_characters_of_each_word(text)\n",
    "print(first_two_chars)\n"
   ]
  },
  {
   "cell_type": "code",
   "execution_count": 7,
   "id": "47bac4cc-970d-4160-a3b5-e0ec7f834bf6",
   "metadata": {},
   "outputs": [
    {
     "name": "stdout",
     "output_type": "stream",
     "text": [
      "True\n"
     ]
    }
   ],
   "source": [
    "#Write a program that validates a mobile phone number. The number should start with 7, 8, or 9 followed by 9 digits.\n",
    "import re\n",
    "\n",
    "def validate_mobile_number(number):\n",
    "    pattern = r'^[789]\\d{9}$'\n",
    "    return bool(re.match(pattern, number))\n",
    "\n",
    "number = \"9876543210\"\n",
    "print(validate_mobile_number(number))\n"
   ]
  },
  {
   "cell_type": "code",
   "execution_count": 8,
   "id": "436b9d1b-47cf-4761-b8bf-aa7f632b42d1",
   "metadata": {},
   "outputs": [
    {
     "name": "stdout",
     "output_type": "stream",
     "text": [
      "['is', 'an', 'engineer']\n"
     ]
    }
   ],
   "source": [
    "#Write a program that prints only those words that starts with a vowel.\n",
    "import re\n",
    "\n",
    "def words_starting_with_vowel(text):\n",
    "    pattern = r'\\b[aeiouAEIOU]\\w*'\n",
    "    return re.findall(pattern, text)\n",
    "\n",
    "text = \"Shashank is an engineer.\"\n",
    "vowel_words = words_starting_with_vowel(text)\n",
    "print(vowel_words)\n"
   ]
  },
  {
   "cell_type": "code",
   "execution_count": 9,
   "id": "299afc11-d0dc-495c-9c47-b123e4b314dc",
   "metadata": {},
   "outputs": [
    {
     "name": "stdout",
     "output_type": "stream",
     "text": [
      "True\n"
     ]
    }
   ],
   "source": [
    "#Write a program that uses a regular expression to match strings which starts with an upper-case character followed by a digit and a ‘- ‘.\n",
    "import re\n",
    "\n",
    "def match_uppercase_digit_dash(text):\n",
    "    pattern = r'^[A-Z]\\d-'\n",
    "    return bool(re.match(pattern, text))\n",
    "\n",
    "text = \"S1- Shashank\"\n",
    "print(match_uppercase_digit_dash(text))\n"
   ]
  },
  {
   "cell_type": "code",
   "execution_count": 10,
   "id": "3522e4cb-c075-4efb-b886-dee0f350a05b",
   "metadata": {},
   "outputs": [
    {
     "name": "stdout",
     "output_type": "stream",
     "text": [
      "Shash\n"
     ]
    }
   ],
   "source": [
    "#Write a program to extract the first n characters of a string.\n",
    "def first_n_characters(text, n):\n",
    "    return text[:n]\n",
    "\n",
    "text = \"Shashank\"\n",
    "n = 5\n",
    "print(first_n_characters(text, n))\n"
   ]
  },
  {
   "cell_type": "code",
   "execution_count": null,
   "id": "7ffd9cf9-0653-4314-a019-a51e69c03b59",
   "metadata": {},
   "outputs": [],
   "source": []
  }
 ],
 "metadata": {
  "kernelspec": {
   "display_name": "Python 3 (ipykernel)",
   "language": "python",
   "name": "python3"
  },
  "language_info": {
   "codemirror_mode": {
    "name": "ipython",
    "version": 3
   },
   "file_extension": ".py",
   "mimetype": "text/x-python",
   "name": "python",
   "nbconvert_exporter": "python",
   "pygments_lexer": "ipython3",
   "version": "3.12.5"
  }
 },
 "nbformat": 4,
 "nbformat_minor": 5
}
