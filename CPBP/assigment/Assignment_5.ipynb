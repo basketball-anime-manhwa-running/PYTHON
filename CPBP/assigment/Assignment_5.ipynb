{
 "cells": [
  {
   "cell_type": "code",
   "execution_count": 20,
   "id": "a673cfe9-31bb-4d87-8633-1790d48e946a",
   "metadata": {},
   "outputs": [
    {
     "name": "stdout",
     "output_type": "stream",
     "text": [
      "<!doctype html>\n",
      "<html>\n",
      "<head>\n",
      "    <title>Example Domain</title>\n",
      "\n",
      "    <meta charset=\"utf-8\" />\n",
      "    <meta http-equiv=\"Content-type\" content=\"text/html; charset=utf-8\" />\n",
      "    <meta name=\"viewport\" content=\"width=device-width, initial-scale=1\" />\n",
      "    <style type=\"text/css\">\n",
      "    body {\n",
      "        background-color: #f0f0f2;\n",
      "        margin: 0;\n",
      "        padding: 0;\n",
      "        font-family: -apple-system, system-ui, BlinkMacSystemFont, \"Segoe UI\", \"Open Sans\", \"Helvetica Neue\", Helvetica, Arial, sans-serif;\n",
      "        \n",
      "    }\n",
      "    div {\n",
      "        width: 600px;\n",
      "        margin: 5em auto;\n",
      "        padding: 2em;\n",
      "        background-color: #fdfdff;\n",
      "        border-radius: 0.5em;\n",
      "        box-shadow: 2px 3px 7px 2px rgba(0,0,0,0.02);\n",
      "    }\n",
      "    a:link, a:visited {\n",
      "        color: #38488f;\n",
      "        text-decoration: none;\n",
      "    }\n",
      "    @media (max-width: 700px) {\n",
      "        div {\n",
      "            margin: 0 auto;\n",
      "            width: auto;\n",
      "        }\n",
      "    }\n",
      "    </style>    \n",
      "</head>\n",
      "\n",
      "<body>\n",
      "<div>\n",
      "    <h1>Example Domain</h1>\n",
      "    <p>This domain is for use in illustrative examples in documents. You may use this\n",
      "    domain in literature without prior coordination or asking for permission.</p>\n",
      "    <p><a href=\"https://www.iana.org/domains/example\">More information...</a></p>\n",
      "</div>\n",
      "</body>\n",
      "</html>\n",
      "\n"
     ]
    }
   ],
   "source": [
    "#1. Write a program that fetches data from a specific URL and print it on screen.\n",
    "import requests\n",
    "def fetch_data(url):\n",
    "    response = requests.get(url)\n",
    "    print(response.text)\n",
    "url = \"https://www.example.com/?form=MG0AV3\"\n",
    "fetch_data(url)\n"
   ]
  },
  {
   "cell_type": "code",
   "execution_count": 5,
   "id": "89618393-04e9-44f1-90dc-429171bca1f0",
   "metadata": {},
   "outputs": [
    {
     "name": "stdout",
     "output_type": "stream",
     "text": [
      "Total size: 474188 bytes\n"
     ]
    }
   ],
   "source": [
    "#2. Write a Program that computes total size of all the files in your current directory folder.\n",
    "import os\n",
    "\n",
    "def total_size():\n",
    "    total = 0\n",
    "    with os.scandir('.') as entries:\n",
    "        for entry in entries:\n",
    "            if entry.is_file():\n",
    "                total += entry.stat().st_size\n",
    "    print(\"Total size:\", total, \"bytes\")\n",
    "\n",
    "total_size()\n"
   ]
  },
  {
   "cell_type": "code",
   "execution_count": 11,
   "id": "f5b40d5e-dd5b-4a39-975e-1fd8a33198fb",
   "metadata": {},
   "outputs": [
    {
     "name": "stdout",
     "output_type": "stream",
     "text": [
      "Line numbers added successfully to output.txt\n"
     ]
    }
   ],
   "source": [
    "#Q3.WAP that reads a file line by line and each line read from the file is copied and to another file with line numbers specified at the beginning of the line.\n",
    "f = open(r\"D:\\Subjects\\Python\\Input file.txt\", \"r\")\n",
    "\n",
    "outfile = open(r\"D:\\Subjects\\Python\\Output file.txt\", \"w\")\n",
    "\n",
    "line_number = 1\n",
    "\n",
    "for line in f:\n",
    "    outfile.write(f\"{line_number}: {line}\")\n",
    "    line_number += 1\n",
    "\n",
    "f.close()\n",
    "outfile.close()\n",
    "\n",
    "print(\"Line numbers added successfully to output.txt\")\n"
   ]
  },
  {
   "cell_type": "code",
   "execution_count": 12,
   "id": "0930d982-8ed3-4695-b258-c94841130bc0",
   "metadata": {},
   "outputs": [
    {
     "name": "stdout",
     "output_type": "stream",
     "text": [
      "Number of tabs: 0\n",
      "Number of spaces: 14\n",
      "Number of newlines: 2\n"
     ]
    }
   ],
   "source": [
    "#Q4.WAP that counts the number of tabs, spaces and newline characters in a file.\n",
    "file_path = r\"D:\\Subjects\\Python\\Output file.txt\"  \n",
    "\n",
    "with open(file_path, \"r\") as file:\n",
    "        tab_count = 0\n",
    "        space_count = 0\n",
    "        newline_count = 0\n",
    "        \n",
    "        for line in file:\n",
    "            tab_count += line.count('\\t')  \n",
    "            space_count += line.count(' ') \n",
    "            newline_count += line.count('\\n')  \n",
    "        \n",
    "        print(f\"Number of tabs: {tab_count}\")\n",
    "        print(f\"Number of spaces: {space_count}\")\n",
    "        print(f\"Number of newlines: {newline_count}\")\n",
    "        "
   ]
  },
  {
   "cell_type": "code",
   "execution_count": 13,
   "id": "e20e9cc0-c72c-45a9-a20d-72ecd2f91589",
   "metadata": {},
   "outputs": [
    {
     "name": "stdout",
     "output_type": "stream",
     "text": [
      "Vowel Percentage: 36.36%\n",
      "Consonant Percentage: 63.64%\n"
     ]
    }
   ],
   "source": [
    "#Q5.WAP that reads data from the file and calculates the percentage of vowels and consonants in the file.\n",
    "\n",
    "file_path = r\"D:\\Subjects\\Python\\Output file.txt\"  \n",
    "\n",
    "vowel_count = 0\n",
    "consonant_count = 0\n",
    "total_count = 0\n",
    "\n",
    "vowels = \"aeiouAEIOU\"\n",
    "with open(file_path, \"r\") as file:\n",
    "        \n",
    "        for line in file:\n",
    "           \n",
    "            for char in line:\n",
    "                if char.isalpha():\n",
    "                    total_count += 1\n",
    "                    if char in vowels:\n",
    "                            vowel_count += 1\n",
    "                    else:\n",
    "                        consonant_count += 1\n",
    "\n",
    "if total_count > 0:\n",
    "        vowel_percentage = (vowel_count / total_count) * 100\n",
    "        consonant_percentage = (consonant_count / total_count) * 100\n",
    "\n",
    "        print(f\"Vowel Percentage: {vowel_percentage:.2f}%\")\n",
    "        print(f\"Consonant Percentage: {consonant_percentage:.2f}%\")\n",
    "else:\n",
    "        print(\"No alphabetic characters found in the file.\")\n",
    "\n"
   ]
  },
  {
   "cell_type": "code",
   "execution_count": null,
   "id": "fa543543-c74a-487f-9a5b-23a490cdf821",
   "metadata": {},
   "outputs": [],
   "source": [
    "#Q6.What are different access modes in which you can open the file.\n",
    "'''Answer:\n",
    "What are different access modes in which you can open the file.\n",
    "In Python, you can open files in various modes depending on what you want to do with the file. Here are the different access modes you can use with the open() function:\n",
    "\n",
    "Read Mode\n",
    "'r': Read mode. Opens a file for reading only (default mode). The file pointer is placed at the beginning of the file. If the file does not exist, it raises an FileNotFoundError.\n",
    "\n",
    "Write Mode\n",
    "'w': Write mode. Opens a file for writing only. If the file exists, it truncates the file to zero length (i.e., deletes its contents). If the file does not exist, it creates a new file.\n",
    "\n",
    "Append Mode\n",
    "'a': Append mode. Opens a file for writing. The file pointer is at the end of the file if the file exists. That is, the file is in the append mode. If the file does not exist, it creates a new file.\n",
    "\n",
    "Read and Write Mode\n",
    "'r+': Read and write mode. Opens a file for both reading and writing. The file pointer is placed at the beginning of the file. If the file does not exist, it raises a FileNotFoundError.\n",
    "\n",
    "'w+': Write and read mode. Opens a file for both writing and reading. If the file exists, it truncates the file to zero length. If the file does not exist, it creates a new file.\n",
    "\n",
    "'a+': Append and read mode. Opens a file for both reading and writing. The file pointer is at the end of the file if the file exists. The file opens in the append mode. If the file does not exist, it creates a new file.\n",
    "\n",
    "Binary Mode\n",
    "'b': Binary mode. You can combine this with other modes to specify that a file should be treated as binary. For example:\n",
    "\n",
    "'rb': Read-only binary mode.\n",
    "\n",
    "'wb': Write-only binary mode.\n",
    "\n",
    "'ab': Append-only binary mode.\n",
    "\n",
    "'r+b': Read and write binary mode.\n",
    "\n",
    "'w+b': Write and read binary mode.\n",
    "\n",
    "'a+b': Append and read binary mode.\n",
    "\n",
    "Text Mode\n",
    "'t': Text mode (default mode). You can combine this with other modes to specify that a file should be treated as text. For example:\n",
    "\n",
    "'rt': Read-only text mode.\n",
    "\n",
    "'wt': Write-only text mode.\n",
    "\n",
    "'at': Append-only text mode.\n",
    "\n",
    "In most cases, text mode is the default when opening a file, so you don't need to specify 't' explicitly. However, binary mode can be important when dealing with non-text files like images or executables.'''"
   ]
  },
  {
   "cell_type": "code",
   "execution_count": 17,
   "id": "784eb601-c654-4fd2-8d54-ece5927c568f",
   "metadata": {},
   "outputs": [
    {
     "name": "stdout",
     "output_type": "stream",
     "text": [
      "Hello world. This is Shashank. The roll number is [24901323]. Hello hello.\n"
     ]
    }
   ],
   "source": [
    "#Q7.WAP that writes data to a file in such a way that each character after a full stop is capitalized and all the numbers are written in brackets.\n",
    "import re\n",
    "\n",
    "data = \"Hello world. this is Shashank. the roll number is 24901323. hello hello.\"\n",
    "\n",
    "data = re.sub(r'(\\.)(\\s*)([a-z])', lambda m: m.group(1) + m.group(2) + m.group(3).upper(), data)\n",
    "\n",
    "data = re.sub(r'(\\d+)', r'[\\1]', data)\n",
    "\n",
    "with open(r\"D:\\Subjects\\Python\\Input file.txt\" , \"w\") as file:\n",
    "    file.write(data)\n",
    "\n",
    "print(data)\n"
   ]
  },
  {
   "cell_type": "code",
   "execution_count": 18,
   "id": "b822a314-5b0a-47e4-b83d-ba2b2fbe49e7",
   "metadata": {},
   "outputs": [
    {
     "name": "stdout",
     "output_type": "stream",
     "text": [
      "Hello world, This is Shashank, The roll number is [24901323], Hello hello,\n"
     ]
    }
   ],
   "source": [
    "#Q8.WAP that reads and copies the contents in another file. While copying replace all full stops with commas.\n",
    "# Define the source file path and destination file path\n",
    "source_file_path = r\"D:\\Subjects\\Python\\Input file.txt\"\n",
    "destination_file_path = r\"D:\\Subjects\\Python\\Output file.txt\"\n",
    "\n",
    "with open(source_file_path, \"r\") as source_file:\n",
    "    content = source_file.read()\n",
    "\n",
    "modified_content = content.replace(\".\", \",\")\n",
    "\n",
    "with open(destination_file_path, \"w\") as destination_file:\n",
    "    destination_file.write(modified_content)\n",
    "\n",
    "print(modified_content)\n"
   ]
  },
  {
   "cell_type": "code",
   "execution_count": null,
   "id": "71d91445-0801-4d96-a693-9e197f9a1ffe",
   "metadata": {},
   "outputs": [],
   "source": []
  }
 ],
 "metadata": {
  "kernelspec": {
   "display_name": "Python 3 (ipykernel)",
   "language": "python",
   "name": "python3"
  },
  "language_info": {
   "codemirror_mode": {
    "name": "ipython",
    "version": 3
   },
   "file_extension": ".py",
   "mimetype": "text/x-python",
   "name": "python",
   "nbconvert_exporter": "python",
   "pygments_lexer": "ipython3",
   "version": "3.12.5"
  }
 },
 "nbformat": 4,
 "nbformat_minor": 5
}
