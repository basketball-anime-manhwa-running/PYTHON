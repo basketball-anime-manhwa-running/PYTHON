{
 "cells": [
  {
   "cell_type": "code",
   "execution_count": 3,
   "id": "b771bfe9-c592-4e20-837c-635f90557c40",
   "metadata": {},
   "outputs": [
    {
     "name": "stdin",
     "output_type": "stream",
     "text": [
      "Enter x1:  1\n",
      "Enter y1:  2\n",
      "Enter x2:  3\n",
      "Enter y2:  4\n"
     ]
    },
    {
     "name": "stdout",
     "output_type": "stream",
     "text": [
      "Distance is : 2.8284271247461903\n"
     ]
    }
   ],
   "source": [
    "import math\n",
    "\n",
    "def distance():\n",
    "    x1 = float(input(\"Enter x1: \"))\n",
    "    y1 = float(input(\"Enter y1: \"))\n",
    "    x2 = float(input(\"Enter x2: \"))\n",
    "    y2 = float(input(\"Enter y2: \"))\n",
    "    return math.sqrt((x2 - x1)**2 + (y2 - y1)**2)\n",
    "\n",
    "print(\"Distance is :\", distance())\n"
   ]
  },
  {
   "cell_type": "code",
   "execution_count": 5,
   "id": "5e82ce55-325d-4ed3-9f4a-e41eea1e2f19",
   "metadata": {},
   "outputs": [
    {
     "name": "stdin",
     "output_type": "stream",
     "text": [
      "Enter side a:  5\n",
      "Enter side b:  4\n",
      "Enter side c:  6\n"
     ]
    },
    {
     "name": "stdout",
     "output_type": "stream",
     "text": [
      "Area of the triangle: 9.921567416492215\n"
     ]
    }
   ],
   "source": [
    "def triangle_area():\n",
    "    a = float(input(\"Enter side a: \"))\n",
    "    b = float(input(\"Enter side b: \"))\n",
    "    c = float(input(\"Enter side c: \"))\n",
    "    s = (a + b + c) / 2\n",
    "    return (s * (s - a) * (s - b) * (s - c)) ** 0.5\n",
    "\n",
    "print(\"Area of the triangle:\", triangle_area())\n"
   ]
  },
  {
   "cell_type": "code",
   "execution_count": 6,
   "id": "8ac5e82a-6795-4905-b1f7-207c994f13d7",
   "metadata": {},
   "outputs": [
    {
     "name": "stdin",
     "output_type": "stream",
     "text": [
      "Enter quantity:  1\n",
      "Enter value per item:  5\n",
      "Enter discount percentage:  20\n",
      "Enter tax percentage:  18\n"
     ]
    },
    {
     "name": "stdout",
     "output_type": "stream",
     "text": [
      "Bill amount: 4.72\n"
     ]
    }
   ],
   "source": [
    "def calculate_bill():\n",
    "    quantity = int(input(\"Enter quantity: \"))\n",
    "    value = float(input(\"Enter value per item: \"))\n",
    "    discount = float(input(\"Enter discount percentage: \"))\n",
    "    tax = float(input(\"Enter tax percentage: \"))\n",
    "    total = quantity * value\n",
    "    total -= total * (discount / 100)\n",
    "    total += total * (tax / 100)\n",
    "    return total\n",
    "print(\"Bill amount:\", calculate_bill())\n"
   ]
  },
  {
   "cell_type": "code",
   "execution_count": 8,
   "id": "bc78a1fc-afb0-4203-a45a-4b1afa7bfa33",
   "metadata": {},
   "outputs": [
    {
     "name": "stdout",
     "output_type": "stream",
     "text": [
      "12345678\n",
      "12345678\n"
     ]
    }
   ],
   "source": [
    "s = \"1234\"\n",
    "n = 5678\n",
    "result_str = s + str(n)\n",
    "print(result_str)\n",
    "result_int = int(result_str)\n",
    "print(result_int)  \n"
   ]
  },
  {
   "cell_type": "code",
   "execution_count": 10,
   "id": "a914a01c-f42c-4d51-add9-b03b05bf47a1",
   "metadata": {},
   "outputs": [
    {
     "name": "stdout",
     "output_type": "stream",
     "text": [
      "a = 3\n",
      "b = 7\n"
     ]
    }
   ],
   "source": [
    "a = 7\n",
    "b = 3\n",
    "a, b = b, a\n",
    "print(\"a =\", a) \n",
    "print(\"b =\", b)  \n"
   ]
  },
  {
   "cell_type": "code",
   "execution_count": 11,
   "id": "01d8360a-ca61-4b0c-adc9-95076eddadde",
   "metadata": {},
   "outputs": [
    {
     "name": "stdout",
     "output_type": "stream",
     "text": [
      "Average: 30.0\n"
     ]
    }
   ],
   "source": [
    "numbers = [10, 20, 30, 40, 50]\n",
    "total_sum = sum(numbers)\n",
    "count = len(numbers)\n",
    "average = total_sum / count\n",
    "print(\"Average:\", average)  \n"
   ]
  },
  {
   "cell_type": "code",
   "execution_count": 12,
   "id": "384c9367-27d7-4a87-a575-8549df787a57",
   "metadata": {},
   "outputs": [
    {
     "name": "stdin",
     "output_type": "stream",
     "text": [
      "Enter operation (+, -, *, /):  /\n",
      "Enter first number:  6\n",
      "Enter second number:  5\n"
     ]
    },
    {
     "name": "stdout",
     "output_type": "stream",
     "text": [
      "Result: 1.2\n"
     ]
    }
   ],
   "source": [
    "def calculator():\n",
    "    operation = input(\"Enter operation (+, -, *, /): \")\n",
    "    num1 = float(input(\"Enter first number: \"))\n",
    "    num2 = float(input(\"Enter second number: \"))\n",
    "    if operation == '+':\n",
    "        print(\"Result:\", num1 + num2)\n",
    "    elif operation == '-':\n",
    "        print(\"Result:\", num1 - num2)\n",
    "    elif operation == '*':\n",
    "        print(\"Result:\", num1 * num2)\n",
    "    elif operation == '/':\n",
    "        if num2 != 0:\n",
    "            print(\"Result:\", num1 / num2)\n",
    "        else:\n",
    "            print(\"Error: Division by zero is not allowed.\")\n",
    "    else:\n",
    "        print(\"Invalid operation\")\n",
    "\n",
    "calculator()\n"
   ]
  },
  {
   "cell_type": "code",
   "execution_count": 2,
   "id": "b3af3273-2511-4345-b5af-4f36d339db77",
   "metadata": {},
   "outputs": [
    {
     "name": "stdout",
     "output_type": "stream",
     "text": [
      "15\n"
     ]
    }
   ],
   "source": [
    "x=5\n",
    "print(x*3)"
   ]
  },
  {
   "cell_type": "code",
   "execution_count": null,
   "id": "200bdb79-2b19-40a6-b2d0-f6a59205613e",
   "metadata": {},
   "outputs": [],
   "source": []
  }
 ],
 "metadata": {
  "kernelspec": {
   "display_name": "Python 3 (ipykernel)",
   "language": "python",
   "name": "python3"
  },
  "language_info": {
   "codemirror_mode": {
    "name": "ipython",
    "version": 3
   },
   "file_extension": ".py",
   "mimetype": "text/x-python",
   "name": "python",
   "nbconvert_exporter": "python",
   "pygments_lexer": "ipython3",
   "version": "3.12.5"
  }
 },
 "nbformat": 4,
 "nbformat_minor": 5
}
