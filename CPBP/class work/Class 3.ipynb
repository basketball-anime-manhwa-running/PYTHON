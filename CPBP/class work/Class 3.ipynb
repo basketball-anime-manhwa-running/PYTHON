{
 "cells": [
  {
   "cell_type": "code",
   "execution_count": 1,
   "id": "80533885-5697-4fbb-8a18-d9219c32c203",
   "metadata": {},
   "outputs": [
    {
     "name": "stdout",
     "output_type": "stream",
     "text": [
      "Enter a positive integer:  5\n"
     ]
    },
    {
     "name": "stdout",
     "output_type": "stream",
     "text": [
      "The 5-th Fibonacci number is: 5\n"
     ]
    }
   ],
   "source": [
    "# Recursion function to calculate Fibonacci number\n",
    "def recursive(n):\n",
    "    if n <= 1:\n",
    "        return n\n",
    "    else:\n",
    "        return recursive(n-1) + recursive(n-2)\n",
    "try:\n",
    "    n = int(input(\"Enter a positive integer: \"))\n",
    "    if n < 0:\n",
    "        print(\"Please enter a positive integer.\")\n",
    "    else:\n",
    "        x = recursive(n)\n",
    "        print(f\"The {n}-th Fibonacci number is: {x}\")\n",
    "except ValueError:\n",
    "    print(\"Invalid input. Please enter a valid integer.\")\n",
    "    \n"
   ]
  },
  {
   "cell_type": "code",
   "execution_count": 18,
   "id": "a27ce0e1-9b9f-4016-ba43-bb781a2c889a",
   "metadata": {},
   "outputs": [
    {
     "name": "stdout",
     "output_type": "stream",
     "text": [
      "-8\n"
     ]
    }
   ],
   "source": [
    "#recursion function\n",
    "def fibonacci(n):\n",
    "    if n<=0:\n",
    "        return n\n",
    "    else:\n",
    "        return fibonacci(n-1)+ fibonacci(n-2)\n",
    "def fibonacci_sum(n):\n",
    "    if n<=1:\n",
    "        return n\n",
    "    else:\n",
    "        return fibonacci(n)+ fibonacci(n-1)\n",
    "n=5\n",
    "x = fibonacci_sum(n)\n",
    "print(x)\n",
    "\n",
    " "
   ]
  },
  {
   "cell_type": "code",
   "execution_count": 26,
   "id": "d8bf953f-9b24-41fc-97b2-ea6a1de7804e",
   "metadata": {},
   "outputs": [
    {
     "data": {
      "text/plain": [
       "125"
      ]
     },
     "execution_count": 26,
     "metadata": {},
     "output_type": "execute_result"
    }
   ],
   "source": [
    "def pwr(num,power):\n",
    "    if power==0:\n",
    "        return 1\n",
    "    else:\n",
    "        return num* pwr(num,power-1)\n",
    "pwr(5,3)"
   ]
  },
  {
   "cell_type": "code",
   "execution_count": 27,
   "id": "2882b1e7-2d8b-4b02-9f56-e8da6e65b2e5",
   "metadata": {},
   "outputs": [
    {
     "data": {
      "text/plain": [
       "125"
      ]
     },
     "execution_count": 27,
     "metadata": {},
     "output_type": "execute_result"
    }
   ],
   "source": [
    "#wap to calculate exponential of x,y using recursion\n"
   ]
  },
  {
   "cell_type": "code",
   "execution_count": 42,
   "id": "e23fc1cf-a9d9-4d40-9526-b303beb4f93b",
   "metadata": {},
   "outputs": [
    {
     "name": "stdout",
     "output_type": "stream",
     "text": [
      "7976644.307687259\n"
     ]
    }
   ],
   "source": [
    "def power(x,y):\n",
    "    if y == 0:\n",
    "        return 1\n",
    "    else:\n",
    "        return x*power(x,y-1)\n",
    "z=power(2,4)\n",
    "print(2.7**z)"
   ]
  },
  {
   "cell_type": "code",
   "execution_count": 39,
   "id": "df914f48-110e-443e-838b-9d058c8251f8",
   "metadata": {},
   "outputs": [
    {
     "name": "stdout",
     "output_type": "stream",
     "text": [
      "143.48907000000005\n"
     ]
    }
   ],
   "source": [
    "x=5\n",
    "y=2.7**x\n",
    "print(y)"
   ]
  },
  {
   "cell_type": "code",
   "execution_count": 48,
   "id": "8c0a1023-8a8a-4989-a982-120d096f8411",
   "metadata": {},
   "outputs": [
    {
     "name": "stdout",
     "output_type": "stream",
     "text": [
      "4.0\n",
      "720\n"
     ]
    }
   ],
   "source": [
    "from math import sqrt, factorial \n",
    "print (sqrt(16))\n",
    "print(factorial(6))"
   ]
  },
  {
   "cell_type": "code",
   "execution_count": 54,
   "id": "22b4df01-ab89-48ac-8019-0cda8b831b57",
   "metadata": {
    "scrolled": true
   },
   "outputs": [
    {
     "name": "stdout",
     "output_type": "stream",
     "text": [
      "['C:\\\\Users\\\\raosh\\\\AppData\\\\Local\\\\Programs\\\\Python\\\\Python312\\\\python312.zip', 'C:\\\\Users\\\\raosh\\\\AppData\\\\Local\\\\Programs\\\\Python\\\\Python312\\\\DLLs', 'C:\\\\Users\\\\raosh\\\\AppData\\\\Local\\\\Programs\\\\Python\\\\Python312\\\\Lib', 'C:\\\\Users\\\\raosh\\\\AppData\\\\Local\\\\Programs\\\\Python\\\\Python312', '', 'C:\\\\Users\\\\raosh\\\\AppData\\\\Local\\\\Programs\\\\Python\\\\Python312\\\\Lib\\\\site-packages', 'C:\\\\Users\\\\raosh\\\\AppData\\\\Local\\\\Programs\\\\Python\\\\Python312\\\\Lib\\\\site-packages\\\\win32', 'C:\\\\Users\\\\raosh\\\\AppData\\\\Local\\\\Programs\\\\Python\\\\Python312\\\\Lib\\\\site-packages\\\\win32\\\\lib', 'C:\\\\Users\\\\raosh\\\\AppData\\\\Local\\\\Programs\\\\Python\\\\Python312\\\\Lib\\\\site-packages\\\\Pythonwin']\n"
     ]
    }
   ],
   "source": [
    "#from module_name import--This will import the complete module\n",
    "#random module\n",
    "#from keyword bhi dekhlena bhaii\n",
    "#printing modules bhi pdhne h\n",
    "import sys\n",
    "print(sys.path)"
   ]
  },
  {
   "cell_type": "code",
   "execution_count": 56,
   "id": "f7f975e3-cfe4-4568-bc64-d5fee319b566",
   "metadata": {
    "scrolled": true
   },
   "outputs": [
    {
     "name": "stdout",
     "output_type": "stream",
     "text": [
      "4.0\n"
     ]
    }
   ],
   "source": [
    "import math as mt\n",
    "print(mt.sqrt(16))"
   ]
  },
  {
   "cell_type": "code",
   "execution_count": 61,
   "id": "10889bbf-e5dc-42b4-84e3-160c13baf6e7",
   "metadata": {},
   "outputs": [
    {
     "name": "stdout",
     "output_type": "stream",
     "text": [
      "the new created array1 the new created array1 the new created array1 \n",
      "the new created array2 the new created array2 the new created array2 \n",
      "array after insertion:223\n",
      "Array after insertion:2234\n"
     ]
    }
   ],
   "source": [
    "#calculate the number of iteration and runtime of your code\n",
    "#create an array in python by importing a module\n",
    "import array as arr\n",
    "a=arr.array(\"i\",[1,2,3])\n",
    "for i in range(0,3):\n",
    "    print(\"the new created array1\",end=\" \")\n",
    "print()\n",
    "\n",
    "\n",
    "b=arr.array(\"i\",[2,2,3])\n",
    "for i in range(0,3):\n",
    "    print(\"the new created array2\",end=\" \")\n",
    "print()\n",
    "a.insert(1,4)\n",
    "print(\"array after insertion:\",end=\"\")\n",
    "for i in range (0,3):\n",
    "    print(b[i],end=\"\")\n",
    "print()\n",
    "b.append(4)\n",
    "print(\"Array after insertion:\",end=\"\")\n",
    "for i in (b):\n",
    "    print(i,end=\"\")\n",
    "print()\n"
   ]
  },
  {
   "cell_type": "code",
   "execution_count": null,
   "id": "5cf3af17-47ee-4e08-a482-7026652f1de9",
   "metadata": {},
   "outputs": [],
   "source": []
  }
 ],
 "metadata": {
  "kernelspec": {
   "display_name": "Python 3 (ipykernel)",
   "language": "python",
   "name": "python3"
  },
  "language_info": {
   "codemirror_mode": {
    "name": "ipython",
    "version": 3
   },
   "file_extension": ".py",
   "mimetype": "text/x-python",
   "name": "python",
   "nbconvert_exporter": "python",
   "pygments_lexer": "ipython3",
   "version": "3.12.5"
  }
 },
 "nbformat": 4,
 "nbformat_minor": 5
}
