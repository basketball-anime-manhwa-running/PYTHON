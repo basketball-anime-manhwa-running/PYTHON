{
 "cells": [
  {
   "cell_type": "code",
   "execution_count": 2,
   "id": "eedf4ff2-f9b9-4a32-b778-0fc7ad93af46",
   "metadata": {},
   "outputs": [
    {
     "name": "stdout",
     "output_type": "stream",
     "text": [
      "dict['Age']: 8\n",
      "dict['School']: DPS School\n"
     ]
    }
   ],
   "source": [
    "dict={\"Name\":'Zara', \"Age\":7, \"Class\": 'First'}\n",
    "dict['Age']=8;\n",
    "dict['School']=\"DPS School\"\n",
    "print(\"dict['Age']:\",dict['Age'])\n",
    "print(\"dict['School']:\",dict['School'])\n"
   ]
  },
  {
   "cell_type": "code",
   "execution_count": 4,
   "id": "31fec7f7-3c5a-4d40-a338-44d7b355d215",
   "metadata": {},
   "outputs": [
    {
     "name": "stdout",
     "output_type": "stream",
     "text": [
      "{'Age': 7, 'Class': 'First'}\n"
     ]
    }
   ],
   "source": [
    "dict={\"Name\":'Zara', \"Age\":7, \"Class\": 'First'}\n",
    "del dict['Name']\n",
    "print(dict)"
   ]
  },
  {
   "cell_type": "code",
   "execution_count": 7,
   "id": "3cb58227-c851-413d-9ac3-b95e964e616b",
   "metadata": {},
   "outputs": [
    {
     "name": "stdout",
     "output_type": "stream",
     "text": [
      "{}\n"
     ]
    }
   ],
   "source": [
    "dict={\"Name\":'Zara', \"Age\":7, \"Class\": 'First'}\n",
    "dict.clear()\n",
    "print(dict)"
   ]
  },
  {
   "cell_type": "code",
   "execution_count": 10,
   "id": "96d014ae-fccb-4391-91bb-e415443f0b01",
   "metadata": {},
   "outputs": [
    {
     "name": "stdout",
     "output_type": "stream",
     "text": [
      "Tara\n"
     ]
    }
   ],
   "source": [
    "dict={\"Name\":'Zara', \"Name\":'Lara',\"Name\":'Tara', \"Age\":7, \"Class\": 'First'}\n",
    "print(dict['Name'])"
   ]
  },
  {
   "cell_type": "code",
   "execution_count": 30,
   "id": "fab45337-746b-483d-b65c-fc8790121205",
   "metadata": {},
   "outputs": [
    {
     "name": "stdout",
     "output_type": "stream",
     "text": [
      "{'Name': 'Tara', 'Age': 7, 'Class': 'First'}\n",
      "{'Name': 'Tara', 'Age': 7, 'Class': 'First'}\n"
     ]
    }
   ],
   "source": [
    "dict={\"Name\":'Zara', \"Name\":'Lara',\"Name\":'Tara', \"Age\":7, \"Class\": 'First'}\n",
    "print(str(dict))\n"
   ]
  },
  {
   "cell_type": "code",
   "execution_count": 13,
   "id": "ca4cec14-a04c-458c-949b-e5130f1985fe",
   "metadata": {},
   "outputs": [
    {
     "name": "stdout",
     "output_type": "stream",
     "text": [
      "<class 'dict'>\n"
     ]
    }
   ],
   "source": [
    "dict={\"Name\":'Zara', \"Name\":'Lara',\"Name\":'Tara', \"Age\":7, \"Class\": 'First'}\n",
    "print(type(dict))"
   ]
  },
  {
   "cell_type": "code",
   "execution_count": 15,
   "id": "8fc5176a-d62e-4e1d-8b84-e24ead783718",
   "metadata": {},
   "outputs": [
    {
     "name": "stdout",
     "output_type": "stream",
     "text": [
      "{'name': None, 'age': None, 'sex': None}\n",
      "{'name': 10, 'age': 10, 'sex': 10}\n"
     ]
    }
   ],
   "source": [
    "seq=('name','age','sex')\n",
    "dict=dict.fromkeys(seq)\n",
    "print(str(dict))\n",
    "dict=dict.fromkeys(seq,10)\n",
    "print(str(dict))"
   ]
  },
  {
   "cell_type": "code",
   "execution_count": 18,
   "id": "882c1622-f158-42bc-9d54-b02d442c8cd2",
   "metadata": {},
   "outputs": [
    {
     "name": "stdout",
     "output_type": "stream",
     "text": [
      "10\n"
     ]
    }
   ],
   "source": [
    "dict = {'name': 'S', 'age': 10, 'sex': 'M'}\n",
    "print(dict.get('age'))"
   ]
  },
  {
   "cell_type": "code",
   "execution_count": 19,
   "id": "26615e5e-698e-4efb-8722-b704015eadab",
   "metadata": {},
   "outputs": [
    {
     "name": "stdout",
     "output_type": "stream",
     "text": [
      "dict_items([('name', 'S'), ('age', 10), ('sex', 'M')])\n"
     ]
    }
   ],
   "source": [
    "#returns list of tuple pairs\n",
    "dict = {'name': 'S', 'age': 10, 'sex': 'M'}\n",
    "print(dict.items())"
   ]
  },
  {
   "cell_type": "code",
   "execution_count": 28,
   "id": "0bad81e5-917c-4d28-9db6-62487f226f75",
   "metadata": {},
   "outputs": [
    {
     "name": "stdout",
     "output_type": "stream",
     "text": [
      "7\n",
      "None\n"
     ]
    }
   ],
   "source": [
    "dict = {\"Name\": \"Tara\", \"Age\": 7}\n",
    "print( dict.setdefault(\"Age\", None))\n",
    "print(dict.setdefault(\"Sex\",None))\n"
   ]
  },
  {
   "cell_type": "code",
   "execution_count": 21,
   "id": "6ede15a5-ce1a-44da-bdb1-52c097221dd2",
   "metadata": {},
   "outputs": [
    {
     "name": "stdout",
     "output_type": "stream",
     "text": [
      "{'name': 'S', 'age': 10, 'sex': 'M', 'Name': 'Tara', 'Age': 7, 'Class': 'First'}\n"
     ]
    }
   ],
   "source": [
    "dict1 = {'name': 'S', 'age': 10, 'sex': 'M'}\n",
    "dict2 ={\"Name\":'Tara', \"Age\":7, \"Class\": 'First'}\n",
    "dict3={}\n",
    "dict3.update(dict1)\n",
    "dict3.update(dict2)\n",
    "print(dict3)"
   ]
  },
  {
   "cell_type": "code",
   "execution_count": 46,
   "id": "b90a29ef-9af4-4c9d-8927-2afa5b2b65dd",
   "metadata": {},
   "outputs": [
    {
     "name": "stdout",
     "output_type": "stream",
     "text": [
      "[4, 5, 10]\n"
     ]
    }
   ],
   "source": [
    "my_dict = {'a': 5, 'b': 4, 'c': 10}\n",
    "sorted_dict=sorted(my_dict.values())\n",
    "print(sorted_dict)\n"
   ]
  },
  {
   "cell_type": "code",
   "execution_count": 79,
   "id": "08f36db7-24a2-4025-bb32-61a00f480607",
   "metadata": {},
   "outputs": [
    {
     "name": "stdout",
     "output_type": "stream",
     "text": [
      " 1634\n"
     ]
    },
    {
     "name": "stdout",
     "output_type": "stream",
     "text": [
      "1634\n",
      "True\n"
     ]
    }
   ],
   "source": [
    "a=int(input())\n",
    "b=str(a)\n",
    "n=len(b)\n",
    "v=int(a)\n",
    "sum = 0\n",
    "for i in range (1,n+1):\n",
    "    z=v%10\n",
    "    v=int(v/10)\n",
    "    x=z**n\n",
    "    sum= sum+x\n",
    "print(sum)\n",
    "if sum == a:\n",
    "    print(\"True\")\n",
    "else:\n",
    "    print(\"False\")\n",
    "    \n",
    "\n",
    "\n"
   ]
  },
  {
   "cell_type": "code",
   "execution_count": null,
   "id": "698f27f4-0f74-446d-b293-d84b2648b241",
   "metadata": {},
   "outputs": [],
   "source": [
    "#string a sarre permutation and combination print krwao"
   ]
  }
 ],
 "metadata": {
  "kernelspec": {
   "display_name": "Python 3 (ipykernel)",
   "language": "python",
   "name": "python3"
  },
  "language_info": {
   "codemirror_mode": {
    "name": "ipython",
    "version": 3
   },
   "file_extension": ".py",
   "mimetype": "text/x-python",
   "name": "python",
   "nbconvert_exporter": "python",
   "pygments_lexer": "ipython3",
   "version": "3.12.5"
  }
 },
 "nbformat": 4,
 "nbformat_minor": 5
}
