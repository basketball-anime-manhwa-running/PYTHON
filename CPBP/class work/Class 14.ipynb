{
 "cells": [
  {
   "cell_type": "code",
   "execution_count": null,
   "id": "fddd4414-20ef-40c7-8bae-6399565e9cba",
   "metadata": {},
   "outputs": [],
   "source": [
    "''' Object or instance is created once a class is defined to access class variable and class methods using dot operators.\n",
    "The class of an object determines which attributes the boject will have.'''\n",
    "class Circle:\n",
    "    def __init__(self, center, radius):\n",
    "        self.center = center\n",
    "        self.radius = radius\n",
    "\n",
    "    def draw(self, canvas):\n",
    "        rad = self.radius\n",
    "        x1 = self.center[0] - rad\n",
    "        y1 = self.center[1] - rad\n",
    "        x2 = self.center[0] + rad\n",
    "        y2 = self.center[1] + rad\n",
    "        canvas.create_oval(x1, y1, x2, y2, fill='green')\n",
    "\n",
    "    def move(self, x, y):\n",
    "        self.center = (x, y)\n",
    "\n",
    "# Example usage with a tkinter canvas\n",
    "import tkinter as tk\n",
    "\n",
    "def main():\n",
    "    root = tk.Tk()\n",
    "    canvas = tk.Canvas(root, width=400, height=400)\n",
    "    canvas.pack()\n",
    "\n",
    "    circle = Circle((200, 200), 5)\n",
    "    circle.draw(canvas)\n",
    "    root.mainloop()\n",
    "\n",
    "if __name__ == \"__main__\":\n",
    "    main()\n",
    "\n",
    "#search canvas.create"
   ]
  },
  {
   "cell_type": "code",
   "execution_count": 6,
   "id": "506952d5-8d29-4d37-a321-50cb14e36b16",
   "metadata": {},
   "outputs": [
    {
     "data": {
      "text/plain": [
       "'the object constructor method is named __init__\\nthe primary duty of the constructor is to set the state of the object attributes(instance variables)\\nmycircle = Circle([10,30],20)'"
      ]
     },
     "execution_count": 6,
     "metadata": {},
     "output_type": "execute_result"
    }
   ],
   "source": [
    "'''the object constructor method is named __init__\n",
    "the primary duty of the constructor is to set the state of the object attributes(instance variables)\n",
    "mycircle = Circle([10,30],20)'''"
   ]
  },
  {
   "cell_type": "code",
   "execution_count": null,
   "id": "0268b6df-adab-4e88-b3cb-ca81fa4925a5",
   "metadata": {},
   "outputs": [],
   "source": [
    "#Instance variable\n",
    "'''attributes instance variables--it represents a characterstics of a class when a object is created and the values are assigned to the attributes,t\n",
    "they are referred to as instance variable\n",
    "self is a refernece to the current instance. Self let's you access all the instance variables for the specific instance you're working with.\n",
    "#data processing with class"
   ]
  }
 ],
 "metadata": {
  "kernelspec": {
   "display_name": "Python 3 (ipykernel)",
   "language": "python",
   "name": "python3"
  },
  "language_info": {
   "codemirror_mode": {
    "name": "ipython",
    "version": 3
   },
   "file_extension": ".py",
   "mimetype": "text/x-python",
   "name": "python",
   "nbconvert_exporter": "python",
   "pygments_lexer": "ipython3",
   "version": "3.12.5"
  }
 },
 "nbformat": 4,
 "nbformat_minor": 5
}
