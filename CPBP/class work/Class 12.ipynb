{
 "cells": [
  {
   "cell_type": "code",
   "execution_count": 3,
   "id": "57ea2da6-1dcb-4bed-b12b-43f0ce573ae6",
   "metadata": {},
   "outputs": [
    {
     "name": "stdout",
     "output_type": "stream",
     "text": [
      "Done\n"
     ]
    }
   ],
   "source": [
    "import re\n",
    "\n",
    "if re.search(r'/Gabc','abcbacabc'):\n",
    "    print(\"Done\")\n",
    "else:\n",
    "    print(\"Not Done\")"
   ]
  },
  {
   "cell_type": "code",
   "execution_count": 3,
   "id": "77280fdd-04a3-4184-a793-a22bf87b0238",
   "metadata": {},
   "outputs": [
    {
     "name": "stdout",
     "output_type": "stream",
     "text": [
      "Done\n"
     ]
    }
   ],
   "source": [
    "import re\n",
    "\n",
    "if re.search(r'abc', 'abcbacabc'):\n",
    "    print(\"Done\")\n",
    "else:\n",
    "    print(\"Not Done\")\n"
   ]
  },
  {
   "cell_type": "code",
   "execution_count": 27,
   "id": "1e9d2b09-f047-4277-8071-0ffe8ee1445f",
   "metadata": {},
   "outputs": [
    {
     "name": "stdout",
     "output_type": "stream",
     "text": [
      "match hidededede\n",
      "match hi\n"
     ]
    }
   ],
   "source": [
    "#character classes--when we put the characters to be matced insdie a square bracket we call it a character classs ex- [aeiou]\n",
    "#progrm to demonstrate the use of meta character \n",
    "import re\n",
    "\n",
    "pattern = r\"hi(de)*\"\n",
    "if re.search(pattern, \"hidededede\"):\n",
    "    print(\"match hidededede\")\n",
    "if re.search(pattern, \"heeee\"):\n",
    "    print(\"match hidededede\")\n",
    "if re.search(pattern, \"hi\"):\n",
    "    print(\"match hi\")\n"
   ]
  },
  {
   "cell_type": "code",
   "execution_count": 29,
   "id": "11681f27-15f0-458a-bdd9-a2a10d976b7f",
   "metadata": {},
   "outputs": [
    {
     "name": "stdout",
     "output_type": "stream",
     "text": [
      "match ea\n",
      "match greaaaaat\n"
     ]
    }
   ],
   "source": [
    "#groups--group is created by surrounding a part of RE with paranthesis\n",
    "#wap to demonstrate use of groups\n",
    "import re\n",
    "pattern = r\"gr(ea)*t\"\n",
    "if re.match(pattern,\"great\"):\n",
    "    print(\"match ea\")\n",
    "if re.match(pattern,\"greaeaeaeat\"):\n",
    "    print(\"match greaaaaat\")"
   ]
  },
  {
   "cell_type": "code",
   "execution_count": 30,
   "id": "8b8ec512-2dd6-41a2-ac9a-3b0173a3b5a1",
   "metadata": {},
   "outputs": [
    {
     "name": "stdout",
     "output_type": "stream",
     "text": [
      "match\n"
     ]
    }
   ],
   "source": [
    "#application of RE to extrct email-we can use RE to extract date,time,email address from the text\n",
    "#ex we know that an email address has username which consist of characters and may include dot(.) or dashes(--) the username is followed by  \n",
    "# @ sign and the domain name. The domain name may also include characters,dashes and dots for ex info-books@oxford-india.com. Now RE representing the \n",
    "# structure of the email address can be written as \n",
    "# pattern=r\"[\\w.-]+@[\\w.-]+\" this is the RE representing the structure of email address. it matches one or more occurences of characters dot(.) or dash(-)\n",
    "#wap that uses a RE to match strings which starts with sequence of digits(at least one digit) followed by a blank and after this arbitrary characters\n",
    "import re\n",
    "pattern = r\"^[0-9]+.*\"\n",
    "string=\"123 abc\"\n",
    "match=re.search(pattern,string)\n",
    "if match:\n",
    "    print(\"match\")"
   ]
  },
  {
   "cell_type": "code",
   "execution_count": null,
   "id": "eff0c431-7ac7-4352-b571-e06b5673aced",
   "metadata": {},
   "outputs": [],
   "source": [
    "#File handling - a file is collection of data stored on a secondary storage device like hard disk\n",
    "#basically when a program is being executed the data is stored in random access memory which is accessed by CPU however it is volatile which means\n",
    "#when the program ends or the computer shuts down all the data is lost hence we need to store this data on a permanent or non volatile storage media such \n",
    "#hard disk,dvd etc and the data is stored in these devices in some named locations which are known as files\n",
    "#in order to use files we have to learn file input and output operations that is how the data is read or return to a file. When doing a file input-output\n",
    "#operation the user must specify the name of the file from which the data should be read or return\n",
    "''' file path --every file is identified by it's path that begins from the root node or root folder in windows C:\\ also knwon as C drive is a root folder\n",
    "but you can also have a path that starts from other drive like D:\\, E:\\ drive. The file path is also known as path name\n",
    "       - Teachers\n",
    "\n",
    "                    - UG - Btech.csdocx\n",
    "C:\\ -  - Students\n",
    "                    - PG\n",
    "\n",
    "        - Staff\n",
    "\n",
    "To accesss file now we have path as C:\\Students\\UG\\\"_____file name___\"\n",
    "The character after dot from the extension of file like.docx file is in word '''"
   ]
  },
  {
   "cell_type": "code",
   "execution_count": null,
   "id": "5dd9aaa4-15ed-47f4-b37b-26f06a57dab8",
   "metadata": {},
   "outputs": [],
   "source": [
    "#Relative path and absolute path\n",
    "#An absolute always contains the roots and the complete directiory list to specify exact location of file\n",
    "#relative path on the other hand needs to be combined with another file in order to access a file\n",
    "''' relative file names starts wrt the current working directory and therefore lacks the leading slaces for ex C:\\Students\\UG\\\"_____file name___\"\n",
    "it is the absolute path as all the info is contained in this path but UG\\\"_____file name___\" is relative path as only a part of the complete path is \n",
    "specified\n",
    "\n",
    "##Types of files--like C and C++ python also supports 2 types of files, text and binary files\n",
    "1. Ascii text files-- A text file is a string of characters that can be sequentially processed by a computer in forward direction. A text file is usually \n",
    "opened for only one kind of operation(reading,writing,appending) at a given time\n",
    "\n",
    "  In python a text string is treated as a special kind of file. Each line in the text file contain 0 or more characters and ends with 1 or more characters\n",
    "  that specify the end of the line. Each line in a text file can have maximun of ____255____ characters.When a text file is used there are 2 representation \n",
    "  of data \n",
    "  1 internal\n",
    "  2 external\n",
    "ex-- an integer value will be represented by a number that occupied 2 or 4 bytes of memeory internally but externally the integer value will be represented\n",
    "as a string of charcters representing it's decimal or hexadecimal value. \n",
    "\n",
    "In a text file each line of the data ends with a new line character\n",
    "\n",
    "Each file ends with a special character called end of file marker(EOF) \n",
    "\n",
    "2. Binary Files-- A binary file is a file which may contain any type of data encoded in binary form for computer storage and processing purposes. It \n",
    "includes files such as word processing documents,pdf's,images,spreadsheets, videos, zip files and other executable programs. A binary file is a collection \n",
    "of bytes. It is also refered to as a character string with following 2 essential differences\n",
    " 1. a binary file does not rewuire any special processing of the data and each byte of the data is transferred to or from the disk unprocessed\n",
    " 2. python places no constructs on the file and it maybe read from or written to in any manner the progrmmer wants.\n",
    "\n",
    "Like text file binary file also ends with EOF marker\n",
    "text files inculdes file with .txt or .ty extension--can be opened with windows notepad ,binary files cannot be read by text editors like notepads\n",
    "\n"
   ]
  },
  {
   "cell_type": "code",
   "execution_count": 2,
   "id": "f00bef5d-3009-462e-bfdf-1ba91fc1a920",
   "metadata": {},
   "outputs": [
    {
     "data": {
      "text/plain": [
       "' Opening and Closing files\\nText Files opening and creating a new file in python-- \\nSyntex: file_object=open(file_name \\nr-  read mode\\nw - write mode\\na - append mode\\nr+ - read or write mode\\na+ - append or read mode\\nAccess mode\\nwb - open a file for write only mode in binary format\\nrb - open a file for read only mode in binary format\\nab - opne for appending mode in binary format\\nrb+ - open for read and write mode in binary format\\nab+ - open for appending and read only mode in binary format'"
      ]
     },
     "execution_count": 2,
     "metadata": {},
     "output_type": "execute_result"
    }
   ],
   "source": [
    "#11 November 2024\n",
    "''' Opening and Closing files\n",
    "Text Files opening and creating a new file in python-- \n",
    "Syntex: file_object=open(file_name \n",
    "r - read mode\n",
    "w - write mode-\n",
    "a - append mode\n",
    "r+ - read or write mode\n",
    "a+ - append or read mode\n",
    "Access mode\n",
    "wb - open a file for write only mode in binary format\n",
    "rb - open a file for read only mode in binary format\n",
    "ab - opne for appending mode in binary format\n",
    "rb+ - open for read and write mode in binary format\n",
    "ab+ - open for appending and read only mode in binary format'''\n"
   ]
  },
  {
   "cell_type": "code",
   "execution_count": 4,
   "id": "c55ee78e-2fe5-4493-8c76-ba38a7f35710",
   "metadata": {},
   "outputs": [
    {
     "data": {
      "text/plain": [
       "'Reading Info in the file\\n- read(n)\\n- readline([n])\\n- readlines()- all lines returned to a list'"
      ]
     },
     "execution_count": 4,
     "metadata": {},
     "output_type": "execute_result"
    }
   ],
   "source": [
    "#Buffering \n",
    "'''Reading Info in the file\n",
    "- read(n)\n",
    "- readline([n])\n",
    "- readlines()- all lines returned to a list\n",
    "writing data into a file\n",
    "-write (string)\n",
    "-writelines(list)\n",
    "append in a python file'''\n"
   ]
  },
  {
   "cell_type": "code",
   "execution_count": null,
   "id": "bd7e698f-f49d-4d46-a605-5722a987ed77",
   "metadata": {},
   "outputs": [],
   "source": [
    "#pickle\n",
    "#syntex: dump(object_to_write,filehandle)\n",
    "#syntex: object= load(filehandle)\n",
    "# --->>>>>> import csv\n",
    "with open (file path) as csv:\n",
    "    records = csv.reader(csvf)\n",
    "    print(\"Yes\")\n",
    "    rows=[]\n",
    "    for rec in records:\n",
    "        rows.append(rec)\n",
    "    print(rows)\n"
   ]
  },
  {
   "cell_type": "code",
   "execution_count": 1,
   "id": "7c8738e4-066f-4b90-952e-fea2496ed354",
   "metadata": {},
   "outputs": [
    {
     "ename": "SyntaxError",
     "evalue": "unterminated string literal (detected at line 20) (835460806.py, line 20)",
     "output_type": "error",
     "traceback": [
      "\u001b[1;36m  Cell \u001b[1;32mIn[1], line 20\u001b[1;36m\u001b[0m\n\u001b[1;33m    print(\"check if the files closed,file.closed())\u001b[0m\n\u001b[1;37m          ^\u001b[0m\n\u001b[1;31mSyntaxError\u001b[0m\u001b[1;31m:\u001b[0m unterminated string literal (detected at line 20)\n"
     ]
    }
   ],
   "source": [
    "#12/11/24\n",
    "'''w+-opens the file for both writing and reading when a file is opened in this code two things are considered 1. if the file does not exist a new file is\n",
    "   created for reading as well as writing \n",
    "   2. if the file already exist and has some data stored in it the contents are overwritten\n",
    "#File object attributes--once a file is succesfully opened a file object is written using this file object we can easily access different types of info related to that file\n",
    "This info can be obtained by reading values of speecific attributes of the file. \n",
    "1.FileObj.closed- it returns true if the file is closed and false otherwise \n",
    "2. fileObj.Mode - it returns the access mode with which file has been opened \n",
    "3. fileObj.name - it returns name of the file \n",
    "file = open(\"opentext\",wb)\n",
    "print(\"name of the file file.name)\n",
    "\n",
    "#opening files using with keyword\n",
    "file1.txt-->>>\n",
    "1. Hello World\n",
    "2. Welcome to the world of python programming\n",
    "with open(\"file.text\",\"rb\") as file:\n",
    " for line in file:\n",
    "  print(line)\n",
    "print(\"check if the files closed,file.closed())'''"
   ]
  },
  {
   "cell_type": "code",
   "execution_count": 4,
   "id": "70e164bd-6248-4a57-8799-1a6659b3e4c2",
   "metadata": {},
   "outputs": [
    {
     "name": "stdout",
     "output_type": "stream",
     "text": [
      "Successfully copied the first 10 bytes from D:\\Jupyter Python\\file1.txt to D:\\Jupyter Python\\file2.txt\n"
     ]
    }
   ],
   "source": [
    "#Wap that copies first ten bytes of a binary file into another\n",
    "def copy_first_10_bytes(input_file, output_file):  \n",
    "    try:  \n",
    "        with open(input_file, 'rb') as infile:  \n",
    "            data = infile.read(10)  \n",
    "        with open(output_file, 'wb') as outfile:  \n",
    "            outfile.write(data)  \n",
    "        print(f\"Successfully copied the first 10 bytes from {input_file} to {output_file}\")  \n",
    "    except Exception as e:  \n",
    "        print(\"An error occurred:\" e)  \n",
    "  \n",
    "input_filename = r\"D:\\Jupyter Python\\file1.txt\"  \n",
    "output_filename = r\"D:\\Jupyter Python\\file2.txt\"    \n",
    "copy_first_10_bytes(input_filename, output_filename)"
   ]
  },
  {
   "cell_type": "code",
   "execution_count": 8,
   "id": "c84a3902-9c6a-4f04-a362-9187ba383586",
   "metadata": {},
   "outputs": [],
   "source": [
    "with open(r\"D:\\Jupyter Python\\file1.txt\",'rb') as file1:\n",
    "    with open(r\"D:\\Jupyter Python\\file2.txt\",'wb')as file2:\n",
    "       while True:\n",
    "           buf = file1.read(10)\n",
    "           if not buf:\n",
    "               break \n",
    "           file2.write(buf)"
   ]
  },
  {
   "cell_type": "code",
   "execution_count": null,
   "id": "507ddf74-d12a-4956-9fb7-085dd43cd4db",
   "metadata": {},
   "outputs": [],
   "source": [
    "#Wap that copies one python scrypt into another in such a way that all comment lines are skipped and not copied in the destination file\n",
    "def copy_script_without_comments(source_file, destination_file):  \n",
    "    try:  \n",
    "        with open(source_file, 'r') as src:  \n",
    "            with open(destination_file, 'w') as dest:  \n",
    "                for line in src:  \n",
    "                    if not line.strip().startswith('#'):  \n",
    "                        dest.write(line)  \n",
    "        print(\"Copied contents from\", source_file , \"to\", destination_file, \"without comments.\")  \n",
    "    except FileNotFoundError:  \n",
    "        print(f\"Error: The file {source_file} does not exist.\")  \n",
    "    except Exception as e:  \n",
    "        print(\"An error occurred:\" e)  \n",
    "  \n",
    "source_file_path = r\"D:\\Jupyter Python\\file1.txt\"          \n",
    "destination_file_path = r\"D:\\Jupyter Python\\file2.txt\"     \n",
    "\n",
    "copy_script_without_comments(source_file_path, destination_file_path)"
   ]
  },
  {
   "cell_type": "code",
   "execution_count": 26,
   "id": "ae4d33a0-60d1-460c-b954-042f60df74db",
   "metadata": {},
   "outputs": [
    {
     "ename": "SyntaxError",
     "evalue": "incomplete input (2112480143.py, line 7)",
     "output_type": "error",
     "traceback": [
      "\u001b[1;36m  Cell \u001b[1;32mIn[26], line 7\u001b[1;36m\u001b[0m\n\u001b[1;33m    \u001b[0m\n\u001b[1;37m    ^\u001b[0m\n\u001b[1;31mSyntaxError\u001b[0m\u001b[1;31m:\u001b[0m incomplete input\n"
     ]
    }
   ],
   "source": [
    "with open(r\"D:\\Jupyter Python\\file1.txt\",'rb') as file1:\n",
    "    with open(r\"D:\\Jupyter Python\\file2.txt\",'wb')as file2:\n",
    "        while True: \n",
    "            buf= file.readline()\n",
    "            \n",
    "            if len(buf):\n",
    "        "
   ]
  },
  {
   "cell_type": "code",
   "execution_count": 23,
   "id": "832de4ec-fa14-4a27-b517-8c2ee106b159",
   "metadata": {},
   "outputs": [
    {
     "name": "stdin",
     "output_type": "stream",
     "text": [
      "Enter the character to count:  a\n"
     ]
    },
    {
     "data": {
      "text/plain": [
       "9"
      ]
     },
     "execution_count": 23,
     "metadata": {},
     "output_type": "execute_result"
    }
   ],
   "source": [
    "#wap that accepts filename as an input from the user--open the file and count the number of times a character appears in the file\n",
    "def count_character_in_file(filename, character):   \n",
    "    with open(filename, 'r') as file:   \n",
    "        count = 0   \n",
    "        for line in file:   \n",
    "            count += line.count(character)  \n",
    "    return count  \n",
    "        \n",
    "filename = r\"D:\\Jupyter Python\\file1.txt\"\n",
    "character = input(\"Enter the character to count: \")   \n",
    "count_character_in_file(filename, character)  \n",
    "       "
   ]
  },
  {
   "cell_type": "code",
   "execution_count": 3,
   "id": "187804ab-bb83-4f70-aa43-3c8148b363fd",
   "metadata": {},
   "outputs": [
    {
     "name": "stdout",
     "output_type": "stream",
     "text": [
      "File: D:\\Jupyter Python\\file1.txt\n",
      "Vowels: 44 (33.08%)\n",
      "Consonants: 55 (41.35%)\n"
     ]
    }
   ],
   "source": [
    "#wap that reads data from a file and calculates the percentage of vowels and consonents in the file\n",
    "def calculate_vowels_consonants(file_path):\n",
    "    try:\n",
    "        with open(file_path, 'r') as file:\n",
    "            content = file.read().lower()\n",
    "            vowels = 'aeiou'\n",
    "            vowel_count = sum(1 for char in content if char in vowels)\n",
    "            consonant_count = sum(1 for char in content if char.isalpha() and char not in vowels)\n",
    "            total_chars = len(content)\n",
    "            \n",
    "            vowel_percentage = (vowel_count / total_chars) * 100\n",
    "            consonant_percentage = (consonant_count / total_chars) * 100\n",
    "            \n",
    "            print(f\"File: {file_path}\")\n",
    "            print(f\"Vowels: {vowel_count} ({vowel_percentage:.2f}%)\")\n",
    "            print(f\"Consonants: {consonant_count} ({consonant_percentage:.2f}%)\")\n",
    "            \n",
    "    except FileNotFoundError:\n",
    "        print(f\"File '{file_path}' not found.\")\n",
    "    except Exception as e:\n",
    "        print(f\"Error: {e}\")\n",
    "\n",
    "# Specify file path\n",
    "file_path = r\"D:\\Jupyter Python\\file1.txt\"\n",
    "calculate_vowels_consonants(file_path)"
   ]
  },
  {
   "cell_type": "code",
   "execution_count": null,
   "id": "4455d7f6-9e99-4dd9-ac46-f999ad3954de",
   "metadata": {},
   "outputs": [],
   "source": []
  }
 ],
 "metadata": {
  "kernelspec": {
   "display_name": "Python 3 (ipykernel)",
   "language": "python",
   "name": "python3"
  },
  "language_info": {
   "codemirror_mode": {
    "name": "ipython",
    "version": 3
   },
   "file_extension": ".py",
   "mimetype": "text/x-python",
   "name": "python",
   "nbconvert_exporter": "python",
   "pygments_lexer": "ipython3",
   "version": "3.12.5"
  }
 },
 "nbformat": 4,
 "nbformat_minor": 5
}
