{
 "cells": [
  {
   "cell_type": "code",
   "execution_count": null,
   "id": "478e676a-46d1-4791-ba10-c9d5d5ddd6d7",
   "metadata": {},
   "outputs": [],
   "source": [
    "'''Path names are written using backslash in windows,but in Unix,linux and other operating systems they are specified using forward slash character"
   ]
  },
  {
   "cell_type": "code",
   "execution_count": null,
   "id": "d3a15eee-457b-4292-90a8-044ae0497071",
   "metadata": {},
   "outputs": [],
   "source": [
    "#directory methods A directory is a collection of files where each file may be of a different format\n",
    "''' 1. mkdir() - this method of the OS module is used to create directories in the current directory the method takes the name of the directory as an\n",
    "argument\n",
    "2. getcwd- if you want to know your current working directory -- it will display the current working directory'''\n",
    "#wap to crete a new directory(New_dir) in the current directory\n",
    "import os\n",
    "\n",
    "\n",
    "os.mkdir(\"my_directory\")\n",
    "print(os.listdir())\n",
    "os.chdir(\"my_directory\")\n",
    "with open(\"file.txt\", \"w\") as f:\n",
    "    pass\n",
    "os.chdir(\"..\")\n",
    "import shutil\n",
    "shutil.rmtree(\"my_directory\")\n"
   ]
  },
  {
   "cell_type": "code",
   "execution_count": 7,
   "id": "392c384b-8967-47a8-89e3-885a72a14a1a",
   "metadata": {},
   "outputs": [
    {
     "data": {
      "text/plain": [
       "'D:\\\\Jupyter Python\\\\CPBP'"
      ]
     },
     "execution_count": 7,
     "metadata": {},
     "output_type": "execute_result"
    }
   ],
   "source": [
    "os.getcwd()"
   ]
  },
  {
   "cell_type": "code",
   "execution_count": 9,
   "id": "82b8ee36-b9e7-4606-a930-43008cfd7943",
   "metadata": {},
   "outputs": [
    {
     "name": "stdout",
     "output_type": "stream",
     "text": [
      "Directory 'new_dir' created successfully.\n",
      "Current directory changed to 'new_dir'.\n",
      "Current working directory: D:\\Jupyter Python\\CPBP\\new_dir\\new_dir\n"
     ]
    },
    {
     "data": {
      "text/plain": [
       "'D:\\\\Jupyter Python\\\\CPBP\\\\new_dir\\\\new_dir'"
      ]
     },
     "execution_count": 9,
     "metadata": {},
     "output_type": "execute_result"
    }
   ],
   "source": [
    "'''chdir()--this method is used to change the current directory---it takesd the name of the directory which you want to make the current as an\n",
    "argument\n",
    "os.chdir(directory_name)'''\n",
    "import os\n",
    "\n",
    "def create_and_change_dir(new_dir):\n",
    "    try:\n",
    "     \n",
    "        os.mkdir(new_dir)\n",
    "        print(f\"Directory '{new_dir}' created successfully.\")\n",
    "      \n",
    "        os.chdir(new_dir)\n",
    "        print(f\"Current directory changed to '{new_dir}'.\")\n",
    "        print(\"Current working directory:\", os.getcwd())\n",
    "        \n",
    "    except FileExistsError:\n",
    "        print(f\"Directory '{new_dir}' already exists.\")\n",
    "    except Exception as e:\n",
    "        print(f\"An error occurred: {e}\")\n",
    "\n",
    "new_dir = \"new_dir\"\n",
    "create_and_change_dir(new_dir)\n",
    "os.getcwd()"
   ]
  },
  {
   "cell_type": "code",
   "execution_count": 10,
   "id": "d3d2bfb0-1d83-41dd-a48f-0d28589ce77f",
   "metadata": {},
   "outputs": [
    {
     "name": "stdout",
     "output_type": "stream",
     "text": [
      "Error deleting directory: [WinError 32] The process cannot access the file because it is being used by another process: 'D:\\\\Jupyter Python\\\\CPBP\\\\new_dir\\\\new_dir'\n"
     ]
    }
   ],
   "source": [
    "'''os.rmdir --it is used to remove/delete a directory and it accepts the name of the directory to be deleted as an argument but before removing a\n",
    "directory it should be absolutely empty\n",
    "os.rmdir(\"directory_name\")'''\n",
    "#wap to delete the new directory created above\n",
    "\n",
    "import os\n",
    "\n",
    "def delete_dir(dir_path):\n",
    "    try:\n",
    "        # Check if directory exists\n",
    "        if os.path.exists(dir_path) and os.path.isdir(dir_path):\n",
    "            # Remove directory (must be empty)\n",
    "            os.rmdir(dir_path)\n",
    "            print(f\"Directory '{dir_path}' deleted successfully.\")\n",
    "        else:\n",
    "            print(f\"Directory '{dir_path}' does not exist or is not a directory.\")\n",
    "        \n",
    "    except OSError as e:\n",
    "        print(f\"Error deleting directory: {e}\")\n",
    "\n",
    "# Specify the directory path\n",
    "dir_path = \"D:\\\\Jupyter Python\\\\CPBP\\\\new_dir\\\\new_dir\"\n",
    "\n",
    "delete_dir(dir_path)\n",
    "\n"
   ]
  },
  {
   "cell_type": "code",
   "execution_count": null,
   "id": "0dfc9f63-7fe5-4e7b-aabd-daa93cf1e8b0",
   "metadata": {},
   "outputs": [],
   "source": [
    "''' if you still want to delete the non empty directory use the rmtree() by using import shutil then write shutil.rntree('file_name')'''\n"
   ]
  },
  {
   "cell_type": "code",
   "execution_count": null,
   "id": "02f2203a-23b3-4caa-b77d-4a62ba088e3e",
   "metadata": {},
   "outputs": [],
   "source": [
    "'''makedirs()-- it is used to create more than one folder'''\n",
    "import os \n",
    "os.makedirs(\"C:\\\\Python\\\\Dir1\\\\Dir2\\\\Dir3\") "
   ]
  },
  {
   "cell_type": "code",
   "execution_count": 12,
   "id": "e6f597a6-b177-4faa-a18e-7a13a872a8d5",
   "metadata": {},
   "outputs": [
    {
     "name": "stdout",
     "output_type": "stream",
     "text": [
      "C:Students\\UG\\Btech.docs\n"
     ]
    }
   ],
   "source": [
    "'''os.path.join()--this method will return a string with a file path that has correct path seperators'''\n",
    "#wap that uses  os.path.join method to form a valid filepath\n",
    "import os\n",
    "print(os.path.join(\"C:\",\"Students\",\"UG\",\"Btech.docs\"))"
   ]
  },
  {
   "cell_type": "code",
   "execution_count": 22,
   "id": "0f831e8a-5593-4da2-ba62-1ed81c73bcce",
   "metadata": {},
   "outputs": [
    {
     "name": "stdout",
     "output_type": "stream",
     "text": [
      "D:\\\\Jupyter Python\\file1.txt\n"
     ]
    }
   ],
   "source": [
    "#wap to print the absolute path of a file using os.path.join\n",
    "import os\n",
    "path = r'D:\\\\Jupyter Python'\n",
    "filename = \"file1.txt\"\n",
    "print(os.path.join(path,filename))"
   ]
  },
  {
   "cell_type": "code",
   "execution_count": 25,
   "id": "380721f6-76bf-400b-baf7-2fc46bfbfb9c",
   "metadata": {},
   "outputs": [
    {
     "name": "stdout",
     "output_type": "stream",
     "text": [
      "D:\\Jupyter Python\\CPBP\\new_dir\\new_dir\\Python \\Strings.docs\n"
     ]
    }
   ],
   "source": [
    "'''Methods from the Os module --\n",
    "1. os.path.abspath()--this method using string value passed to it to form an absoute path,it is an another way to convert a relative path to an absolute \n",
    "path'''\n",
    "import os\n",
    "print(os.path.abspath(\"Python \\\\Strings.docs\"))"
   ]
  },
  {
   "cell_type": "code",
   "execution_count": 35,
   "id": "eb5957e8-27bb-4983-8aca-8c047823828b",
   "metadata": {},
   "outputs": [
    {
     "name": "stdout",
     "output_type": "stream",
     "text": [
      "False\n",
      "True\n"
     ]
    },
    {
     "data": {
      "text/plain": [
       "'D:\\\\Jupyter Python\\\\CPBP\\\\new_dir\\\\new_dir'"
      ]
     },
     "execution_count": 35,
     "metadata": {},
     "output_type": "execute_result"
    }
   ],
   "source": [
    "'''os.path.isabs(path)--this method accepts an file path as an argument and it returns true if the path is an absolute path'''\n",
    "print(os.path.isabs(\"Python \\\\Strings.docs\"))\n",
    "print(os.path.isabs(\"D:\\\\Jupyter Python\\\\CPBP\\\\new_dir\\\\new_dir\\\\Python \\\\Strings.docs\"))\n",
    "os.getcwd()"
   ]
  },
  {
   "cell_type": "code",
   "execution_count": null,
   "id": "95266fd9-7ffd-41ae-a120-95565e6ec09b",
   "metadata": {},
   "outputs": [],
   "source": [
    "'''os.path.relpath(path,start)--this method accepts a file path and a start string as an argument and returns a relative path that begins from start,\n",
    "if start is not given the current directory is taken as start'''"
   ]
  },
  {
   "cell_type": "code",
   "execution_count": null,
   "id": "83411b55-96e0-4405-8edf-81f674342e10",
   "metadata": {},
   "outputs": [],
   "source": [
    "'''os.path.dirname(path)--This method returns a string that includes everything specified in the path that comes before the last slash'''"
   ]
  },
  {
   "cell_type": "code",
   "execution_count": null,
   "id": "a5e42f3f-fddb-438d-a724-ac421132b2c9",
   "metadata": {},
   "outputs": [],
   "source": [
    "'''os.path.basename(path)--this method returns a string that includes everything specified in the path that comes after the last slash'''\n"
   ]
  },
  {
   "cell_type": "code",
   "execution_count": null,
   "id": "43cb780a-df69-483d-b162-2ed4d7a33d99",
   "metadata": {},
   "outputs": [],
   "source": [
    "'''os.path.split(path) -- this methid accepts a file path and returns it's directory name as well as the base name so it is equivalent to using two \n",
    "seperate methods os.path.dirname and os.path.basename'''"
   ]
  },
  {
   "cell_type": "code",
   "execution_count": null,
   "id": "2fda612e-64c5-43ae-980f-464312be4cca",
   "metadata": {},
   "outputs": [],
   "source": [
    "'''os.path.getsize(path)--this method will return the size of the file specified in the path argument'''"
   ]
  },
  {
   "cell_type": "code",
   "execution_count": null,
   "id": "4a8f91fe-bc44-465c-bce6-d2acc1bb6563",
   "metadata": {},
   "outputs": [],
   "source": [
    "'''os.listdir(path)--this method returns the list of filenames specified in the path'''"
   ]
  },
  {
   "cell_type": "code",
   "execution_count": null,
   "id": "7aa394fc-e92c-43a4-ac65-37505da799a4",
   "metadata": {},
   "outputs": [],
   "source": [
    "'''os.path.exists(path)---it accepts a path as an argument and returns true if the file or folder specified in the path exists otherwise returns false'''\n"
   ]
  },
  {
   "cell_type": "code",
   "execution_count": null,
   "id": "9f62b60b-acf8-4347-9155-4dd1fd5894e5",
   "metadata": {},
   "outputs": [],
   "source": [
    "'''os.path.isfile(path)--it returns true if the path specifies a file'''"
   ]
  },
  {
   "cell_type": "code",
   "execution_count": 43,
   "id": "504ad9bd-6af8-4453-97b4-7ff28061eb16",
   "metadata": {},
   "outputs": [
    {
     "name": "stdout",
     "output_type": "stream",
     "text": [
      "File path is: D:\\Jupyter Python\\file1.txt\n",
      "Tabs: 0\n",
      "Spaces: 27\n",
      "Newlines: 3\n"
     ]
    }
   ],
   "source": [
    "'''os.path.isdir(path)--it will return true if the path specifies an existing directory'''\n",
    "#wap that counts the number of tabs,spaces,new line characters in a file\n",
    "def count_characters(file_path):\n",
    "    try:\n",
    "        with open(file_path, 'r') as file:\n",
    "            content = file.read()\n",
    "            tab_count = content.count('\\t')\n",
    "            space_count = content.count(' ')\n",
    "            newline_count = content.count('\\n')\n",
    "            \n",
    "            print(\"File path is:\", file_path)\n",
    "            print(\"Tabs:\", tab_count)\n",
    "            print(\"Spaces:\",space_count)\n",
    "            print(\"Newlines:\",newline_count)\n",
    "            \n",
    "    except FileNotFoundError:\n",
    "        print(\"File:\", file_path, \"not found.\")\n",
    "    except Exception as e:\n",
    "        print(\"Error:\",e)\n",
    "\n",
    "# Specify file path\n",
    "file_path = r\"D:\\Jupyter Python\\file1.txt\"\n",
    "count_characters(file_path)"
   ]
  },
  {
   "cell_type": "code",
   "execution_count": null,
   "id": "c3242b5a-624a-4b1f-b3df-82c63eb5a332",
   "metadata": {},
   "outputs": [],
   "source": []
  }
 ],
 "metadata": {
  "kernelspec": {
   "display_name": "Python 3 (ipykernel)",
   "language": "python",
   "name": "python3"
  },
  "language_info": {
   "codemirror_mode": {
    "name": "ipython",
    "version": 3
   },
   "file_extension": ".py",
   "mimetype": "text/x-python",
   "name": "python",
   "nbconvert_exporter": "python",
   "pygments_lexer": "ipython3",
   "version": "3.12.5"
  }
 },
 "nbformat": 4,
 "nbformat_minor": 5
}
