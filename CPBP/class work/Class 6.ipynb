{
 "cells": [
  {
   "cell_type": "code",
   "execution_count": 5,
   "id": "1d537378-3247-4ea1-8000-e1e55ab9c6a9",
   "metadata": {},
   "outputs": [
    {
     "name": "stdout",
     "output_type": "stream",
     "text": [
      "True\n",
      "False\n",
      "{'apple', 'banana', 'cherry', 'orange'}\n"
     ]
    }
   ],
   "source": [
    "#sets in python\n",
    "#set can have different datatype in it\n",
    "#set constructor\n",
    "#python collections(arrays)\n",
    "#in keyword in set\n",
    "#use add() to add element\n",
    "thisset={\"banana\",\"apple\",\"cherry\"}\n",
    "print(\"banana\" in thisset)\n",
    "thisset={\"banana\",\"apple\",\"cherry\"}\n",
    "print(\"banana\" not in thisset)\n",
    "thisset.add(\"orange\")\n",
    "print(thisset)"
   ]
  },
  {
   "cell_type": "code",
   "execution_count": 18,
   "id": "48b142bc-5f34-45ce-9b46-e6b80f260916",
   "metadata": {},
   "outputs": [
    {
     "name": "stdout",
     "output_type": "stream",
     "text": [
      "{'apple', 'xyz', 'nilanshu', 'banana', 'mohit', 'cherry'}\n",
      "{'apple', 'xyz', 'nilanshu', 'banana', 'mohit', 'orange', 'cherry', 'kiwi'}\n",
      "{'apple', 'xyz', 'nilanshu', 'mohit', 'orange', 'cherry', 'kiwi'}\n",
      "{'apple', 'xyz', 'nilanshu', 'mohit', 'cherry', 'kiwi'}\n",
      "{'apple', 'xyz', 'nilanshu', 'mohit', 'cherry', 'kiwi'}\n",
      "{'xyz', 'nilanshu', 'mohit', 'cherry', 'kiwi'}\n",
      "set()\n"
     ]
    }
   ],
   "source": [
    "#to add two sets(tuple,list,dictionary se bhi update krskte h using update to sets)\n",
    "thisset={\"banana\",\"apple\",\"cherry\"}\n",
    "tropical={\"xyz\",\"mohit\",\"nilanshu\"}\n",
    "\n",
    "thisset.update(tropical)\n",
    "print(thisset)\n",
    "mylist=[\"kiwi\",\"orange\"]\n",
    "thisset.update(mylist)\n",
    "print(thisset)\n",
    "#remove item using remove\n",
    "thisset.remove(\"banana\")\n",
    "print(thisset)\n",
    "thisset.discard(\"orange\")\n",
    "print(thisset)\n",
    "thisset.discard(\"banana\")\n",
    "print(thisset)\n",
    "#we can also use pop() \n",
    "x=thisset.pop()\n",
    "print(thisset)\n",
    "#clear to delete the complete set\n",
    "#can also use del keyword like del thisset\n",
    "thisset.clear() \n",
    "print(thisset)\n"
   ]
  },
  {
   "cell_type": "code",
   "execution_count": 19,
   "id": "002b738d-4b77-48f8-b666-59f13ebea542",
   "metadata": {},
   "outputs": [
    {
     "name": "stdout",
     "output_type": "stream",
     "text": [
      "apple\n",
      "banana\n",
      "cherry\n"
     ]
    }
   ],
   "source": [
    "#loop items in the set\n",
    "thisset={\"banana\",\"apple\",\"cherry\"}\n",
    "for x in thisset:\n",
    "    print(x)"
   ]
  },
  {
   "cell_type": "code",
   "execution_count": 20,
   "id": "701bfb7b-5ea8-4e53-a5dd-c7c2b3df4e82",
   "metadata": {},
   "outputs": [
    {
     "name": "stdout",
     "output_type": "stream",
     "text": [
      "{1, 2, 3, 'b', 'c', 'a'}\n"
     ]
    }
   ],
   "source": [
    "#join sets by union() and update()\n",
    "#the intersection() keeps only the duplicates\n",
    "#the difference() keeps the items from one set that are not in set b\n",
    "set1={'a','b','c'}\n",
    "set2={1,2,3}\n",
    "set3=set1.union(set2)\n",
    "print(set3)"
   ]
  },
  {
   "cell_type": "code",
   "execution_count": 21,
   "id": "7dbf34f2-0111-48ff-a1db-41164e090d3c",
   "metadata": {},
   "outputs": [
    {
     "name": "stdout",
     "output_type": "stream",
     "text": [
      "{1, 2, 3, 'b', 'c', 'a'}\n"
     ]
    }
   ],
   "source": [
    "#this is also use | instead of writing union()(can be used to join only set with set)\n",
    "set1={'a','b','c'}\n",
    "set2={1,2,3}\n",
    "set3=set1|set2\n",
    "print(set3)"
   ]
  },
  {
   "cell_type": "code",
   "execution_count": 22,
   "id": "67887b6f-f86e-496b-9aba-61f0cf415d85",
   "metadata": {},
   "outputs": [
    {
     "name": "stdout",
     "output_type": "stream",
     "text": [
      "{1, 2, 3, 'elena', 'b', 'c', 'a', 'john'}\n"
     ]
    }
   ],
   "source": [
    "#join multiple sets\n",
    "set1={'a','b','c'}\n",
    "set2={1,2,3}\n",
    "set3={'john','elena'}\n",
    "set4= set1|set2|set3\n",
    "print(set4)"
   ]
  },
  {
   "cell_type": "code",
   "execution_count": 23,
   "id": "1a6d0829-8017-474a-bf55-06251b7be2b4",
   "metadata": {},
   "outputs": [
    {
     "name": "stdout",
     "output_type": "stream",
     "text": [
      "{1, 2, 3, 'b', 'c', 'a'}\n"
     ]
    }
   ],
   "source": [
    "#join a set and a tuple to take result as set\n",
    "set1={'a','b','c'}\n",
    "y=(1,2,3)\n",
    "z=set1.union(y)\n",
    "print(z)"
   ]
  },
  {
   "cell_type": "code",
   "execution_count": 24,
   "id": "00603f15-9142-48b4-befb-caefb6f0a3c9",
   "metadata": {},
   "outputs": [
    {
     "name": "stdout",
     "output_type": "stream",
     "text": [
      "{1, 2, 3, 'b', 'c', 'a'}\n"
     ]
    }
   ],
   "source": [
    "#update() inserts items of set2 into set1\n",
    "set1={'a','b','c'}\n",
    "set2={1,2,3}\n",
    "set1.update(set2)\n",
    "print(set1)\n",
    "#both union() and update() will exclude any duplicate values"
   ]
  },
  {
   "cell_type": "code",
   "execution_count": 26,
   "id": "61d1414f-9801-4162-8193-950ceb2a5704",
   "metadata": {},
   "outputs": [
    {
     "name": "stdout",
     "output_type": "stream",
     "text": [
      "{1}\n"
     ]
    }
   ],
   "source": [
    "#intersection\n",
    "set1={'a','b','c',1}\n",
    "set2={1,2,3}\n",
    "set3=set1&set2\n",
    "print(set3)"
   ]
  },
  {
   "cell_type": "code",
   "execution_count": 29,
   "id": "3aaf8a60-9b6e-4fb9-9f8e-df5b522fa0bd",
   "metadata": {},
   "outputs": [
    {
     "name": "stdout",
     "output_type": "stream",
     "text": [
      "{1}\n"
     ]
    }
   ],
   "source": [
    "set1={'a','b','c',1}\n",
    "set2={1,2,3}\n",
    "set1.intersection_update(set2)\n",
    "print(set1)"
   ]
  },
  {
   "cell_type": "code",
   "execution_count": 38,
   "id": "74467722-051e-4a32-b32b-fc10b0bc036f",
   "metadata": {},
   "outputs": [
    {
     "name": "stdout",
     "output_type": "stream",
     "text": [
      "{False, 1, 'apple'}\n"
     ]
    }
   ],
   "source": [
    "set1={'apple',1,'banana',0,'cherry'}\n",
    "set2={False,'google',1,'apple',2,True}\n",
    "set3=set1.intersection(set2)\n",
    "print(set3)"
   ]
  },
  {
   "cell_type": "code",
   "execution_count": 37,
   "id": "4f737fe4-21dd-43d2-9c5e-0ae1be857d6e",
   "metadata": {},
   "outputs": [
    {
     "name": "stdout",
     "output_type": "stream",
     "text": [
      "{'b', 'c', 'a'}\n"
     ]
    }
   ],
   "source": [
    "#difference\n",
    "set1={'a','b','c',1}\n",
    "set2={1,2,3}\n",
    "set3=set1-set2\n",
    "print(set3)"
   ]
  },
  {
   "cell_type": "code",
   "execution_count": 40,
   "id": "9c169d2f-dbb5-42c5-bd3a-98b6ccb13987",
   "metadata": {},
   "outputs": [
    {
     "name": "stdout",
     "output_type": "stream",
     "text": [
      "{'b', 'c', 'a'}\n"
     ]
    }
   ],
   "source": [
    "#difference_update\n",
    "set1={'a','b','c',1}\n",
    "set2={1,2,3}\n",
    "set1.difference_update(set2)\n",
    "print(set1)"
   ]
  },
  {
   "cell_type": "code",
   "execution_count": 41,
   "id": "d3ffd928-a7d0-411e-8002-fb1bdea1fb0c",
   "metadata": {},
   "outputs": [
    {
     "name": "stdout",
     "output_type": "stream",
     "text": [
      "{2, 3, 'b', 'c', 'a'}\n"
     ]
    }
   ],
   "source": [
    "#symmetric difference----keeps items that are not present in both sets\n",
    "set1={'a','b','c',1}\n",
    "set2={1,2,3}\n",
    "set3=set1.symmetric_difference(set2)\n",
    "print(set3)"
   ]
  },
  {
   "cell_type": "code",
   "execution_count": 42,
   "id": "48a8128c-a6ed-4dec-8dfc-d81e40e0214d",
   "metadata": {},
   "outputs": [],
   "source": [
    "#issuperset to check superset\n",
    "#issubset to check if subset or not\n",
    "#existence check\n",
    "#get the unique elements of a list\n",
    "#set of sets\n",
    "#set operations using methods and builtins\n",
    "#a.issubset(a)tests whether each element of c is in a\n",
    "#a.issuperset(c)tests whether each element of c is in a\n",
    "#subset(a<=b)\n",
    "#superset(a>=b)\n"
   ]
  },
  {
   "cell_type": "code",
   "execution_count": 64,
   "id": "729f1743-3b9a-48fa-9837-ffa8801f4796",
   "metadata": {},
   "outputs": [
    {
     "name": "stdout",
     "output_type": "stream",
     "text": [
      "Initial squares set: {64, 1, 4, 36, 100, 9, 16, 49, 81, 25}\n",
      "Initial cubes set: {64, 1, 512, 8, 1000, 343, 216, 729, 27, 125}\n",
      "{64, 1, 512, 4, 8, 9, 16, 81, 343, 216, 25, 729, 27, 36, 100, 1000, 49, 125}\n",
      "{64, 1, 512, 4, 8, 9, 16, 81, 'Shashank', 343, 216, 25, 729, 27, 36, 100, 1000, 49, 125}\n",
      "set()\n",
      "{1, 512, 4, 8, 9, 16, 81, 'Shashank', 343, 216, 25, 729, 27, 36, 100, 1000, 49, 125}\n",
      "1\n",
      "{512, 4, 8, 9, 16, 81, 'Shashank', 343, 216, 25, 729, 27, 36, 100, 1000, 49, 125}\n"
     ]
    }
   ],
   "source": [
    "#WAP that creates two sets squares and cubes in range 1 to 10,demonstrate the use of update,add,clear,remove,pop\n",
    "\n",
    "squares = {x**2 for x in range(1, 11)}\n",
    "cubes = {x**3 for x in range(1, 11)}\n",
    "\n",
    "print(\"Initial squares set:\", squares)\n",
    "print(\"Initial cubes set:\", cubes)\n",
    "\n",
    "squares.update(cubes)\n",
    "print(squares)\n",
    "\n",
    "squares.add('Shashank')\n",
    "print(squares)\n",
    "\n",
    "cubes.clear()\n",
    "print(cubes)\n",
    "\n",
    "squares.remove(64)\n",
    "print(squares)\n",
    "\n",
    "a = squares.pop()\n",
    "print(a)\n",
    "print(squares)"
   ]
  },
  {
   "cell_type": "code",
   "execution_count": 68,
   "id": "1b96ffdc-ee87-44e1-acb8-6a56617fa5cd",
   "metadata": {},
   "outputs": [
    {
     "name": "stdout",
     "output_type": "stream",
     "text": [
      "{2, 4, 6, 8, 10}\n",
      "{4, 6, 8, 9, 10, 12, 14, 15, 16, 18, 20}\n"
     ]
    }
   ],
   "source": [
    "#wap that creates two sets 1 of even numbers in the range 1 to 10 and the other has all composite number in the range 1 to 20,demonstrate the use of all function issuperset ,len() and sum function on the set\n",
    "a={x for x in range(1,11) if x%2==0}\n",
    "print(a)\n",
    "b={x for x in range(1,21) if any(x%i==0 for i in range(2,x))}\n",
    "print(b)\n",
    "all_composite="
   ]
  },
  {
   "cell_type": "code",
   "execution_count": 74,
   "id": "5b1c11e2-7e32-4170-9a99-60659912be7c",
   "metadata": {},
   "outputs": [
    {
     "name": "stdout",
     "output_type": "stream",
     "text": [
      "[1 2 3]\n"
     ]
    }
   ],
   "source": [
    "#Numpy\n",
    "import numpy as np\n",
    "arr=np.array([1,2,3])\n",
    "print(arr)"
   ]
  },
  {
   "cell_type": "code",
   "execution_count": 77,
   "id": "16f065e9-5da5-46a4-80d4-37508e54b2d1",
   "metadata": {},
   "outputs": [
    {
     "name": "stdout",
     "output_type": "stream",
     "text": [
      "[[[1 2 3]\n",
      "  [4 5 6]]\n",
      "\n",
      " [[1 2 3]\n",
      "  [4 5 6]]]\n",
      "3\n"
     ]
    }
   ],
   "source": [
    "#dimesnion in arrays\n",
    "import numpy as np\n",
    "arr=np.array([[[1,2,3],[4,5,6]],[[1,2,3,],[4,5,6]]])\n",
    "print(arr)\n",
    "#to check number of dimension in array\n",
    "print(arr.ndim)"
   ]
  },
  {
   "cell_type": "code",
   "execution_count": null,
   "id": "d1306750-6f99-456e-ab9d-483e23d22512",
   "metadata": {},
   "outputs": [],
   "source": [
    "import numpy as np\n",
    "arr=np.array([1,2,3,4])\n",
    "#access array elements\n"
   ]
  },
  {
   "cell_type": "code",
   "execution_count": null,
   "id": "ad81c519-954d-4b39-a1e6-35ce26a66667",
   "metadata": {},
   "outputs": [],
   "source": []
  }
 ],
 "metadata": {
  "kernelspec": {
   "display_name": "Python 3 (ipykernel)",
   "language": "python",
   "name": "python3"
  },
  "language_info": {
   "codemirror_mode": {
    "name": "ipython",
    "version": 3
   },
   "file_extension": ".py",
   "mimetype": "text/x-python",
   "name": "python",
   "nbconvert_exporter": "python",
   "pygments_lexer": "ipython3",
   "version": "3.12.5"
  }
 },
 "nbformat": 4,
 "nbformat_minor": 5
}
