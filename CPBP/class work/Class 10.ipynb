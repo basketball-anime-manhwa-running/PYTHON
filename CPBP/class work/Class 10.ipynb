{
 "cells": [
  {
   "cell_type": "code",
   "execution_count": 13,
   "id": "642f0e1f-ea18-4ff3-96b3-4027803d6a6b",
   "metadata": {
    "scrolled": true
   },
   "outputs": [
    {
     "name": "stdout",
     "output_type": "stream",
     "text": [
      "7\n",
      "-1\n"
     ]
    }
   ],
   "source": [
    "#find(str,beg,end)---end = len of fun,beg = 0,str = str\n",
    "message = \"She is my bestfriend\"\n",
    "print(message.find(\"my\",0,len(message)))\n",
    "print(message.find(\"by\",0,len(message)))"
   ]
  },
  {
   "cell_type": "code",
   "execution_count": 25,
   "id": "9e54661b-3c38-42b9-be6f-02627403faf4",
   "metadata": {
    "scrolled": true
   },
   "outputs": [
    {
     "name": "stdout",
     "output_type": "stream",
     "text": [
      "7\n",
      "3\n"
     ]
    }
   ],
   "source": [
    "#rfind(str,beg,end)---it will search from the end\n",
    "message = \"She is my bestfriend\"\n",
    "print(message.rfind(\"my\",0,len(message)))\n",
    "str=\"is this your bag?\"\n",
    "print(str.rfind(\"th\",0,len(str)))\n"
   ]
  },
  {
   "cell_type": "code",
   "execution_count": 24,
   "id": "f48657a2-06d9-4f21-9fca-be4997b2861f",
   "metadata": {},
   "outputs": [
    {
     "name": "stdout",
     "output_type": "stream",
     "text": [
      "8\n"
     ]
    }
   ],
   "source": [
    "#rindex(str,beg,end)--it is same as rindex but start searching from end and raise an exception if string is not found\n",
    "str=\"is this your bag?\"\n",
    "print(str.rindex(\"you\",0,len(str)))"
   ]
  },
  {
   "cell_type": "code",
   "execution_count": 30,
   "id": "7807e392-1127-4e23-b034-5e8c38213521",
   "metadata": {},
   "outputs": [
    {
     "name": "stdout",
     "output_type": "stream",
     "text": [
      "True\n"
     ]
    }
   ],
   "source": [
    "#isalnum()--it returns true if string has atleast 1 character and every char is either a number or an alphabet and false otherwise\n",
    "mess=\"jamesbond007\"\n",
    "print(mess.isalnum())"
   ]
  },
  {
   "cell_type": "code",
   "execution_count": 33,
   "id": "546c4d7a-8bb3-46c4-a648-2778d66b6d74",
   "metadata": {},
   "outputs": [
    {
     "name": "stdout",
     "output_type": "stream",
     "text": [
      "False\n"
     ]
    }
   ],
   "source": [
    "#isalpha()----it returns true if string has atleast one character and e\n",
    "#isdigit()--true if string contain only digit\n",
    "#islower()--tue if atleast one char and every char is a lower case alphabet\n",
    "str=\"Hello\"\n",
    "print(str.islower())"
   ]
  },
  {
   "cell_type": "code",
   "execution_count": 37,
   "id": "d64934cd-ae27-421d-9202-5825965efacf",
   "metadata": {},
   "outputs": [
    {
     "name": "stdout",
     "output_type": "stream",
     "text": [
      "True\n",
      "False\n"
     ]
    }
   ],
   "source": [
    "#isspace()--true if string contains only white space characters \n",
    "str=\" \"\n",
    "str2=\"a  \"\n",
    "print(str.isspace())\n",
    "print(str2.isspace())"
   ]
  },
  {
   "cell_type": "code",
   "execution_count": 38,
   "id": "f33ec000-e212-4342-bd6c-9b7dc1492795",
   "metadata": {},
   "outputs": [
    {
     "name": "stdout",
     "output_type": "stream",
     "text": [
      "True\n"
     ]
    }
   ],
   "source": [
    "#isupper()\n",
    "str=\"CHEETAH\"\n",
    "print(str.isupper())"
   ]
  },
  {
   "cell_type": "code",
   "execution_count": 43,
   "id": "5b56e513-67bd-47d8-a00c-58d50b7e6974",
   "metadata": {},
   "outputs": [
    {
     "name": "stdout",
     "output_type": "stream",
     "text": [
      "hell******\n",
      "hello*****\n"
     ]
    }
   ],
   "source": [
    "#ljust(width[,fullchar])--it returns a strign left justify to a total of width column\n",
    "#coulms without char they are padded with the char specified in the fillchar argument\n",
    "str=\"hell\"\n",
    "print(str.ljust(10,'*'))\n",
    "str2=\"hello\"\n",
    "print(str2.ljust(10,'*'))"
   ]
  },
  {
   "cell_type": "code",
   "execution_count": 44,
   "id": "14bf9fa9-6b9c-4b05-9304-4909128214d1",
   "metadata": {},
   "outputs": [
    {
     "name": "stdout",
     "output_type": "stream",
     "text": [
      "******hell\n",
      "*****hello\n"
     ]
    }
   ],
   "source": [
    "#rjust(width[,fullchar])--rightjustify to a total of width columns\n",
    "str=\"hell\"\n",
    "print(str.rjust(10,'*'))\n",
    "str2=\"hello\"\n",
    "print(str2.rjust(10,'*'))"
   ]
  },
  {
   "cell_type": "code",
   "execution_count": 45,
   "id": "d548579c-a7ac-409a-b63f-7d0e205dec86",
   "metadata": {},
   "outputs": [
    {
     "name": "stdout",
     "output_type": "stream",
     "text": [
      "0000001234\n"
     ]
    }
   ],
   "source": [
    "#zfill(width)--returns left padded string with 0's to a total of width characters---used with numbers and also retains it's signs + or -\n",
    "str=\"1234\"\n",
    "print(str.zfill(10))"
   ]
  },
  {
   "cell_type": "code",
   "execution_count": 51,
   "id": "62d4d187-3579-40d0-a381-80e0270d0824",
   "metadata": {},
   "outputs": [
    {
     "name": "stdout",
     "output_type": "stream",
     "text": [
      "  hello \n",
      "hello \n",
      "hello     \n",
      "hello\n"
     ]
    }
   ],
   "source": [
    "#lower(),upper()--\n",
    "#lstrip()...it removes all leading white space in string\n",
    "str=\"  hello \"\n",
    "print(str)\n",
    "print(str.lstrip())\n",
    "#rstrip()---removes all trailing white space in the string\n",
    "str2=\"hello     \"\n",
    "print(str2)\n",
    "print(str2.rstrip())\n",
    "#strip()--both leading and trailing white space removal cream"
   ]
  },
  {
   "cell_type": "code",
   "execution_count": 53,
   "id": "82b10d22-1cec-43f3-9121-f4a8f953fa2f",
   "metadata": {},
   "outputs": [
    {
     "name": "stdout",
     "output_type": "stream",
     "text": [
      "z\n"
     ]
    }
   ],
   "source": [
    "#max(str)--it returns a highest alphabetical chr having hight=est ascii value from the str\n",
    "str=\"hello franndzzzz\"\n",
    "print(max(str))"
   ]
  },
  {
   "cell_type": "code",
   "execution_count": 54,
   "id": "f9e3abd7-ce3a-4861-93f0-7053fdd08e29",
   "metadata": {},
   "outputs": [
    {
     "name": "stdout",
     "output_type": "stream",
     "text": [
      "follo follo follo\n"
     ]
    }
   ],
   "source": [
    "#replace(old,new[max])-replaces all or max occurences of old in string with new\n",
    "str=\"hello hello hello\"\n",
    "print(str.replace(\"he\",\"fo\"))"
   ]
  },
  {
   "cell_type": "code",
   "execution_count": 55,
   "id": "f1bb59d8-239c-4c7c-af99-246f5037d78b",
   "metadata": {},
   "outputs": [
    {
     "name": "stdout",
     "output_type": "stream",
     "text": [
      "The World Is Beautiful\n"
     ]
    }
   ],
   "source": [
    "#title() --returns string in title case\n",
    "str=\"the world is beautiful\"\n",
    "print(str.title())"
   ]
  },
  {
   "cell_type": "code",
   "execution_count": 57,
   "id": "c787b69d-a965-4cf3-baaa-d21ad5515129",
   "metadata": {},
   "outputs": [
    {
     "name": "stdout",
     "output_type": "stream",
     "text": [
      "tHE WORLD IS BEAUTIFUL\n"
     ]
    }
   ],
   "source": [
    "#swapcase()--toggles the case of every character --uppercase become lower case and viceversa\n",
    "str=\"The world is beautiful\"\n",
    "print(str.swapcase())"
   ]
  },
  {
   "cell_type": "code",
   "execution_count": 58,
   "id": "cc9e8b03-dc52-417f-88cc-92e984e35305",
   "metadata": {},
   "outputs": [
    {
     "name": "stdout",
     "output_type": "stream",
     "text": [
      "['abc', 'def', 'ghi', 'jkl']\n"
     ]
    }
   ],
   "source": [
    "#split(delin)--it returns list of substrings seperated by the specified delimiter if no delimiter is specified than by default it splits string\n",
    "#on all whitespace characters\n",
    "str=\"abc,def,ghi,jkl\"\n",
    "print(str.split(','))"
   ]
  },
  {
   "cell_type": "code",
   "execution_count": 1,
   "id": "d2833cde-5f3c-474a-af70-cdf8d2b9a469",
   "metadata": {},
   "outputs": [
    {
     "name": "stdout",
     "output_type": "stream",
     "text": [
      "A \n",
      "A B \n",
      "A B C \n",
      "A B C D \n",
      "A B C D E \n",
      "A B C D E F \n"
     ]
    }
   ],
   "source": [
    "\"\"\"homework print it and these are strings\n",
    "   A\n",
    "   A B\n",
    "   A B C\n",
    "   A B C D\n",
    "   A B C D E\n",
    "   A B C D E F\"\"\"\n",
    "\n",
    "for i in range(1, 7):\n",
    "    for j in range(65, 65 + i):\n",
    "        print(chr(j), end=\" \")\n",
    "    print()\n",
    "\n",
    "\n",
    "\n"
   ]
  },
  {
   "cell_type": "code",
   "execution_count": 14,
   "id": "11ae2125-74d9-4bd8-a860-1abad7e2e16d",
   "metadata": {},
   "outputs": [
    {
     "name": "stdout",
     "output_type": "stream",
     "text": [
      "82\n",
      "R\n",
      "z\n",
      "80\n",
      "S\n"
     ]
    }
   ],
   "source": [
    "#ord()--returns the ascii code of the character\n",
    "#chr()--returns the charaacter represented by the ascii number\n",
    "ch='R'\n",
    "b=82\n",
    "print(ord(ch))\n",
    "print(chr(b))\n",
    "print(chr(122))\n",
    "print(ord(\"P\"))\n",
    "print(chr(b + 1))\n"
   ]
  },
  {
   "cell_type": "code",
   "execution_count": 4,
   "id": "5611c6bb-2471-411c-8c30-b2b6558c2a72",
   "metadata": {},
   "outputs": [
    {
     "name": "stdout",
     "output_type": "stream",
     "text": [
      "Index: 0, Character: H\n",
      "Index: 1, Character: e\n",
      "Index: 2, Character: l\n",
      "Index: 3, Character: l\n",
      "Index: 4, Character: o\n",
      "Index: 5, Character:  \n",
      "Index: 6, Character: W\n",
      "Index: 7, Character: o\n",
      "Index: 8, Character: r\n",
      "Index: 9, Character: l\n",
      "Index: 10, Character: d\n"
     ]
    }
   ],
   "source": [
    "str = \"Hello World\"\n",
    "enumerated_str = enumerate(str)\n",
    "\n",
    "for index, char in enumerated_str:\n",
    "    print(f\"Index: {index}, Character: {char}\")\n"
   ]
  },
  {
   "cell_type": "code",
   "execution_count": 19,
   "id": "281ac918-e279-4bc2-9eb7-1d3445a01bfe",
   "metadata": {},
   "outputs": [
    {
     "name": "stdout",
     "output_type": "stream",
     "text": [
      "found\n"
     ]
    }
   ],
   "source": [
    "#these operators can be used with strings to determine whether another is present in strings therfore in and not in operators are also \n",
    "#known as membership operators\n",
    "str=\"Welcome to the world of python\"\n",
    "str2=\"the\"\n",
    "if str2 in str:\n",
    "    print(\"found\")\n",
    "else:\n",
    "    print(\"not found\")\n",
    "#we can also used them to check whether a char is present in a word"
   ]
  },
  {
   "cell_type": "code",
   "execution_count": 1,
   "id": "7b40329e-4953-4b1a-b09b-aedbb038e5f6",
   "metadata": {},
   "outputs": [],
   "source": [
    "#python allows you to compare strings using relational operator <,>,<=,>=,==\n",
    "#lexicographical model ascii value of characters a-z--(97-122), A-Z----(65-90)\n",
    "#this means that book > Book because ascii value of b is 98 while B is 66 \n",
    "#all the uppercase later comes before all the lowercase letters\n",
    "#write a program\n",
    "\n",
    "    "
   ]
  },
  {
   "cell_type": "code",
   "execution_count": 42,
   "id": "e295f14e-205c-431b-93a2-0bafd8c73a09",
   "metadata": {},
   "outputs": [
    {
     "name": "stdout",
     "output_type": "stream",
     "text": [
      "K\n",
      "h\n",
      "o\n",
      "o\n",
      "r\n",
      "#\n",
      "Z\n",
      "r\n",
      "u\n",
      "o\n",
      "g\n"
     ]
    }
   ],
   "source": [
    "#you can iterate to a string either using an index or by using each character in the string\n",
    "#wap that encrypts a message by adding a key value to every character \n",
    "str=\"Hello World\"\n",
    "for i in str:\n",
    "    print(chr(ord(i)+3))"
   ]
  },
  {
   "cell_type": "code",
   "execution_count": 39,
   "id": "7de1344b-be28-42fa-85ed-9655ffaa6c37",
   "metadata": {},
   "outputs": [
    {
     "name": "stdout",
     "output_type": "stream",
     "text": [
      "['dear students i am pleased', ' to inform you that', 'there is a workshop on', ' python in college ', 'tomorro']\n"
     ]
    }
   ],
   "source": [
    "#wap that uses split function to split a multiline string\n",
    "str=\"dear students i am pleased, to inform you that,there is a workshop on, python in college ,tomorro\"\n",
    "print(str.split(','))\n"
   ]
  },
  {
   "cell_type": "code",
   "execution_count": null,
   "id": "da02a892-6965-4725-a041-af1a32901908",
   "metadata": {},
   "outputs": [],
   "source": [
    "#wap that accepts a string from user and redisplay the same string after removing vowel from it"
   ]
  }
 ],
 "metadata": {
  "kernelspec": {
   "display_name": "Python 3",
   "language": "python",
   "name": "python3"
  },
  "language_info": {
   "codemirror_mode": {
    "name": "ipython",
    "version": 3
   },
   "file_extension": ".py",
   "mimetype": "text/x-python",
   "name": "python",
   "nbconvert_exporter": "python",
   "pygments_lexer": "ipython3",
   "version": "3.12.5"
  }
 },
 "nbformat": 4,
 "nbformat_minor": 5
}
