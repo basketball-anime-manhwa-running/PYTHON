{
 "cells": [
  {
   "cell_type": "code",
   "execution_count": 5,
   "id": "cf92e6ea-591a-4e1e-8a83-4df772b80250",
   "metadata": {},
   "outputs": [
    {
     "name": "stdout",
     "output_type": "stream",
     "text": [
      "Initial array:\n",
      "1 2 3 4 5 6 7 8 9 10 array('i', [4, 5, 6, 7, 8])\n",
      "array('i', [6, 7, 8, 9, 10])\n",
      "array('i', [1, 2, 3, 4, 5, 6, 7, 8, 9, 10])\n"
     ]
    }
   ],
   "source": [
    "#slicing in array\n",
    "import array as arr\n",
    "l=[1,2,3,4,5,6,7,8,9,10]\n",
    "a=arr.array('i',l)\n",
    "print(\"Initial array:\")\n",
    "for i in (a):\n",
    "    print(i,end=\" \")\n",
    "Sliced_array=a[3:8]\n",
    "print(Sliced_array)\n",
    "Sliced_array=a[5:]\n",
    "print(Sliced_array)\n",
    "Sliced_array=a[:]\n",
    "print(Sliced_array)"
   ]
  },
  {
   "cell_type": "code",
   "execution_count": 8,
   "id": "21048dfe-e825-47b8-9c28-ca3c5724f1de",
   "metadata": {},
   "outputs": [
    {
     "name": "stdout",
     "output_type": "stream",
     "text": [
      "the new created array1 2 3 1 2 5 \n",
      "1\n",
      "0\n"
     ]
    }
   ],
   "source": [
    "#wap to tell index of the element\n",
    "import array \n",
    "arr= array.array=[1,2,3,1,2,5]\n",
    "print(\"the new created array\",end=\"\")\n",
    "for i in range(0,6):\n",
    "    print(arr[i],end=\" \")\n",
    "print(\"\\r\")\n",
    "print(arr.index(2))\n",
    "print(arr.index(1))"
   ]
  },
  {
   "cell_type": "code",
   "execution_count": 11,
   "id": "a636f228-a95c-4669-948a-d571ad351120",
   "metadata": {},
   "outputs": [
    {
     "name": "stdout",
     "output_type": "stream",
     "text": [
      "the new created array1 2 3 1 2 5 \n",
      "126125\n",
      "126185\n"
     ]
    }
   ],
   "source": [
    "#change elements in array\n",
    "import array \n",
    "arr= array.array=[1,2,3,1,2,5]\n",
    "print(\"the new created array\",end=\"\")\n",
    "for i in range(0,6):\n",
    "    print(arr[i],end=\" \")\n",
    "print(\"\\r\")\n",
    "arr[2]=6\n",
    "for i in range(0,6):\n",
    "    print (arr[i],end='')\n",
    "print()\n",
    "arr[4]=8\n",
    "for i in range(0,6):\n",
    "    print (arr[i],end='')\n",
    "print()"
   ]
  },
  {
   "cell_type": "code",
   "execution_count": 16,
   "id": "592c5be8-ad9e-4fde-94de-8c0a9e968d1d",
   "metadata": {},
   "outputs": [
    {
     "name": "stdout",
     "output_type": "stream",
     "text": [
      "['amy', 'rohan', 'sapna', 'aakash', 'raunak', 'chimnay']\n"
     ]
    }
   ],
   "source": [
    "#sorting of list\n",
    "#bubble sort in python\n",
    "#sorted_list=sorted(unsorted_list,key\n",
    "def Sorting(lst):\n",
    "    lst2=sorted(lst,key=len)\n",
    "    return lst2\n",
    "#driver code\n",
    "lst=[\"rohan\",\"amy\",\"sapna\",\"aakash\",\"raunak\",\"chimnay\",]\n",
    "print(Sorting(lst))\n",
    "\n"
   ]
  },
  {
   "cell_type": "code",
   "execution_count": 20,
   "id": "0dff5d4d-e2c2-4bcd-a64f-fa15adb32220",
   "metadata": {},
   "outputs": [
    {
     "name": "stdout",
     "output_type": "stream",
     "text": [
      "Original list: [64, 34, 25, 12, 22, 11, 90]\n",
      "Sorted list: [11, 12, 22, 25, 34, 64, 90]\n"
     ]
    }
   ],
   "source": [
    "def bubble_sort(arr):\n",
    "    n = len(arr)\n",
    "    for i in range(n):\n",
    "        for j in range(0, n-i-1):\n",
    "            if arr[j] > arr[j+1]:\n",
    "                arr[j], arr[j+1] = arr[j+1], arr[j]\n",
    "\n",
    "if __name__ == \"__main__\":\n",
    "    sample_list = [64, 34, 25, 12, 22, 11, 90]\n",
    "    print(\"Original list:\", sample_list)\n",
    "    bubble_sort(sample_list)\n",
    "    print(\"Sorted list:\", sample_list)\n"
   ]
  },
  {
   "cell_type": "code",
   "execution_count": 24,
   "id": "2cfdb079-843a-41f4-aae5-51f999d65848",
   "metadata": {},
   "outputs": [
    {
     "name": "stdout",
     "output_type": "stream",
     "text": [
      "()\n",
      "('Hello', 'Sam')\n",
      "(1, 2, 4, 5, 6)\n",
      "('s', 'a', 'm')\n"
     ]
    }
   ],
   "source": [
    "#python tuple\n",
    "tuple1=()\n",
    "print(tuple1)\n",
    "tuple1=('Hello','Sam')\n",
    "print(tuple1)\n",
    "list1=[1,2,4,5,6]\n",
    "print(tuple(list1))\n",
    "tuple1=tuple('sam')\n",
    "print(tuple1)\n"
   ]
  },
  {
   "cell_type": "code",
   "execution_count": 32,
   "id": "396b0be9-9d00-45c8-bcca-c104869ae1ff",
   "metadata": {},
   "outputs": [
    {
     "name": "stdout",
     "output_type": "stream",
     "text": [
      "(5, 'welcome', 7, 'pie')\n",
      "((0, 1, 2, 3), ('python', 'course'))\n",
      "('sam', 'sam', 'sam')\n",
      "('sam',)\n",
      "(('sam',),)\n",
      "((('sam',),),)\n",
      "(((('sam',),),),)\n",
      "((((('sam',),),),),)\n"
     ]
    }
   ],
   "source": [
    "#creating a tuple with mixed datatypes\n",
    "#tuples are immutable\n",
    "tuple1=(5,'welcome',7,'pie')\n",
    "print(tuple1)\n",
    "tuple1=(0,1,2,3)\n",
    "tuple2=('python','course')\n",
    "tuple3=(tuple1,tuple2)\n",
    "print(tuple3)\n",
    "#tuple with repetation\n",
    "tuple1=('sam',)*3\n",
    "print(tuple1)\n",
    "#tuple with loop\n",
    "tuple1=('sam')\n",
    "n=5\n",
    "for i in range(int(n)):\n",
    "    tuple1=(tuple1,)\n",
    "    print(tuple1)"
   ]
  },
  {
   "cell_type": "code",
   "execution_count": 34,
   "id": "b29109d4-3870-426b-9502-06f4cc12ca17",
   "metadata": {},
   "outputs": [
    {
     "name": "stdout",
     "output_type": "stream",
     "text": [
      "s\n",
      "sam\n",
      "is\n",
      "dancing\n"
     ]
    }
   ],
   "source": [
    "#accessing tuple\n",
    "t1=tuple('sam')\n",
    "print(t1[0])\n",
    "t1=('sam','is','dancing')\n",
    "a,b,c=t1\n",
    "print(a)\n",
    "print(b)\n",
    "print(c)"
   ]
  },
  {
   "cell_type": "code",
   "execution_count": 40,
   "id": "99841193-4808-4a2d-bf83-74af910db8f4",
   "metadata": {},
   "outputs": [
    {
     "name": "stdout",
     "output_type": "stream",
     "text": [
      "(0, 1, 2, 4, 'sam', 'is', 'studying')\n",
      "(0, 1, 2, 4)\n",
      "('sam', 'is', 'studying')\n"
     ]
    }
   ],
   "source": [
    "#concatination of tuples\n",
    "t1=(0,1,2,4)\n",
    "t2=('sam','is','studying')\n",
    "t3=t1+t2\n",
    "print(t3)\n",
    "print(t1)\n",
    "print(t2)"
   ]
  },
  {
   "cell_type": "code",
   "execution_count": 43,
   "id": "743abf40-0c63-4dfb-a946-054f6a334cb6",
   "metadata": {},
   "outputs": [
    {
     "name": "stdout",
     "output_type": "stream",
     "text": [
      "('r', 'a', 'n', 's', 'f', 'o', 'r', 'm', 'e', 'r', 's')\n",
      "('s', 'r', 'e', 'm', 'r', 'o', 'f', 's', 'n', 'a', 'r', 't')\n",
      "('a', 'n', 's')\n"
     ]
    }
   ],
   "source": [
    "t1=tuple('transformers')\n",
    "print(t1[1:])\n",
    "print(t1[::-1])\n",
    "print(t1[2:5])"
   ]
  },
  {
   "cell_type": "code",
   "execution_count": 44,
   "id": "158f0cff-2683-4f9d-a78d-5ba9a4ae23f6",
   "metadata": {},
   "outputs": [],
   "source": [
    "#deletion in tuple--They don't allow deletion of a part of it as they are immutable. The entire tuple gets deleted if we use del()\n",
    "#list vs tuple\n",
    "#how many ways are there to assign a tuple(tuple assignment)\n",
    "#nested tuples\n",
    "#loop through index numbers\n"
   ]
  },
  {
   "cell_type": "code",
   "execution_count": 46,
   "id": "e3b028dc-83c3-4a5e-97f5-e1437722ee46",
   "metadata": {},
   "outputs": [
    {
     "name": "stdout",
     "output_type": "stream",
     "text": [
      "99\n",
      "82\n"
     ]
    }
   ],
   "source": [
    "def max_min(val):\n",
    "    x=max(vals)#returns highest value\n",
    "    y=min(vals)#returns minimum value\n",
    "    return (x,y)\n",
    "vals=(99,98,90,97,89,86,93,82)\n",
    "(mm,minm)=max_min(vals)\n",
    "print(mm)\n",
    "print(minm)\n"
   ]
  },
  {
   "cell_type": "code",
   "execution_count": 51,
   "id": "8dd8c275-6d92-427b-9bab-9e190c8831af",
   "metadata": {},
   "outputs": [
    {
     "name": "stdout",
     "output_type": "stream",
     "text": [
      "('mohit', 'mba', 100)\n",
      "('chaitanya', 'btech', 30)\n",
      "('nilanshu', 'mtech', 100)\n"
     ]
    }
   ],
   "source": [
    "topper=(('mohit','mba',100),(\"chaitanya\",'btech',30),(\"nilanshu\",'mtech',100))\n",
    "for i in topper:\n",
    "    print(i)"
   ]
  },
  {
   "cell_type": "code",
   "execution_count": 53,
   "id": "5928309c-0f1a-46c7-ae94-661da9ffb4a7",
   "metadata": {},
   "outputs": [
    {
     "name": "stdout",
     "output_type": "stream",
     "text": [
      "janvi\n",
      "([94, 95, 96, 97],)\n"
     ]
    }
   ],
   "source": [
    "topper=('janvi',[94,95,96,97])\n",
    "print(topper[0])\n",
    "print(topper[1:])"
   ]
  },
  {
   "cell_type": "code",
   "execution_count": 54,
   "id": "e36b804e-5086-4946-8273-946e20f8fd51",
   "metadata": {},
   "outputs": [
    {
     "name": "stdout",
     "output_type": "stream",
     "text": [
      "apple\n",
      "banana\n",
      "cherry\n"
     ]
    }
   ],
   "source": [
    "#loop through index numbers\n",
    "thistuple=('apple','banana','cherry')\n",
    "for i in range(len(thistuple)):\n",
    "    print(thistuple[i])"
   ]
  },
  {
   "cell_type": "code",
   "execution_count": null,
   "id": "a4d22c61-7619-4580-a2b6-a6ef91b6888b",
   "metadata": {},
   "outputs": [],
   "source": []
  }
 ],
 "metadata": {
  "kernelspec": {
   "display_name": "Python 3 (ipykernel)",
   "language": "python",
   "name": "python3"
  },
  "language_info": {
   "codemirror_mode": {
    "name": "ipython",
    "version": 3
   },
   "file_extension": ".py",
   "mimetype": "text/x-python",
   "name": "python",
   "nbconvert_exporter": "python",
   "pygments_lexer": "ipython3",
   "version": "3.12.5"
  }
 },
 "nbformat": 4,
 "nbformat_minor": 5
}
