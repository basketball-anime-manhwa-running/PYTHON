{
 "cells": [
  {
   "cell_type": "code",
   "execution_count": 8,
   "id": "792fe41b-ab23-4b2c-979b-ad3b07de6ecc",
   "metadata": {},
   "outputs": [
    {
     "name": "stdin",
     "output_type": "stream",
     "text": [
      "Enter a number:  7\n"
     ]
    },
    {
     "name": "stdout",
     "output_type": "stream",
     "text": [
      " prime number\n"
     ]
    }
   ],
   "source": [
    "#wap to classify a number as prime or non prime\n",
    "num = int(input(\"Enter a number: \"))\n",
    "if num > 1:\n",
    "    for i in range(2, num):\n",
    "        if (num % i) == 0:\n",
    "            print(\"not a prime number\")\n",
    "            break\n",
    "    else:\n",
    "        print(\" prime number\")\n",
    "else:\n",
    "    print(\"print number\")\n",
    "\n",
    "\n"
   ]
  },
  {
   "cell_type": "code",
   "execution_count": 7,
   "id": "c2d36b28-5a71-4f65-afe9-2441d5d086d6",
   "metadata": {},
   "outputs": [
    {
     "name": "stdin",
     "output_type": "stream",
     "text": [
      "Enter a number:  5\n"
     ]
    },
    {
     "name": "stdout",
     "output_type": "stream",
     "text": [
      "120\n"
     ]
    }
   ],
   "source": [
    "#wap to calculate factorial of a number using for loop\n",
    "\n",
    "num = int(input(\"Enter a number: \"))\n",
    "factorial = 1\n",
    "if num < 0:\n",
    "    print(\"factorial does not exist for negative numbers\")\n",
    "elif num == 0:\n",
    "    print(\"The factorial of 0 is 1\")\n",
    "else:\n",
    "    for i in range(1, num + 1):\n",
    "        factorial *= i\n",
    "    print(factorial)\n"
   ]
  },
  {
   "cell_type": "code",
   "execution_count": 11,
   "id": "a28a23b2-0127-42d6-84cf-2597405554fb",
   "metadata": {},
   "outputs": [
    {
     "name": "stdout",
     "output_type": "stream",
     "text": [
      "1904\n",
      "1908\n",
      "1912\n",
      "1916\n",
      "1920\n",
      "1924\n",
      "1928\n",
      "1932\n",
      "1936\n",
      "1940\n",
      "1944\n",
      "1948\n",
      "1952\n",
      "1956\n",
      "1960\n",
      "1964\n",
      "1968\n",
      "1972\n",
      "1976\n",
      "1980\n",
      "1984\n",
      "1988\n",
      "1992\n",
      "1996\n",
      "2000\n",
      "2004\n",
      "2008\n",
      "2012\n",
      "2016\n",
      "2020\n",
      "2024\n",
      "2028\n",
      "2032\n",
      "2036\n",
      "2040\n",
      "2044\n",
      "2048\n",
      "2052\n",
      "2056\n",
      "2060\n",
      "2064\n",
      "2068\n",
      "2072\n",
      "2076\n",
      "2080\n",
      "2084\n",
      "2088\n",
      "2092\n",
      "2096\n"
     ]
    }
   ],
   "source": [
    "#wap that display all leap years from 1900 to 2101\n",
    "\n",
    "for x in range(1900, 2102):\n",
    "    if (x % 4 == 0 and x % 100 != 0) or (x % 400 == 0):\n",
    "        print(x)\n",
    "\n"
   ]
  },
  {
   "cell_type": "code",
   "execution_count": 16,
   "id": "fa6c057c-90d5-4530-94e1-795da9e26b98",
   "metadata": {},
   "outputs": [
    {
     "name": "stdin",
     "output_type": "stream",
     "text": [
      " 5\n"
     ]
    },
    {
     "name": "stdout",
     "output_type": "stream",
     "text": [
      "2.283333333333333\n"
     ]
    }
   ],
   "source": [
    "#wap to sum the series 1+1/2+1/3+...1/x\n",
    "\n",
    "x = int(input())\n",
    "s = float(0)\n",
    "for i in range(1, x + 1):\n",
    "    s = s+ 1/i\n",
    "print(s)\n"
   ]
  },
  {
   "cell_type": "code",
   "execution_count": 18,
   "id": "8e8f2418-bb15-43ef-a040-1c5075438161",
   "metadata": {},
   "outputs": [
    {
     "name": "stdout",
     "output_type": "stream",
     "text": [
      "0 0\n",
      "1 0\n",
      "2 0\n",
      "3 0\n"
     ]
    }
   ],
   "source": [
    "#break statement\n",
    "for i in range(4):\n",
    "    for j in range(4):\n",
    "        if j==1:\n",
    "            break\n",
    "        print(i,j)"
   ]
  },
  {
   "cell_type": "code",
   "execution_count": 19,
   "id": "2673770f-f08d-4449-b57d-c34162a9007c",
   "metadata": {},
   "outputs": [
    {
     "name": "stdout",
     "output_type": "stream",
     "text": [
      "2 4\n",
      "2 6\n",
      "4 2\n",
      "4 6\n",
      "6 2\n",
      "6 4\n"
     ]
    }
   ],
   "source": [
    "#continue statement\n",
    "first=[2,4,6]\n",
    "second=[2,4,6]\n",
    "for i in first:\n",
    "    for j in second:\n",
    "        if i == j:\n",
    "            continue\n",
    "        print(i,j)"
   ]
  },
  {
   "cell_type": "code",
   "execution_count": 20,
   "id": "40678b2a-9024-41b7-a55f-a88ddf0ba2b4",
   "metadata": {},
   "outputs": [],
   "source": [
    "#pass statement(used to write empty loops,empty control statements,functions and classes)\n"
   ]
  },
  {
   "cell_type": "code",
   "execution_count": 28,
   "id": "6147f470-78d9-43cd-9995-4e32ab5bc0b8",
   "metadata": {},
   "outputs": [
    {
     "name": "stdout",
     "output_type": "stream",
     "text": [
      "Physics\n",
      "2\n"
     ]
    }
   ],
   "source": [
    "list1=['Physics','chemistry',1997,2000]\n",
    "list2=[1,2,3,4,5,6,7]\n",
    "print(list1[0])\n",
    "print(list2[1])"
   ]
  },
  {
   "cell_type": "code",
   "execution_count": 30,
   "id": "6e554225-0fbd-455e-a82a-367a0cd5a9cc",
   "metadata": {},
   "outputs": [
    {
     "name": "stdout",
     "output_type": "stream",
     "text": [
      "2000\n",
      "7\n"
     ]
    }
   ],
   "source": [
    "#negative indexing\n",
    "list1=['Physics','chemistry',1997,2000]\n",
    "list2=[1,2,3,4,5,6,7]\n",
    "print(list1[-1])\n",
    "print(list2[-1])"
   ]
  },
  {
   "cell_type": "code",
   "execution_count": 31,
   "id": "d1144b5e-01d0-4691-b098-c29851450b7a",
   "metadata": {},
   "outputs": [
    {
     "name": "stdout",
     "output_type": "stream",
     "text": [
      "['Physics', 'chemistry', 1997, 2000, 'Shashank']\n"
     ]
    }
   ],
   "source": [
    "#append element in list(can also use insert(),extend()(can add multiple element through extend()))\n",
    "list1=['Physics','chemistry',1997,2000]\n",
    "list1.append(\"Shashank\")\n",
    "print(list1)"
   ]
  },
  {
   "cell_type": "code",
   "execution_count": 1,
   "id": "b385dbe1-7dee-4676-b9e1-59bf9e186574",
   "metadata": {},
   "outputs": [
    {
     "name": "stdout",
     "output_type": "stream",
     "text": [
      "['G', 'E', 'E', 'K', 'S', 'F', 'O', 'R', 'G', 'E', 'E', 'K', 'S']\n",
      "['G', 'E', 'E', 'K', 'S', 'F', 'O']\n",
      "['R', 'G', 'E', 'E', 'K']\n",
      "['S', 'K', 'E', 'E', 'G', 'R', 'O', 'F', 'S', 'K', 'E', 'E', 'G']\n"
     ]
    }
   ],
   "source": [
    "list=['G','E','E','K','S','F','O','R','G','E','E','K','S']\n",
    "print(list)\n",
    "sliced_list=list[:-6]\n",
    "print(sliced_list)\n",
    "sliced_list=list[-6:-1]\n",
    "print(sliced_list)\n",
    "sliced_list=list[::-1]\n",
    "print(sliced_list)"
   ]
  },
  {
   "cell_type": "code",
   "execution_count": 2,
   "id": "34bdc91c-458d-4970-94b3-642bffc7d765",
   "metadata": {},
   "outputs": [
    {
     "name": "stdout",
     "output_type": "stream",
     "text": [
      "[1, 9, 25, 49, 81]\n"
     ]
    }
   ],
   "source": [
    "#list comprehension\n",
    "odd_square = [x**2 for x in range(1,11) if x%2==1]\n",
    "print(odd_square)"
   ]
  },
  {
   "cell_type": "code",
   "execution_count": 3,
   "id": "b300bad2-6bb0-426c-a09f-0eeb4a8d6843",
   "metadata": {},
   "outputs": [
    {
     "ename": "SyntaxError",
     "evalue": "incomplete input (1975564772.py, line 5)",
     "output_type": "error",
     "traceback": [
      "\u001b[1;36m  Cell \u001b[1;32mIn[3], line 5\u001b[1;36m\u001b[0m\n\u001b[1;33m    print(\"list1[\",i,\"] = \",list1[i]\u001b[0m\n\u001b[1;37m                                    ^\u001b[0m\n\u001b[1;31mSyntaxError\u001b[0m\u001b[1;31m:\u001b[0m incomplete input\n"
     ]
    }
   ],
   "source": [
    "#Nested List\n",
    "list1=[1,'a',\"abc\",[2,3,4,5],8,9]\n",
    "i=0\n",
    "while i<(len(list1)):\n",
    "    print(\"list1[\",i,\"] = \",list1[i]"
   ]
  },
  {
   "cell_type": "code",
   "execution_count": 4,
   "id": "66730d64-24cb-4bc9-9d8e-17ef74cb7a34",
   "metadata": {},
   "outputs": [],
   "source": [
    "#program to copy as well as the clone of the original list\n",
    "#program to illstruate operation on a stack\n",
    "#peep operation\n",
    "#list as queue \n",
    "#list as stack\n",
    "#looping in list\n",
    "#program to print the elements in the list using an iterator"
   ]
  },
  {
   "cell_type": "code",
   "execution_count": 7,
   "id": "dde6b94d-64c3-46c9-a2a2-9057cba61517",
   "metadata": {},
   "outputs": [
    {
     "name": "stdout",
     "output_type": "stream",
     "text": [
      "[1, 2, 3, 4, 5, 6]\n",
      "[1, 2, 3, 4, 5, 6, 7]\n",
      "[2, 3, 4, 5, 6, 7]\n"
     ]
    }
   ],
   "source": [
    "queue=[1,2,3,4,5,6]\n",
    "print(queue)\n",
    "queue.append(7)\n",
    "print(queue)\n",
    "queue.pop(0)\n",
    "print(queue)\n",
    "\n"
   ]
  },
  {
   "cell_type": "code",
   "execution_count": 11,
   "id": "a6206c9b-e9b6-42b0-8062-d42cb4c60136",
   "metadata": {},
   "outputs": [
    {
     "name": "stdout",
     "output_type": "stream",
     "text": [
      "sum of elements in the list= 55\n",
      "Average of elements in the list= 5.5\n"
     ]
    }
   ],
   "source": [
    "list=[1,2,3,4,5,6,7,8,9,10]\n",
    "sum=0\n",
    "for i in list:\n",
    "    sum+=i\n",
    "print(\"sum of elements in the list=\",sum)\n",
    "print(\"Average of elements in the list=\", float(sum/float(len(list))))"
   ]
  },
  {
   "cell_type": "code",
   "execution_count": 12,
   "id": "165e3443-95b9-4a60-81e9-005972b18009",
   "metadata": {},
   "outputs": [
    {
     "name": "stdout",
     "output_type": "stream",
     "text": [
      "[1, 2, 3, 4, 5]\n",
      "[1, 2, 3, 4, 5]\n",
      "[1, 2, 3, 4, 5]\n",
      "[1, 2, 3, 4, 5]\n",
      "[1, 2, 3, 4, 5]\n"
     ]
    }
   ],
   "source": [
    "list=[1,2,3,4,5]\n",
    "for index,i in enumerate(list):\n",
    "    print(list)"
   ]
  },
  {
   "cell_type": "code",
   "execution_count": 13,
   "id": "3bfbf4c9-9b12-4cd3-945d-7a6f25f86f8e",
   "metadata": {},
   "outputs": [
    {
     "name": "stdout",
     "output_type": "stream",
     "text": [
      "index: 0\n",
      "index: 1\n",
      "index: 2\n",
      "index: 3\n",
      "index: 4\n"
     ]
    }
   ],
   "source": [
    "list=[1,2,3,4,5]\n",
    "for i in range(len(list)):\n",
    "    print(\"index:\",i)"
   ]
  },
  {
   "cell_type": "code",
   "execution_count": 15,
   "id": "b653e389-fdbd-4097-b8c1-7288d60a5d8b",
   "metadata": {},
   "outputs": [
    {
     "name": "stdout",
     "output_type": "stream",
     "text": [
      "element at index 0 is 1\n",
      "element at index 1 is 2\n",
      "element at index 2 is 3\n",
      "element at index 3 is 4\n",
      "element at index 4 is 5\n"
     ]
    }
   ],
   "source": [
    "list=[1,2,3,4,5]\n",
    "it = iter(list)\n",
    "for i in range(len(list)):\n",
    "    print(\"element at index\", i , \"is\", next(it))"
   ]
  },
  {
   "cell_type": "code",
   "execution_count": 16,
   "id": "c421e466-0110-4052-b258-cc929d7f73e4",
   "metadata": {},
   "outputs": [],
   "source": [
    "#python functions\n",
    "#what do you mean by function overloading\n",
    "#user defined function\n",
    "#pass by reference/value\n",
    "#python function arguments\n",
    "#keyword arguments\n",
    "#positional arguments\n",
    "#variable length argument\n",
    "#docstring\n",
    "#anonymous function in python\n",
    "#lambda function in python\n",
    "#reciprocal\n",
    "#lambda function with filter\n",
    "#recursive functions\n",
    "#return statement \n",
    "\n"
   ]
  },
  {
   "cell_type": "code",
   "execution_count": 23,
   "id": "4814a82a-88b3-4588-a176-c18ac52bc874",
   "metadata": {},
   "outputs": [
    {
     "name": "stdout",
     "output_type": "stream",
     "text": [
      "[289, 2704, 64]\n"
     ]
    }
   ],
   "source": [
    "def square(item_list):\n",
    "    squares = []\n",
    "    for i in item_list:\n",
    "        squares.append(i**2)\n",
    "    return squares\n",
    "\n",
    "my_list = [17, 52, 8]\n",
    "result = square(my_list)\n",
    "print(result)\n"
   ]
  },
  {
   "cell_type": "code",
   "execution_count": 35,
   "id": "f827a554-bb2c-46a8-b179-fb031d4a619b",
   "metadata": {},
   "outputs": [
    {
     "name": "stdout",
     "output_type": "stream",
     "text": [
      "7 is Odd\n"
     ]
    }
   ],
   "source": [
    "def check_even_odd(x):\n",
    "    if x % 2 == 0:\n",
    "        return \"Even\"\n",
    "    else:\n",
    "        return \"Odd\"\n",
    "number = 7\n",
    "result = check_even_odd(number)\n",
    "print(number ,\"is\", result)\n"
   ]
  },
  {
   "cell_type": "code",
   "execution_count": 42,
   "id": "b883742d-20b2-4b76-ade6-a3e5d837ff08",
   "metadata": {
    "scrolled": true
   },
   "outputs": [
    {
     "name": "stdout",
     "output_type": "stream",
     "text": [
      "8\n"
     ]
    }
   ],
   "source": [
    "#positional argument\n",
    "def add_numbers(a, b):\n",
    "    return a + b\n",
    "result = add_numbers(3, 5)\n",
    "print(result) \n"
   ]
  },
  {
   "cell_type": "code",
   "execution_count": 39,
   "id": "e7e45de6-5c3a-498c-b116-d3fcb66e6a12",
   "metadata": {},
   "outputs": [
    {
     "name": "stdout",
     "output_type": "stream",
     "text": [
      "15\n"
     ]
    }
   ],
   "source": [
    "# Lambda function to add 10 to a given number\n",
    "add_ten = lambda x: x + 10\n",
    "result = add_ten(5)\n",
    "print(result) \n"
   ]
  },
  {
   "cell_type": "code",
   "execution_count": 45,
   "id": "6285f4ac-687f-41ac-a0e5-c2304646f7cf",
   "metadata": {},
   "outputs": [
    {
     "name": "stdout",
     "output_type": "stream",
     "text": [
      "20\n"
     ]
    }
   ],
   "source": [
    "a=lambda x,y:x*y\n",
    "print(a(4,5))"
   ]
  },
  {
   "cell_type": "code",
   "execution_count": 46,
   "id": "3cafb201-b80f-4639-a481-e364cecbc573",
   "metadata": {},
   "outputs": [
    {
     "name": "stdout",
     "output_type": "stream",
     "text": [
      "14\n"
     ]
    }
   ],
   "source": [
    "a=lambda x,y,z:x+y+z\n",
    "print(a(4,5,5))"
   ]
  },
  {
   "cell_type": "code",
   "execution_count": 48,
   "id": "4b6eddee-25e8-4096-94aa-a81321f68806",
   "metadata": {},
   "outputs": [
    {
     "name": "stdout",
     "output_type": "stream",
     "text": [
      "Outside function var1 is Sunday\n",
      "good\n"
     ]
    }
   ],
   "source": [
    "#global variable and local variable \n",
    "var = \"good\"\n",
    "def show():\n",
    "    global var1\n",
    "    var1 = \"Sunday\"\n",
    "show()\n",
    "print(\"Outside function var1 is\", var1)\n",
    "print(var)"
   ]
  },
  {
   "cell_type": "code",
   "execution_count": 55,
   "id": "ee9fffb9-0860-4ca6-aa9e-2efe04c91211",
   "metadata": {},
   "outputs": [
    {
     "name": "stdin",
     "output_type": "stream",
     "text": [
      " 5\n"
     ]
    },
    {
     "name": "stdout",
     "output_type": "stream",
     "text": [
      "5 is Odd\n"
     ]
    }
   ],
   "source": [
    "#even or odd using function and return statement\n",
    "def even_odd(number):\n",
    "    if number % 2 == 0:\n",
    "        return \"Even\"\n",
    "    else:\n",
    "        return \"Odd\"\n",
    "\n",
    "num = int(input())\n",
    "result = even_odd(num)\n",
    "print(num ,\"is\", result)\n",
    "\n"
   ]
  },
  {
   "cell_type": "code",
   "execution_count": 56,
   "id": "95c2f423-a6ea-4148-b44b-380fd1852479",
   "metadata": {},
   "outputs": [
    {
     "name": "stdin",
     "output_type": "stream",
     "text": [
      " 5\n",
      " 4\n"
     ]
    },
    {
     "name": "stdout",
     "output_type": "stream",
     "text": [
      "The result of subtracting 4 from 5 is 1\n"
     ]
    }
   ],
   "source": [
    "#wap using function to subtract two numbers\n",
    "def subtract_numbers(a, b):\n",
    "    return a - b\n",
    "num1 = int(input())\n",
    "num2 = int(input())\n",
    "result = subtract_numbers(num1, num2)\n",
    "print(\"The result of subtracting\", num2 ,\"from\", num1 ,\"is\", result)\n"
   ]
  },
  {
   "cell_type": "code",
   "execution_count": 60,
   "id": "0fe2e5fd-64f6-4573-ae96-d1136fef3004",
   "metadata": {
    "scrolled": true
   },
   "outputs": [
    {
     "name": "stdin",
     "output_type": "stream",
     "text": [
      " 5\n",
      " 40\n"
     ]
    },
    {
     "name": "stdout",
     "output_type": "stream",
     "text": [
      "340\n"
     ]
    }
   ],
   "source": [
    "#wap to convert time into minutes\n",
    "def convert(h, m):\n",
    "    tm = h * 60 + m\n",
    "    return tm\n",
    "h = int(input())\n",
    "m = int(input())\n",
    "tm = convert(h, m)\n",
    "print(tm)\n"
   ]
  },
  {
   "cell_type": "code",
   "execution_count": 62,
   "id": "5f2337b5-ad4d-45a6-ba72-27f064aee49c",
   "metadata": {},
   "outputs": [
    {
     "name": "stdin",
     "output_type": "stream",
     "text": [
      " 4\n",
      " 5\n"
     ]
    },
    {
     "name": "stdout",
     "output_type": "stream",
     "text": [
      "5 4\n"
     ]
    }
   ],
   "source": [
    "#wap to swap two numbers\n",
    "def swap(x,y):\n",
    "    return y,x\n",
    "x = int(input())\n",
    "y = int(input())\n",
    "x,y = swap(x,y)\n",
    "print(x,y)"
   ]
  },
  {
   "cell_type": "code",
   "execution_count": 69,
   "id": "8fb29787-1ed7-47e7-977e-6e1ee9d61cdb",
   "metadata": {},
   "outputs": [
    {
     "name": "stdin",
     "output_type": "stream",
     "text": [
      " 65\n",
      " 100\n",
      " 1\n"
     ]
    },
    {
     "name": "stdout",
     "output_type": "stream",
     "text": [
      "12.0\n"
     ]
    }
   ],
   "source": [
    "#wap to calculate simple interest suppose the customer is senior citizen and he is offered a interest rate of 12% and other customers are offered a interest rate of 10%\n",
    "'''age=int(input())\n",
    "P= float(input())\n",
    "T= int(input())\n",
    "if age>60:\n",
    "    print((P*12*T)/100)\n",
    "else:\n",
    "    print((P*10*T)/100)'''\n",
    "\n",
    "age=int(input())\n",
    "P= float(input())\n",
    "T= int(input())\n",
    "\n",
    "def calculate(age,P,T):\n",
    "    if age>60:\n",
    "     interest = (P*12*T)/100\n",
    "     return interest\n",
    "    else:\n",
    "     interest = (P*10*T)/100\n",
    "     return interest\n",
    "\n",
    "X = calculate(age,P,T)\n",
    "print(X)"
   ]
  },
  {
   "cell_type": "code",
   "execution_count": null,
   "id": "a3dcef1b-0144-4aaa-9adf-2d38c70cfc7b",
   "metadata": {},
   "outputs": [],
   "source": [
    "#recursion function\n",
    "def recursive(n):\n",
    "    if n<=1:\n",
    "        return n\n",
    "    else:\n",
    "        return (recursive(n-1)+recursive(n-2))\n",
    "x=int(input())\n",
    "n = recursive(x)\n",
    "print(n)\n",
    "\n",
    " "
   ]
  },
  {
   "cell_type": "code",
   "execution_count": null,
   "id": "d3c0e873-f724-4c35-9610-e46530b620e3",
   "metadata": {},
   "outputs": [],
   "source": []
  }
 ],
 "metadata": {
  "kernelspec": {
   "display_name": "Python 3 (ipykernel)",
   "language": "python",
   "name": "python3"
  },
  "language_info": {
   "codemirror_mode": {
    "name": "ipython",
    "version": 3
   },
   "file_extension": ".py",
   "mimetype": "text/x-python",
   "name": "python",
   "nbconvert_exporter": "python",
   "pygments_lexer": "ipython3",
   "version": "3.12.5"
  }
 },
 "nbformat": 4,
 "nbformat_minor": 5
}
