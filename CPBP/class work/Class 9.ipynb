{
 "cells": [
  {
   "cell_type": "code",
   "execution_count": 1,
   "id": "f28f2341-32cd-41a7-b5d9-b974c99e7266",
   "metadata": {},
   "outputs": [],
   "source": [
    "#string are immutable\n",
    "#every object in python stored in memenory...you can find out whether two variables are id() function...this fun returns the memory address of that object\n",
    "# += this operator is used for appending\n",
    "#when we add something to a string it goes to another memory address"
   ]
  },
  {
   "cell_type": "code",
   "execution_count": 18,
   "id": "822e0e61-2a79-45b3-8db2-cc77ed02ed00",
   "metadata": {},
   "outputs": [
    {
     "name": "stdout",
     "output_type": "stream",
     "text": [
      "hello\n"
     ]
    },
    {
     "name": "stdin",
     "output_type": "stream",
     "text": [
      " ssd\n"
     ]
    },
    {
     "name": "stdout",
     "output_type": "stream",
     "text": [
      "1451009423664\n",
      "1450987720064\n",
      "hellossd\n",
      "1451014682544\n"
     ]
    }
   ],
   "source": [
    "a=\"hello\"\n",
    "print(a)\n",
    "name=input()\n",
    "print(id(name))\n",
    "print(id(a))\n",
    "a+=name\n",
    "print(a)\n",
    "print(id(a))\n"
   ]
  },
  {
   "cell_type": "code",
   "execution_count": 24,
   "id": "0a620b5e-c566-4aaa-9deb-5b1f709336a4",
   "metadata": {},
   "outputs": [
    {
     "name": "stdout",
     "output_type": "stream",
     "text": [
      "name=abcd and age = 1\n"
     ]
    }
   ],
   "source": [
    "#string formatting operator--the format operator % allows users to construct strings replacing parts of the string eith the data stored in the variables\n",
    "#syntex for string formatting operator \"<Format>\"%(<Values>) \n",
    "name=\"abcd\"\n",
    "age=1\n",
    "print(\"name=%s and age = %d\"%(name,age))"
   ]
  },
  {
   "cell_type": "code",
   "execution_count": 34,
   "id": "668cefe5-3cca-4938-97d9-f05074f6fc0c",
   "metadata": {},
   "outputs": [
    {
     "data": {
      "text/plain": [
       "'Format symbol                      purpose\\n   %c                                 character\\n   %d or %i                           signed decimal integer\\n   %s                                 string\\n   %u                                 unsigned decimal integer\\n   %o                                 octal integer\\n   %x or %X                           hexadecimal integer\\n   %e or %E                           exponential notation\\n   %f                                 floating point number\\n   %g or %G                           short numbers in floating point or exponential notation'"
      ]
     },
     "execution_count": 34,
     "metadata": {},
     "output_type": "execute_result"
    }
   ],
   "source": [
    "\"\"\"Format symbol                      purpose\n",
    "   %c                                 character\n",
    "   %d or %i                           signed decimal integer\n",
    "   %s                                 string\n",
    "   %u                                 unsigned decimal integer\n",
    "   %o                                 octal integer\n",
    "   %x or %X                           hexadecimal integer\n",
    "   %e or %E                           exponential notation\n",
    "   %f                                 floating point number\n",
    "   %g or %G                           short numbers in floating point or exponential notation\"\"\"\n",
    "#WAP to display power of a number without using formatting of a number\n"
   ]
  },
  {
   "cell_type": "code",
   "execution_count": 40,
   "id": "f07c88c4-ca62-4388-965f-5b04075e1f99",
   "metadata": {},
   "outputs": [
    {
     "ename": "SyntaxError",
     "evalue": "unexpected character after line continuation character (684995339.py, line 9)",
     "output_type": "error",
     "traceback": [
      "\u001b[1;36m  Cell \u001b[1;32mIn[40], line 9\u001b[1;36m\u001b[0m\n\u001b[1;33m    print(\"%-4s%-5s%-6s\"%\\('i','i**2','i**3'))\u001b[0m\n\u001b[1;37m                          ^\u001b[0m\n\u001b[1;31mSyntaxError\u001b[0m\u001b[1;31m:\u001b[0m unexpected character after line continuation character\n"
     ]
    }
   ],
   "source": [
    "#WAP to display power of a number from 1 to 5 without using formatting of a number\n",
    "def display_powers(number):\n",
    "    i = 1\n",
    "    while i <= 5:\n",
    "        print(number,\"^\",i ,\"=\", number ** i)\n",
    "        i += 1\n",
    "num = int(input(\"Enter a number: \"))\n",
    "display_powers(num)\n",
    "\n"
   ]
  },
  {
   "cell_type": "code",
   "execution_count": 1,
   "id": "5391b72a-430f-4b12-8304-329701afc977",
   "metadata": {},
   "outputs": [
    {
     "name": "stdout",
     "output_type": "stream",
     "text": [
      "2 raised to the power of 1 is 2\n",
      "2 raised to the power of 2 is 4\n",
      "2 raised to the power of 3 is 8\n",
      "2 raised to the power of 4 is 16\n",
      "2 raised to the power of 5 is 32\n"
     ]
    }
   ],
   "source": [
    "# Function to display powers of a number from 1 to 5\n",
    "def display_powers(number):\n",
    "    for i in range(1, 6):\n",
    "        power = number ** i\n",
    "        print(f\"{number} raised to the power of {i} is {power}\")\n",
    "\n",
    "# Example usage\n",
    "number = 2  # You can change this to any number you want to use\n",
    "display_powers(number)\n"
   ]
  },
  {
   "cell_type": "code",
   "execution_count": 2,
   "id": "c18f145d-2d6d-4187-8e76-87c359edaefb",
   "metadata": {},
   "outputs": [
    {
     "name": "stdout",
     "output_type": "stream",
     "text": [
      "2 raised to the power of 1 is 2.00\n",
      "2 raised to the power of 2 is 4.00\n",
      "2 raised to the power of 3 is 8.00\n",
      "2 raised to the power of 4 is 16.00\n",
      "2 raised to the power of 5 is 32.00\n"
     ]
    }
   ],
   "source": [
    "# Function to display powers of a number from 1 to 5 with formatting\n",
    "def display_powers(number):\n",
    "    for i in range(1, 6):\n",
    "        power = number ** i\n",
    "        print(f\"{number} raised to the power of {i} is {power:.2f}\")\n",
    "\n",
    "# Example usage\n",
    "number = 2  # You can change this to any number you want to use\n",
    "display_powers(number)\n"
   ]
  },
  {
   "cell_type": "code",
   "execution_count": 2,
   "id": "e4a4ab68-2837-4850-bedb-7ecf320ee6b7",
   "metadata": {},
   "outputs": [
    {
     "name": "stdout",
     "output_type": "stream",
     "text": [
      "1   1    1     1      1       \n",
      "2   4    8     16     32      \n",
      "3   9    27    81     243     \n",
      "4   16   64    256    1024    \n",
      "5   25   125   625    3125    \n"
     ]
    }
   ],
   "source": [
    "i=1\n",
    "while i<=5:\n",
    "    print(\"%-4d%-5d%-6d%-7d%-8d\"%(i,i**2,i**3,i**4,i**5))\n",
    "    i=i+1"
   ]
  },
  {
   "cell_type": "code",
   "execution_count": 52,
   "id": "4ced5ab6-36f8-48ad-896f-0b5013a28a28",
   "metadata": {},
   "outputs": [
    {
     "name": "stdout",
     "output_type": "stream",
     "text": [
      "Hello\n"
     ]
    }
   ],
   "source": [
    "#building string methods in python\n",
    "#method is invoked or callled on an object (method vs main function\n",
    "#capitalize()--The function is used to capitalize the first letter of the string\n",
    "str=\"hello\"\n",
    "print(str.capitalize())"
   ]
  },
  {
   "cell_type": "code",
   "execution_count": 54,
   "id": "0e739e97-f6c1-472e-a4ab-2c1bae102ece",
   "metadata": {},
   "outputs": [
    {
     "name": "stdout",
     "output_type": "stream",
     "text": [
      "***hello***\n"
     ]
    }
   ],
   "source": [
    "#center(width,fillchar)--it returns a string with a original centre mai krta h\n",
    "str=\"hello\"\n",
    "print(str.center(11,'*'))"
   ]
  },
  {
   "cell_type": "code",
   "execution_count": 64,
   "id": "32229ec5-0281-4d74-b080-9bd439180e68",
   "metadata": {},
   "outputs": [
    {
     "name": "stdout",
     "output_type": "stream",
     "text": [
      "3\n"
     ]
    }
   ],
   "source": [
    "#count(str,beg,end)beg=0,end= length of message to search the entire string\n",
    "str=\"he\"\n",
    "message=\"hello world hello hello\"\n",
    "print(message.count(str,0,len(message)))\n"
   ]
  },
  {
   "cell_type": "code",
   "execution_count": 58,
   "id": "555afc06-b4c8-4cdc-8d02-ba1a90b39410",
   "metadata": {},
   "outputs": [
    {
     "name": "stdout",
     "output_type": "stream",
     "text": [
      "True\n"
     ]
    }
   ],
   "source": [
    "#endswith(suffix,beg,end)-it checks if string ends with suffix it returns true otherwise false either beg= 0 and end = length of message \n",
    "#to search entire string\n",
    "message=\"She is my best friend\"\n",
    "print(message.endswith(\"end\",0,len(message)))"
   ]
  },
  {
   "cell_type": "code",
   "execution_count": 60,
   "id": "ed822b36-48e7-4a7e-bac3-549f9191c16c",
   "metadata": {},
   "outputs": [
    {
     "name": "stdout",
     "output_type": "stream",
     "text": [
      "True\n"
     ]
    }
   ],
   "source": [
    "#startswith(prefix,beg,end)---start check krega\n",
    "x=\"The world is beautiful\"\n",
    "print(x.startswith(\"Th\",0,len(x)))"
   ]
  },
  {
   "cell_type": "code",
   "execution_count": 7,
   "id": "03bbcb42-9b8e-475a-9130-ddb8512fd4f3",
   "metadata": {},
   "outputs": [
    {
     "name": "stdout",
     "output_type": "stream",
     "text": [
      "A \n",
      "A B \n",
      "A B C \n",
      "A B C D \n",
      "A B C D E \n",
      "A B C D E F \n"
     ]
    }
   ],
   "source": [
    "\"\"\"homework print it and these are strings\n",
    "   A\n",
    "   A B\n",
    "   A B C\n",
    "   A B C D\n",
    "   A B C D E\n",
    "   A B C D E F\"\"\"\n",
    "\n",
    "for i in range(1, 7):\n",
    "    for j in range(65, 65 + i):\n",
    "        print(chr(j), end=\" \")\n",
    "    print()\n",
    "\n",
    "\n",
    "\n"
   ]
  },
  {
   "cell_type": "code",
   "execution_count": null,
   "id": "60a7bec8-c917-4615-809d-8ad7596e2678",
   "metadata": {},
   "outputs": [],
   "source": []
  }
 ],
 "metadata": {
  "kernelspec": {
   "display_name": "Python 3 (ipykernel)",
   "language": "python",
   "name": "python3"
  },
  "language_info": {
   "codemirror_mode": {
    "name": "ipython",
    "version": 3
   },
   "file_extension": ".py",
   "mimetype": "text/x-python",
   "name": "python",
   "nbconvert_exporter": "python",
   "pygments_lexer": "ipython3",
   "version": "3.12.5"
  }
 },
 "nbformat": 4,
 "nbformat_minor": 5
}
