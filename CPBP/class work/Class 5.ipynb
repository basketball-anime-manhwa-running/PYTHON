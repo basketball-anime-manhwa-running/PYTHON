{
 "cells": [
  {
   "cell_type": "code",
   "execution_count": 11,
   "id": "9b3d405f-da4a-42b4-92f2-d216add4354d",
   "metadata": {},
   "outputs": [
    {
     "name": "stdin",
     "output_type": "stream",
     "text": [
      "Enter a number:  2\n"
     ]
    },
    {
     "name": "stdout",
     "output_type": "stream",
     "text": [
      "The first 10 multiples of 2 are: [2, 4, 6, 8, 10, 12, 14, 16, 18, 20]\n"
     ]
    }
   ],
   "source": [
    "number = int(input(\"Enter a number: \"))\n",
    "multiples = [number * i for i in range(1, 11)]\n",
    "print(\"The first 10 multiples of\", number, \"are:\", multiples)\n"
   ]
  },
  {
   "cell_type": "code",
   "execution_count": 12,
   "id": "27dcd703-9f7e-4dea-ab2e-890958787683",
   "metadata": {},
   "outputs": [
    {
     "name": "stdin",
     "output_type": "stream",
     "text": [
      "Enter the value 35\n"
     ]
    }
   ],
   "source": [
    "t=int(input(\"Enter the value\"))\n",
    "def search(m):\n",
    "    if t in m:\n",
    "    \n",
    "        print(\"It is present\")\n",
    "    else:\n",
    "        print(\"It is not present\")"
   ]
  },
  {
   "cell_type": "code",
   "execution_count": 13,
   "id": "f880929a-c9a2-45d2-844c-f5f20c50b393",
   "metadata": {},
   "outputs": [
    {
     "name": "stdout",
     "output_type": "stream",
     "text": [
      "It is not present\n"
     ]
    }
   ],
   "source": [
    "search(multiples)"
   ]
  },
  {
   "cell_type": "code",
   "execution_count": 4,
   "id": "ed533c47-e5a6-4abd-a2c3-2221da065a0e",
   "metadata": {},
   "outputs": [
    {
     "name": "stdout",
     "output_type": "stream",
     "text": [
      "1 2 3 4 5 6 7 8 9 10 Slicing element in a range\n",
      "array('i', [4, 5, 6, 7, 8])\n",
      "Elements after 5 indexing\n",
      "array('i', [6, 7, 8, 9, 10])\n",
      "Print all element after slice operation\n",
      "array('i', [1, 2, 3, 4, 5, 6, 7, 8, 9, 10])\n"
     ]
    }
   ],
   "source": [
    "import array as arr\n",
    "l=[1,2,3,4,5,6,7,8,9,10]\n",
    "a=arr.array(\"i\",l)\n",
    "for i in (a):\n",
    "    print(i,end=\" \")\n",
    "slice_array= a[3:8]\n",
    "print(\"Slicing element in a range\")\n",
    "print(slice_array)\n",
    "slice_array=a[5:]\n",
    "print(\"Elements after 5 indexing\")\n",
    "print(slice_array)\n",
    "slice_array=a[:]\n",
    "print(\"Print all element after slice operation\")\n",
    "print(slice_array)"
   ]
  },
  {
   "cell_type": "code",
   "execution_count": 5,
   "id": "428f9f97-88db-459d-9685-650dd53429fd",
   "metadata": {},
   "outputs": [],
   "source": [
    "def Sorting(lst):\n",
    "    lst=sorted(lst,key=len)\n",
    "    return lst\n",
    "lst=[\"raj\",\"shimla\",\"neha\",\"tina\"]"
   ]
  },
  {
   "cell_type": "code",
   "execution_count": 6,
   "id": "51eaf5a8-1e18-4952-86d3-047d1019254d",
   "metadata": {},
   "outputs": [
    {
     "data": {
      "text/plain": [
       "['raj', 'neha', 'tina', 'shimla']"
      ]
     },
     "execution_count": 6,
     "metadata": {},
     "output_type": "execute_result"
    }
   ],
   "source": [
    "Sorting(lst)"
   ]
  },
  {
   "cell_type": "code",
   "execution_count": 20,
   "id": "03516114-aaa9-4f7f-97c8-9b23aa04a602",
   "metadata": {},
   "outputs": [],
   "source": [
    "def bubblesort(l):\n",
    "    n = len(l)\n",
    "\n",
    "    for i in range(n-1):\n",
    "\n",
    "        for j in range(n - i-1):\n",
    "            if l[j] > l[j + 1]:\n",
    "                l[j], l[j + 1] = l[j + 1], l[j]"
   ]
  },
  {
   "cell_type": "code",
   "execution_count": 11,
   "id": "417b4e28-288a-409d-a458-a6dbb6972fa1",
   "metadata": {},
   "outputs": [
    {
     "name": "stdout",
     "output_type": "stream",
     "text": [
      "tuple value\n",
      "('s', 'a', 'm')\n",
      "('s', 'a', 'm') ('ram', 'hanuman', 'mahakal')\n"
     ]
    }
   ],
   "source": [
    "#Creating Tuple\n",
    "Tuple1=tuple(\"sam\")\n",
    "Tuple2=(\"ram\",\"hanuman\",\"mahakal\")\n",
    "print(\"tuple value\")\n",
    "print(Tuple1)\n",
    "print(Tuple1,Tuple2)"
   ]
  },
  {
   "cell_type": "code",
   "execution_count": 12,
   "id": "a8e7ec8e-3dbd-40d6-94ff-084b1eae05f1",
   "metadata": {},
   "outputs": [
    {
     "name": "stdout",
     "output_type": "stream",
     "text": [
      "sequence formend\n",
      "ram\n",
      "hanuman\n",
      "mahakal\n"
     ]
    }
   ],
   "source": [
    "Tuple1=(\"ram\",\"hanuman\",\"mahakal\")\n",
    "a,b,c=Tuple1\n",
    "print(\"sequence formend\")\n",
    "print(a)\n",
    "\n",
    "\n",
    "print(b)\n",
    "print(c)"
   ]
  },
  {
   "cell_type": "code",
   "execution_count": null,
   "id": "cb77d346-c622-4949-8818-2d913ca272e8",
   "metadata": {},
   "outputs": [],
   "source": [
    "tuple1=(0,1,2,3,4)\n",
    "a=max(tuple1)\n",
    "b=min(tuple1)\n",
    "avg=(sum(tuple1))/len(tuple1)\n",
    "print(a,b,avg)\n",
    "tuple2=(\"sam\",\"ram\",\"riya\")\n",
    "tuple3=tuple1+tuple2\n",
    "print(tuple3)\n",
    "tuple3[2:]\n",
    "tuple3[::-2]\n",
    "#Tuple are inmutable and cannot be deleted"
   ]
  },
  {
   "cell_type": "code",
   "execution_count": 33,
   "id": "54654592-a480-468a-94b8-973665e7aa65",
   "metadata": {},
   "outputs": [
    {
     "name": "stdout",
     "output_type": "stream",
     "text": [
      "Jan\n",
      "Feb\n",
      "Mar\n"
     ]
    }
   ],
   "source": [
    "#Tuple Assignment \n",
    "T=(\"Jan\",\"Feb\",\"Mar\")\n",
    "for i in range(len(T)):\n",
    "    print(T[i])"
   ]
  },
  {
   "cell_type": "code",
   "execution_count": 6,
   "id": "3da45f81-1a57-4b17-88eb-6cb825836935",
   "metadata": {},
   "outputs": [
    {
     "name": "stdout",
     "output_type": "stream",
     "text": [
      "After swapping: a = 3, b = 7\n"
     ]
    }
   ],
   "source": [
    "#.Given two variables Swap?\n",
    "a, b = 7, 3\n",
    "a, b = b, a\n",
    "print(f\"After swapping: a = {a}, b = {b}\")"
   ]
  },
  {
   "cell_type": "code",
   "execution_count": 13,
   "id": "b716a081-6ca2-4ccd-a0b1-18bfeba08ba1",
   "metadata": {},
   "outputs": [
    {
     "data": {
      "text/plain": [
       "(254.34, 56.52)"
      ]
     },
     "execution_count": 13,
     "metadata": {},
     "output_type": "execute_result"
    }
   ],
   "source": [
    "def area(r):\n",
    "    a=3.14*r*r\n",
    "    b=2*3.14*r\n",
    "    return a,b\n",
    "    \n",
    "area(9)\n"
   ]
  },
  {
   "cell_type": "code",
   "execution_count": 16,
   "id": "19ebb0c5-1a69-4621-8fe7-c597566ea23a",
   "metadata": {},
   "outputs": [
    {
     "name": "stdin",
     "output_type": "stream",
     "text": [
      "Enter the value a@xgsdv\n"
     ]
    },
    {
     "data": {
      "text/plain": [
       "('a', 'xgsdv')"
      ]
     },
     "execution_count": 16,
     "metadata": {},
     "output_type": "execute_result"
    }
   ],
   "source": [
    "#Email scan  and spl\n",
    "email=input(\"Enter the value\")\n",
    "def fun(email):\n",
    "    username,domain=email.split(\"@\")\n",
    "    return username,domain\n",
    "username,domain = fun(email)\n",
    "print(username)\n",
    "print(domain)"
   ]
  },
  {
   "cell_type": "code",
   "execution_count": 1,
   "id": "8e979a79-6329-4be5-9e1d-dadfa26c1959",
   "metadata": {},
   "outputs": [
    {
     "name": "stdout",
     "output_type": "stream",
     "text": [
      "Toppers' Details:\n",
      "Name: Srun, Course: MSC, Marks: 93\n",
      "Name: Amit, Course: BSC, Marks: 89\n",
      "Name: Neha, Course: BCA, Marks: 95\n",
      "Toppers' Details:\n",
      "Name: Saurav, Course: MSC, Marks: 94\n",
      "Name: Amit, Course: BSC, Marks: 89\n",
      "Name: Neha, Course: BCA, Marks: 95\n"
     ]
    }
   ],
   "source": [
    "# Function to print the details of toppers\n",
    "# Function to print the details of toppers\n",
    "def print_toppers(toppers):\n",
    "    print(\"Toppers' Details:\")\n",
    "    for topper in toppers:\n",
    "        print(f\"Name: {topper[0]}, Course: {topper[1]}, Marks: {topper[2]}\")\n",
    "\n",
    "# Initial list of toppers\n",
    "toppers = [\n",
    "    ['Srun', 'MSC', 93],\n",
    "    ['Amit', 'BSC', 89],\n",
    "    ['Neha', 'BCA', 95]\n",
    "]\n",
    "\n",
    "# Print initial details\n",
    "print_toppers(toppers)\n",
    "\n",
    "# Function to edit topper details\n",
    "def edit_topper(toppers, index, name=None, course=None, marks=None):\n",
    "    if 0 <= index < len(toppers):\n",
    "        if name:\n",
    "            toppers[index][0] = name\n",
    "        if course:\n",
    "            toppers[index][1] = course\n",
    "        if marks:\n",
    "            toppers[index][2] = marks\n",
    "    else:\n",
    "        print(\"Invalid index\")\n",
    "\n",
    "# Edit details of the first topper\n",
    "edit_topper(toppers, 0, name='Saurav', course='MSC', marks=94)\n",
    "\n",
    "# Print updated details\n",
    "print_toppers(toppers)\n",
    "\n",
    "\n"
   ]
  },
  {
   "cell_type": "code",
   "execution_count": null,
   "id": "302039bd-ebc9-4ead-8bea-817fcd5f4a23",
   "metadata": {},
   "outputs": [],
   "source": []
  }
 ],
 "metadata": {
  "kernelspec": {
   "display_name": "Python 3 (ipykernel)",
   "language": "python",
   "name": "python3"
  },
  "language_info": {
   "codemirror_mode": {
    "name": "ipython",
    "version": 3
   },
   "file_extension": ".py",
   "mimetype": "text/x-python",
   "name": "python",
   "nbconvert_exporter": "python",
   "pygments_lexer": "ipython3",
   "version": "3.12.5"
  }
 },
 "nbformat": 4,
 "nbformat_minor": 5
}
