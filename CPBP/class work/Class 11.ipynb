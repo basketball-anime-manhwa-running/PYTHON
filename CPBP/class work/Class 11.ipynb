{
 "cells": [
  {
   "cell_type": "code",
   "execution_count": 14,
   "id": "a2bb2e95-1a4d-4f01-a8d3-3a29d2bc5a15",
   "metadata": {},
   "outputs": [
    {
     "name": "stdout",
     "output_type": "stream",
     "text": [
      "WELCOME TO THE WORLD OF PYTHON\n",
      "welcome to the world of python\n",
      "['Welcome', 'to', 'the', 'world', 'of', 'python']\n",
      "Welcome to the world of python\n",
      "3\n",
      "Welcome ho hhe world of pyhhon\n",
      "8\n"
     ]
    }
   ],
   "source": [
    "#WAP that uses different methods like upper,lower,split,join,count,replace,find on string object\n",
    "\n",
    "str=\"Welcome to the world of python\"\n",
    "print(str.upper())\n",
    "print(str.lower())\n",
    "a=str.split(' ')\n",
    "print(a)\n",
    "print(' '.join(a))\n",
    "print(str.count('t'))\n",
    "print(str.replace('t','h'))\n",
    "print(str.find('to')) \n",
    "\n"
   ]
  },
  {
   "cell_type": "code",
   "execution_count": 1,
   "id": "86faeef0-d65e-4d49-9619-c53f0aaa23f7",
   "metadata": {},
   "outputs": [
    {
     "data": {
      "text/plain": [
       "['__add__',\n",
       " '__class__',\n",
       " '__contains__',\n",
       " '__delattr__',\n",
       " '__dir__',\n",
       " '__doc__',\n",
       " '__eq__',\n",
       " '__format__',\n",
       " '__ge__',\n",
       " '__getattribute__',\n",
       " '__getitem__',\n",
       " '__getnewargs__',\n",
       " '__getstate__',\n",
       " '__gt__',\n",
       " '__hash__',\n",
       " '__init__',\n",
       " '__init_subclass__',\n",
       " '__iter__',\n",
       " '__le__',\n",
       " '__len__',\n",
       " '__lt__',\n",
       " '__mod__',\n",
       " '__mul__',\n",
       " '__ne__',\n",
       " '__new__',\n",
       " '__reduce__',\n",
       " '__reduce_ex__',\n",
       " '__repr__',\n",
       " '__rmod__',\n",
       " '__rmul__',\n",
       " '__setattr__',\n",
       " '__sizeof__',\n",
       " '__str__',\n",
       " '__subclasshook__',\n",
       " 'capitalize',\n",
       " 'casefold',\n",
       " 'center',\n",
       " 'count',\n",
       " 'encode',\n",
       " 'endswith',\n",
       " 'expandtabs',\n",
       " 'find',\n",
       " 'format',\n",
       " 'format_map',\n",
       " 'index',\n",
       " 'isalnum',\n",
       " 'isalpha',\n",
       " 'isascii',\n",
       " 'isdecimal',\n",
       " 'isdigit',\n",
       " 'isidentifier',\n",
       " 'islower',\n",
       " 'isnumeric',\n",
       " 'isprintable',\n",
       " 'isspace',\n",
       " 'istitle',\n",
       " 'isupper',\n",
       " 'join',\n",
       " 'ljust',\n",
       " 'lower',\n",
       " 'lstrip',\n",
       " 'maketrans',\n",
       " 'partition',\n",
       " 'removeprefix',\n",
       " 'removesuffix',\n",
       " 'replace',\n",
       " 'rfind',\n",
       " 'rindex',\n",
       " 'rjust',\n",
       " 'rpartition',\n",
       " 'rsplit',\n",
       " 'rstrip',\n",
       " 'split',\n",
       " 'splitlines',\n",
       " 'startswith',\n",
       " 'strip',\n",
       " 'swapcase',\n",
       " 'title',\n",
       " 'translate',\n",
       " 'upper',\n",
       " 'zfill']"
      ]
     },
     "execution_count": 1,
     "metadata": {},
     "output_type": "execute_result"
    }
   ],
   "source": [
    "dir(str)"
   ]
  },
  {
   "cell_type": "code",
   "execution_count": 29,
   "id": "dd6cf2fc-1913-4598-a9b9-fa743eb0f0ea",
   "metadata": {},
   "outputs": [
    {
     "name": "stdout",
     "output_type": "stream",
     "text": [
      "True\n"
     ]
    }
   ],
   "source": [
    "import string\n",
    "print('g' in string.ascii_lowercase)"
   ]
  },
  {
   "cell_type": "code",
   "execution_count": 22,
   "id": "f2c7ec74-d28e-436f-9a4e-26fe6dd56c35",
   "metadata": {},
   "outputs": [
    {
     "name": "stdout",
     "output_type": "stream",
     "text": [
      "abcdefghijklmnopqrstuvwxyzABCDEFGHIJKLMNOPQRSTUVWXYZ\n"
     ]
    }
   ],
   "source": [
    "import string\n",
    "print(string.ascii_letters)"
   ]
  },
  {
   "cell_type": "code",
   "execution_count": 28,
   "id": "c0b600c2-d2b1-4f21-9e39-f63888d3b3b9",
   "metadata": {},
   "outputs": [
    {
     "name": "stdout",
     "output_type": "stream",
     "text": [
      "True\n"
     ]
    }
   ],
   "source": [
    "import string\n",
    "ch='g'\n",
    "print('a'<=ch<='z')"
   ]
  },
  {
   "cell_type": "markdown",
   "id": "346cac0d-68d9-441b-866f-301930669c03",
   "metadata": {},
   "source": [
    "# Regular Expressions"
   ]
  },
  {
   "cell_type": "code",
   "execution_count": 32,
   "id": "0d2856fa-bbaa-4e55-8272-1f14d26cd561",
   "metadata": {},
   "outputs": [
    {
     "name": "stdout",
     "output_type": "stream",
     "text": [
      "Pattern1 is not present in the string\n"
     ]
    }
   ],
   "source": [
    "import re\n",
    "string=\"She sells sea shells on the sea shore\"\n",
    "pattern1=\"sells\"\n",
    "if re.match(pattern1,string):        #Match() - It starts find the match only at the beginning of the string\n",
    "    print(\"Match Found\")\n",
    "else:\n",
    "    print(\"Pattern1 is not present in the string\")"
   ]
  },
  {
   "cell_type": "code",
   "execution_count": 31,
   "id": "18c08c8c-c2fa-4180-8690-8dfa2919ab7b",
   "metadata": {},
   "outputs": [
    {
     "name": "stdout",
     "output_type": "stream",
     "text": [
      "Match Found\n"
     ]
    }
   ],
   "source": [
    "pattern2=\"She\"\n",
    "if re.match(pattern2,string):\n",
    "    print(\"Match Found\")\n",
    "else:\n",
    "    print(\"Pattern1 is not present in the string\")"
   ]
  },
  {
   "cell_type": "code",
   "execution_count": 34,
   "id": "32fc6069-0d38-45c5-a5f9-f5889857dbe6",
   "metadata": {},
   "outputs": [
    {
     "name": "stdout",
     "output_type": "stream",
     "text": [
      "Match Found\n"
     ]
    }
   ],
   "source": [
    "import re\n",
    "string=\"She sells sea shells on the sea shore\"\n",
    "pattern1=\"sells\"\n",
    "if re.search(pattern1,string):        \n",
    "    print(\"Match Found\")\n",
    "else:\n",
    "    print(\"Pattern1 is not present in the string\")"
   ]
  }
 ],
 "metadata": {
  "kernelspec": {
   "display_name": "Python 3 (ipykernel)",
   "language": "python",
   "name": "python3"
  },
  "language_info": {
   "codemirror_mode": {
    "name": "ipython",
    "version": 3
   },
   "file_extension": ".py",
   "mimetype": "text/x-python",
   "name": "python",
   "nbconvert_exporter": "python",
   "pygments_lexer": "ipython3",
   "version": "3.12.5"
  }
 },
 "nbformat": 4,
 "nbformat_minor": 5
}
