{
 "cells": [
  {
   "cell_type": "code",
   "execution_count": 9,
   "id": "2d21ff58-8e3b-4f49-b345-7f84bedf4d0d",
   "metadata": {},
   "outputs": [
    {
     "name": "stdout",
     "output_type": "stream",
     "text": [
      "After converting charaacter into integer:52\n",
      "After converting 56 to hexadecimal string:0x38\n",
      "After converting 56 to octal string:0o70\n"
     ]
    }
   ],
   "source": [
    "a = '4'\n",
    "b = ord(a)\n",
    "print(\"After converting charaacter into integer:\",end=\"\")\n",
    "print(b)\n",
    "b = hex(56)\n",
    "print(\"After converting 56 to hexadecimal string:\",end=\"\")\n",
    "print(b)\n",
    "b = oct(56)\n",
    "print(\"After converting 56 to octal string:\",end=\"\")\n",
    "print(b)\n",
    "\n",
    " \n",
    "       \n"
   ]
  },
  {
   "cell_type": "code",
   "execution_count": 11,
   "id": "d505a5fe-a7ac-4b85-808d-6ec2497adff5",
   "metadata": {},
   "outputs": [
    {
     "name": "stdout",
     "output_type": "stream",
     "text": [
      "converted to tuple: ('S', 'h', 'a', 's', 'h', 'a', 'n', 'k')\n"
     ]
    }
   ],
   "source": [
    "x = 'Shashank'\n",
    "y = tuple(x)\n",
    "print(\"converted to tuple:\", y)\n"
   ]
  },
  {
   "cell_type": "code",
   "execution_count": 12,
   "id": "9bcceded-28ab-475b-bd8a-4b7fc949a839",
   "metadata": {},
   "outputs": [
    {
     "name": "stdout",
     "output_type": "stream",
     "text": [
      "['S', 'h', 'a', 's', 'h', 'a', 'n', 'k']\n"
     ]
    }
   ],
   "source": [
    "x = 'Shashank'\n",
    "y = list(x)\n",
    "print(y)"
   ]
  },
  {
   "cell_type": "code",
   "execution_count": 18,
   "id": "70e431f0-52ea-4496-8ae4-51aa20c5e6f3",
   "metadata": {},
   "outputs": [
    {
     "name": "stdout",
     "output_type": "stream",
     "text": [
      "8\n",
      "4\n",
      "3.0\n",
      "12\n",
      "36\n",
      "3\n"
     ]
    }
   ],
   "source": [
    "a = 6\n",
    "b = 2\n",
    "print(a+b)\n",
    "print(a-b)\n",
    "print(a/b)\n",
    "print(a*b)\n",
    "print(a**b)\n",
    "print(a//b)"
   ]
  },
  {
   "cell_type": "code",
   "execution_count": 23,
   "id": "efebceba-324a-4729-9ffb-3ae38ed8e6cf",
   "metadata": {},
   "outputs": [
    {
     "name": "stdout",
     "output_type": "stream",
     "text": [
      "15\n",
      "75\n",
      "15.0\n",
      "10.0\n",
      "2.0\n",
      "32.0\n"
     ]
    }
   ],
   "source": [
    "a=10\n",
    "b=5\n",
    "a+=b\n",
    "print(a)\n",
    "a*=b\n",
    "print(a)\n",
    "a/=b\n",
    "print(a)\n",
    "a-=b\n",
    "print(a)\n",
    "a//=b\n",
    "print(a)\n",
    "a**=b\n",
    "print(a)"
   ]
  },
  {
   "cell_type": "code",
   "execution_count": 25,
   "id": "cbd466b3-6d3c-4f57-aa4e-9a54d9058e65",
   "metadata": {},
   "outputs": [
    {
     "name": "stdout",
     "output_type": "stream",
     "text": [
      "a==b False\n"
     ]
    }
   ],
   "source": [
    "a=5\n",
    "b=2\n",
    "print('a==b',a==-b)"
   ]
  },
  {
   "cell_type": "code",
   "execution_count": 28,
   "id": "fa7cb0d3-d844-49e8-a7d9-86ad8e91bfc4",
   "metadata": {},
   "outputs": [
    {
     "name": "stdout",
     "output_type": "stream",
     "text": [
      "True\n"
     ]
    }
   ],
   "source": [
    "a=5\n",
    "b=6\n",
    "print((a>2)and (b>3))"
   ]
  },
  {
   "cell_type": "code",
   "execution_count": 33,
   "id": "71fe2d33-d31e-4f10-bb75-6f817fcd4aa3",
   "metadata": {},
   "outputs": [
    {
     "name": "stdout",
     "output_type": "stream",
     "text": [
      "False\n",
      "True\n",
      "False\n"
     ]
    }
   ],
   "source": [
    "#identity operators\n",
    "x1=5\n",
    "y1=5\n",
    "x2='Hello'\n",
    "y2= 'Hello'\n",
    "x3=[1,2,3]\n",
    "y3=[1,2,3]\n",
    "print(x1 is not y1)\n",
    "print(x2 is y2)\n",
    "print(x3 is y3)\n"
   ]
  },
  {
   "cell_type": "code",
   "execution_count": 35,
   "id": "49580456-88b3-4e76-95bd-47ecaed0dfa1",
   "metadata": {},
   "outputs": [
    {
     "name": "stdout",
     "output_type": "stream",
     "text": [
      "True\n"
     ]
    }
   ],
   "source": [
    "x4 =6\n",
    "y4= 'by'\n",
    "print(x4 is not y4)"
   ]
  },
  {
   "cell_type": "code",
   "execution_count": 43,
   "id": "f19be3d2-44ce-4e66-97db-91be7f1376fa",
   "metadata": {},
   "outputs": [
    {
     "name": "stdout",
     "output_type": "stream",
     "text": [
      "True\n",
      "True\n",
      "True\n",
      "False\n"
     ]
    }
   ],
   "source": [
    "#membership operators\n",
    "message='Hello World'\n",
    "dict1= {1:'a',2:'b'}\n",
    "print('H' in message)\n",
    "print('hello' not in message)\n",
    "print(1 in dict1)\n",
    "print('a' in dict1)"
   ]
  },
  {
   "cell_type": "code",
   "execution_count": 49,
   "id": "e008a80f-f7ea-4acc-8d18-da40d5f062f7",
   "metadata": {},
   "outputs": [
    {
     "name": "stdout",
     "output_type": "stream",
     "text": [
      "Lunch Being delivered\n"
     ]
    }
   ],
   "source": [
    "meal=\"fruit\"\n",
    "money=0\n",
    "if meal == \"fruit\" or meal ==\"sandwich\" and money >=2:\n",
    "    print(\"Lunch Being delivered\")\n",
    "else:\n",
    "    print(\"can't deliver lunch\")"
   ]
  },
  {
   "cell_type": "code",
   "execution_count": 50,
   "id": "f160e4bb-9e81-426e-8438-0a062ecce757",
   "metadata": {},
   "outputs": [
    {
     "name": "stdout",
     "output_type": "stream",
     "text": [
      "can't deliver lunch\n"
     ]
    }
   ],
   "source": [
    "meal=\"fruit\"\n",
    "money=0\n",
    "if (meal == \"fruit\" or meal ==\"sandwich\") and money >=2:\n",
    "    print(\"Lunch Being delivered\")\n",
    "else:\n",
    "    print(\"can't deliver lunch\")"
   ]
  },
  {
   "cell_type": "code",
   "execution_count": 52,
   "id": "e01d9768-3122-4708-b88d-ac603841ec38",
   "metadata": {},
   "outputs": [
    {
     "name": "stdout",
     "output_type": "stream",
     "text": [
      "3\n",
      "0\n"
     ]
    }
   ],
   "source": [
    "print(5*2//3)\n",
    "print(5*(2//3))"
   ]
  },
  {
   "cell_type": "code",
   "execution_count": 53,
   "id": "b7a7ee0f-4356-40b5-90f8-179006f4922f",
   "metadata": {},
   "outputs": [
    {
     "name": "stdout",
     "output_type": "stream",
     "text": [
      "512\n",
      "64\n"
     ]
    }
   ],
   "source": [
    "print(2**3**2)\n",
    "print((2**3)**2)"
   ]
  },
  {
   "cell_type": "code",
   "execution_count": 1,
   "id": "1fb6024d-6beb-4a85-b751-eb506ccd338d",
   "metadata": {},
   "outputs": [],
   "source": [
    "x=y=z=1\n",
    "x=y=z=2"
   ]
  },
  {
   "cell_type": "code",
   "execution_count": 59,
   "id": "317c83d9-a21e-434b-b44d-05a07b5c1ab1",
   "metadata": {},
   "outputs": [
    {
     "name": "stdout",
     "output_type": "stream",
     "text": [
      "3 24\n"
     ]
    }
   ],
   "source": [
    "#left shift and right shift\n",
    "a=12\n",
    "x= a>>2\n",
    "y = a<<1\n",
    "print(x,y)"
   ]
  },
  {
   "cell_type": "code",
   "execution_count": 60,
   "id": "97166e53-c53c-40f9-9ab8-60f17e078b08",
   "metadata": {},
   "outputs": [
    {
     "name": "stdout",
     "output_type": "stream",
     "text": [
      "22\n"
     ]
    }
   ],
   "source": [
    "a=16\n",
    "b=12\n",
    "c=a+(b>>1)\n",
    "print(c)"
   ]
  },
  {
   "cell_type": "code",
   "execution_count": null,
   "id": "5f8c6b73-0dce-4832-ae44-06d01abb9ddc",
   "metadata": {},
   "outputs": [],
   "source": []
  }
 ],
 "metadata": {
  "kernelspec": {
   "display_name": "Python 3",
   "language": "python",
   "name": "python3"
  },
  "language_info": {
   "codemirror_mode": {
    "name": "ipython",
    "version": 3
   },
   "file_extension": ".py",
   "mimetype": "text/x-python",
   "name": "python",
   "nbconvert_exporter": "python",
   "pygments_lexer": "ipython3",
   "version": "3.12.5"
  }
 },
 "nbformat": 4,
 "nbformat_minor": 5
}
