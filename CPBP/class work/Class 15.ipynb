{
 "cells": [
  {
   "cell_type": "code",
   "execution_count": 1,
   "id": "29151995-8d18-4674-b8ce-d94c89de108c",
   "metadata": {},
   "outputs": [],
   "source": [
    "\"\"\"Object or instance is created once a class is defined to access class variables & class methods using dot operator.Class of an object determines \n",
    "which attributes the object will have , Basically A class is a description of what its instannces will know or do.\"\"\"\n",
    "class Circle(object):\n",
    "\n",
    "    def __init__(self,center,radius):\n",
    "        self.center = center\n",
    "        self.radius = radius\n",
    "\n",
    "    def draw(self,canvas):\n",
    "        rad = self.radius\n",
    "        x1 = self.center[0]-rad\n",
    "        y1 = self.center[1]-rad\n",
    "        x2 = self.center[0]+rad\n",
    "        y2 = self.center[1]+rad\n",
    "        canvas.create_oval(x1,y1,x2,y2,fill='green')\n",
    "\n",
    "    def move(self,x,y):\n",
    "        self.center=[x,y]"
   ]
  },
  {
   "cell_type": "code",
   "execution_count": 5,
   "id": "ef24ea86-fe49-4c0b-9a73-4f9a5cb065a9",
   "metadata": {},
   "outputs": [],
   "source": [
    "\"\"\"Constructors The primary object of the constructor is to set the state of the object's attributes(instance variables).\"\"\"\n",
    "class Circle:\n",
    "    def __init__(self, center, radius):\n",
    "        self.center = center  # Expecting a tuple (x, y)\n",
    "        self.radius = radius  # Radius of the circle\n",
    "\n",
    "    def draw(self, canvas):\n",
    "        \"\"\"Draw the circle on the given canvas.\"\"\"\n",
    "        rad = self.radius\n",
    "        x1 = self.center[0] - rad\n",
    "        y1 = self.center[1] - rad\n",
    "        x2 = self.center[0] + rad\n",
    "        y2 = self.center[1] + rad\n",
    "        canvas.create_oval(x1, y1, x2, y2, fill='green')\n",
    "\n",
    "    def move(self, x, y):\n",
    "        \"\"\"Update the circle's center.\"\"\"\n",
    "        self.center = (x, y)  # Use tuple for immutability\n",
    "import tkinter as tk\n",
    "\n",
    "# Create the main window and canvas\n",
    "root = tk.Tk()\n",
    "canvas = tk.Canvas(root, width=400, height=400)\n",
    "canvas.pack()\n",
    "\n",
    "# Create and draw the circle\n",
    "circle = Circle((100, 100), 50)\n",
    "circle.draw(canvas)\n",
    "\n",
    "# Move the circle and redraw\n",
    "circle.move(200, 200)\n",
    "circle.draw(canvas)\n",
    "\n",
    "root.mainloop()\n"
   ]
  },
  {
   "cell_type": "code",
   "execution_count": 2,
   "id": "510a7638-8c9a-4c1d-b886-a359528d177f",
   "metadata": {},
   "outputs": [
    {
     "data": {
      "text/plain": [
       "\"self is a reference to current  it lets you access all the instances for the specific instance you're working with.\""
      ]
     },
     "execution_count": 2,
     "metadata": {},
     "output_type": "execute_result"
    }
   ],
   "source": [
    "\"\"\"attributes/instance variabes\n",
    "attributes represent the characteristics of a class. they are re\"\"\"\n",
    "\n",
    "\"\"\"self is a reference to current  it lets you access all the instances for the specific instance you're working with.\"\"\""
   ]
  },
  {
   "cell_type": "code",
   "execution_count": 20,
   "id": "841078bc-df05-457a-a934-a8c1d22b56fb",
   "metadata": {},
   "outputs": [
    {
     "name": "stdin",
     "output_type": "stream",
     "text": [
      "Enter marks of Anisha sub 1: 78\n",
      "Enter marks of Anisha sub 2: 89\n",
      "Enter marks of Anisha sub 3: 82\n",
      "Enter marks of joe sub 1: 78\n",
      "Enter marks of joe sub 2: 78\n",
      "Enter marks of joe sub 3: 45\n"
     ]
    },
    {
     "name": "stdout",
     "output_type": "stream",
     "text": [
      "Anisha [78, 89, 82]\n",
      "joe [78, 78, 45]\n"
     ]
    }
   ],
   "source": [
    "##### Q. WAP that uses class to store the name and marks of students use list to store marks in three subject\n",
    "class Students:\n",
    "    def __init__(self,name):\n",
    "        self.name = name\n",
    "        self.marks = []\n",
    "\n",
    "    def enterMarks(self):\n",
    "        for i in range(3):\n",
    "            m = int(input(\"Enter marks of %s sub %d:\" % (self.name,i+1)))\n",
    "            self.marks.append(m)\n",
    "    def display(self):\n",
    "        print(self.name,self.marks)\n",
    "S1=Students(\"Anisha\")\n",
    "S1.enterMarks()\n",
    "S2 = Students(\"joe\")\n",
    "S2.enterMarks()\n",
    "S1.display()\n",
    "S2.display()\n"
   ]
  },
  {
   "cell_type": "code",
   "execution_count": 58,
   "id": "4b860897-d1fa-4368-ac82-08532818e7bf",
   "metadata": {},
   "outputs": [
    {
     "name": "stdout",
     "output_type": "stream",
     "text": [
      "The number of Employees in the organization are: 2\n",
      "Name of employee: Shashank\n",
      "Designation of Employee: Sarakari_Peon\n",
      "Salary of the Employee: 20000\n",
      "Name of employee: Shubham\n",
      "Designation of Employee: Manager\n",
      "Salary of the Employee: 51000\n"
     ]
    }
   ],
   "source": [
    "#WAP with class Employee that keeps a track of the no. of employees in an organsitation and also store their name,designation and salary detail\n",
    "\n",
    "class Employee:\n",
    "    count = 0\n",
    "    def __init__(self,name,des,salary):\n",
    "        self.name = name\n",
    "        self.des = des\n",
    "        self.salary = salary\n",
    "        Employee.count +=1\n",
    "    def displayCount(self): \n",
    "        print(\"The number of Employees in the organization are:\", self.count)\n",
    "    def displayEmp(self):\n",
    "        print(\"Name of employee:\",self.name)\n",
    "        print(\"Designation of Employee:\", self.des)\n",
    "        print(\"Salary of the Employee:\", self.salary)\n",
    "\n",
    "E1 = Employee(\"Shashank\",\"Sarakari_Peon\", 20000)\n",
    "\n",
    "E2 = Employee(\"Shubham\",\"Manager\",51000)\n",
    "\n",
    "E1.displayCount()\n",
    "\n",
    "E1.displayEmp()\n",
    "E2.displayEmp()\n",
    "\n"
   ]
  },
  {
   "cell_type": "code",
   "execution_count": 46,
   "id": "fe873828-b492-4693-9b30-b453b1c537a5",
   "metadata": {},
   "outputs": [
    {
     "name": "stdout",
     "output_type": "stream",
     "text": [
      "The number of Employees in the organization are: 2\n",
      "Name of employee: Shashank\n",
      "Designation of Employee: CEO\n",
      "Salary of the Employee: 200000\n",
      "Name of employee: Shubham\n",
      "Designation of Employee: Manager\n",
      "Salary of the Employee: 51000\n"
     ]
    }
   ],
   "source": [
    "class Employee:\n",
    "    count = 0\n",
    "    \n",
    "    def __init__(self, name, des, salary):\n",
    "        self.name = name\n",
    "        self.des = des\n",
    "        self.salary = salary\n",
    "        Employee.count += 1\n",
    "\n",
    "    @classmethod\n",
    "    def displayCount(cls):\n",
    "        print(\"The number of Employees in the organization are:\", cls.count)\n",
    "    \n",
    "    def displayEmp(self):\n",
    "        print(\"Name of employee:\", self.name)\n",
    "        print(\"Designation of Employee:\", self.des)\n",
    "        print(\"Salary of the Employee:\", self.salary)\n",
    "\n",
    "E1 = Employee(\"Shashank\", \"CEO\", 200000)\n",
    "E2 = Employee(\"Shubham\", \"Manager\", 51000)\n",
    "\n",
    "Employee.displayCount()\n",
    "\n",
    "E1.displayEmp()\n",
    "E2.displayEmp()\n"
   ]
  },
  {
   "cell_type": "code",
   "execution_count": 54,
   "id": "bcceb715-b1a5-4c21-8d0a-b825ff5d3ac7",
   "metadata": {},
   "outputs": [
    {
     "name": "stdout",
     "output_type": "stream",
     "text": [
      "The number of Employees in the organization are: 2\n",
      "Name of employee: Shashank\n",
      "Designation of Employee: Sarakari_Peon\n",
      "Salary of the Employee: 20000\n",
      "Name of employee: Shubham\n",
      "Designation of Employee: Manager\n",
      "Salary of the Employee: 51000\n"
     ]
    }
   ],
   "source": [
    "class Employee:\n",
    "    count = 0\n",
    "    \n",
    "    def __init__(self, name, des, salary):\n",
    "        self.name = name\n",
    "        self.des = des\n",
    "        self.salary = salary\n",
    "        Employee.count += 1\n",
    "\n",
    "    def displayCount(self):\n",
    "        # Using self to access the class variable count\n",
    "        print(\"The number of Employees in the organization are:\", self.count)\n",
    "    \n",
    "    def displayEmp(self):\n",
    "        print(\"Name of employee:\", self.name)\n",
    "        print(\"Designation of Employee:\", self.des)\n",
    "        print(\"Salary of the Employee:\", self.salary)\n",
    "\n",
    "# Create employee instances\n",
    "E1 = Employee(\"Shashank\", \"Sarakari_Peon\", 20000)\n",
    "E2 = Employee(\"Shubham\", \"Manager\", 51000)\n",
    "\n",
    "# Display count of employees using an instance\n",
    "E1.displayCount()\n",
    "\n",
    "# Display individual employee details\n",
    "E1.displayEmp()\n",
    "E2.displayEmp()\n"
   ]
  },
  {
   "cell_type": "code",
   "execution_count": 74,
   "id": "a20319b3-20c8-4c85-a9eb-8c67c802cb93",
   "metadata": {},
   "outputs": [
    {
     "name": "stdin",
     "output_type": "stream",
     "text": [
      "Enter the radius of circle 8\n"
     ]
    },
    {
     "name": "stdout",
     "output_type": "stream",
     "text": [
      "The area of circle is:  200.96\n",
      "Circumference of Circle is:  50.24\n",
      "\n"
     ]
    }
   ],
   "source": [
    "#WAP that has a class circle use a class varaiable to define the value of constant pi = 3.14 use this class to calcuate area and circumferance of circle with specified radius\n",
    "\n",
    "class Circle:\n",
    "    pi=3.14\n",
    "\n",
    "    def __init__(self,radius):\n",
    "        self.radius = radius \n",
    "    def area(self):\n",
    "        return (Circle.pi*self.radius*self.radius)\n",
    "    def Circumference(self):\n",
    "        return(2*Circle.pi*self.radius)\n",
    "\n",
    "r = int(input(\"Enter the radius of circle\"))\n",
    "c = Circle(r)\n",
    "print (\"The area of circle is: \", c.area())\n",
    "print (\"Circumference of Circle is: \", c.Circumference())\n",
    "print(\"\")"
   ]
  },
  {
   "cell_type": "code",
   "execution_count": null,
   "id": "a4bd6a48-65aa-4e9e-8de4-2bfb6bdb6586",
   "metadata": {},
   "outputs": [],
   "source": [
    "#WAP menu driven that keeps book and journels in library\n",
    "class book:\n",
    "    def __init__(title,author,price):\n",
    "        def read(Enter \"title,author,price\")\n",
    "        def display\n",
    "\n",
    "enter the choice using logic"
   ]
  }
 ],
 "metadata": {
  "kernelspec": {
   "display_name": "Python 3 (ipykernel)",
   "language": "python",
   "name": "python3"
  },
  "language_info": {
   "codemirror_mode": {
    "name": "ipython",
    "version": 3
   },
   "file_extension": ".py",
   "mimetype": "text/x-python",
   "name": "python",
   "nbconvert_exporter": "python",
   "pygments_lexer": "ipython3",
   "version": "3.12.5"
  }
 },
 "nbformat": 4,
 "nbformat_minor": 5
}
