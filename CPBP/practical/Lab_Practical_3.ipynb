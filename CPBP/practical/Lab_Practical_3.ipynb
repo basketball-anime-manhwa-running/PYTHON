{
 "cells": [
  {
   "cell_type": "code",
   "execution_count": 1,
   "id": "7f559a25-717b-4a02-a0cc-8b4fd3432365",
   "metadata": {},
   "outputs": [
    {
     "name": "stdin",
     "output_type": "stream",
     "text": [
      "Enter the input:  Shashank\n"
     ]
    },
    {
     "name": "stdout",
     "output_type": "stream",
     "text": [
      "\n",
      "*** USING IN-BUILT LIBRARIES ***\n",
      "It's a Char\n",
      "and has both cases\n",
      "\n",
      "*** USING CODE ***\n",
      "It's a Char\n",
      "and has both cases\n"
     ]
    }
   ],
   "source": [
    "inp = input(\"Enter the input: \")\n",
    "''' USING IN-BUILT LIBRARIES '''\n",
    "print()\n",
    "print(\"*** USING IN-BUILT LIBRARIES ***\")\n",
    "if (inp.isalpha()):\n",
    "    print(\"It's a Char\")\n",
    "    if inp.isupper():\n",
    "        print(\"and in upper case\")\n",
    "    elif inp.islower():\n",
    "        print(\"and in lower case\")\n",
    "    else:\n",
    "        print(\"and has both cases\")\n",
    "elif(inp.isnumeric()):\n",
    "    print(\"It's a number\")\n",
    "else:\n",
    "    print(\"Invalid Input\")\n",
    "    \n",
    "\n",
    "''' ALTERNATE APPROACH '''\n",
    "print()\n",
    "print(\"*** USING CODE ***\")\n",
    "l1 = [0,0,0] #It will have 3 elements. First is No. of upper case char, second is no. of lower case chars, third is no. of integers\n",
    "len1 = len(inp)\n",
    "flag = 0\n",
    "for i in inp:\n",
    "    in_ascii = ord(i)\n",
    "    if in_ascii in range(65,91) or in_ascii in range(97, 123):\n",
    "        flag = 1\n",
    "        if in_ascii in range(65,91):\n",
    "            l1[0] +=1\n",
    "        else:\n",
    "            l1[1] +=1\n",
    "    elif in_ascii in range(48, 58):\n",
    "        flag = 2\n",
    "        l1[2] +=1\n",
    "if flag == 1:\n",
    "    if l1[0] == len1:\n",
    "        print(\"It's a Char\")\n",
    "        print(\"and in upper case\")\n",
    "    elif l1[1] == len1:\n",
    "        print(\"It's a Char\")\n",
    "        print(\"and in lower case\")\n",
    "    elif l1[0]+l1[1] == len1:\n",
    "        print(\"It's a Char\")\n",
    "        print(\"and has both cases\")\n",
    "    else:\n",
    "        print(\"Invalid Input\")\n",
    "elif flag == 2:\n",
    "    if l1[2] == len1:\n",
    "        print(\"It's a number\")\n",
    "    else:\n",
    "        print(\"Invalid Input\")\n",
    "else:\n",
    "        print(\"Invalid Input\")\n",
    "\n"
   ]
  },
  {
   "cell_type": "code",
   "execution_count": 2,
   "id": "b417986d-f15c-4590-ae90-de4579c94b79",
   "metadata": {},
   "outputs": [
    {
     "name": "stdout",
     "output_type": "stream",
     "text": [
      "*** Program that displays the user to enter a number between 1 to 7 and then displays the corr day of the week ***\n"
     ]
    },
    {
     "name": "stdin",
     "output_type": "stream",
     "text": [
      "Enter the number:  5\n"
     ]
    },
    {
     "name": "stdout",
     "output_type": "stream",
     "text": [
      "Friday\n"
     ]
    }
   ],
   "source": [
    "print(\"*** Program that displays the user to enter a number between 1 to 7 and then displays the corr day of the week ***\")\n",
    "num = int(input(\"Enter the number: \"))\n",
    "if num >= 1 and num <= 7:\n",
    "    if num == 1:\n",
    "        print (\"Monday\")\n",
    "    if num == 2:\n",
    "        print (\"Tuesday\")\n",
    "    if num == 3:\n",
    "        print (\"Wednesday\")\n",
    "    if num == 4:\n",
    "        print (\"Thursday\")\n",
    "    if num == 5:\n",
    "        print (\"Friday\")\n",
    "    if num == 6:\n",
    "        print (\"Saturday\")\n",
    "    if num == 7:\n",
    "        print (\"Sunday\")\n",
    "else:\n",
    "    print(\"Incorrect number\")\n"
   ]
  },
  {
   "cell_type": "code",
   "execution_count": 3,
   "id": "85e3aa86-97bb-41bc-848a-c9d49cfcfb89",
   "metadata": {},
   "outputs": [
    {
     "name": "stdout",
     "output_type": "stream",
     "text": [
      "* \n",
      "* * \n",
      "* * * \n",
      "* * * * \n",
      "* * * * * \n"
     ]
    }
   ],
   "source": [
    "# Nested loop to print pattern\n",
    "for i in range(1,6):\n",
    "    for j in range(1, i+1):\n",
    "        print(\"*\", end = \" \")\n",
    "    print()\n"
   ]
  },
  {
   "cell_type": "code",
   "execution_count": 5,
   "id": "354f3596-cee8-4efd-a1a9-43ee0128a07c",
   "metadata": {},
   "outputs": [
    {
     "name": "stdout",
     "output_type": "stream",
     "text": [
      "Shashank Shashank Shashank Shashank Shashank \n",
      "Mohit Mohit Mohit Mohit Mohit \n",
      "Nilanshu Nilanshu Nilanshu Nilanshu Nilanshu \n"
     ]
    }
   ],
   "source": [
    "# While loop inside for loop\n",
    "names = [\"Shashank\", \"Mohit\", \"Nilanshu\"]\n",
    "for name in names:\n",
    "    count = 0\n",
    "    while(count<5):\n",
    "        print(name, end=' ')\n",
    "        count+=1\n",
    "    print()\n"
   ]
  },
  {
   "cell_type": "code",
   "execution_count": 6,
   "id": "cb4bfab3-7d63-477e-b71c-837b1cfffa63",
   "metadata": {},
   "outputs": [
    {
     "name": "stdout",
     "output_type": "stream",
     "text": [
      "        1   \n",
      "      2   2   \n",
      "    3   3   3   \n",
      "  4   4   4   4   \n",
      "5   5   5   5   5   \n"
     ]
    }
   ],
   "source": [
    "# WAP to print the pattern\n",
    "for i in range(1, 6):\n",
    "    for k in range(1, 6-i):\n",
    "        print(\" \", end=\" \")\n",
    "    for j in range(1,i+1):\n",
    "        print(i, \" \", end=\" \")\n",
    "\n",
    "    print()\n"
   ]
  },
  {
   "cell_type": "code",
   "execution_count": 7,
   "id": "c6170e78-844c-4166-b422-e2ca92289974",
   "metadata": {},
   "outputs": [
    {
     "name": "stdout",
     "output_type": "stream",
     "text": [
      "        1   \n",
      "      2   2   \n",
      "    3   3   3   \n",
      "  4   4   4   4   \n",
      "5   5   5   5   5   \n",
      "Factorial is:  120\n"
     ]
    }
   ],
   "source": [
    "# Alternate approach\n",
    "n=5\n",
    "for i in range(1, n+1):\n",
    "    for k in range(n, i, -1):\n",
    "        print(\" \", end=\" \")\n",
    "    for j in range(1,i+1):\n",
    "        print(i, \" \", end=\" \")\n",
    "    print()\n",
    "\n",
    "# Calculating factorial\n",
    "fact = 1\n",
    "for i in range(2,n+1):\n",
    "    fact *= i\n",
    "print(\"Factorial is: \", fact)\n"
   ]
  },
  {
   "cell_type": "code",
   "execution_count": 8,
   "id": "87d08453-f8cf-46b2-bda3-050954d6126d",
   "metadata": {},
   "outputs": [
    {
     "name": "stdin",
     "output_type": "stream",
     "text": [
      "Enter the year (1900-2101) to check whether leap year:  2024\n"
     ]
    },
    {
     "name": "stdout",
     "output_type": "stream",
     "text": [
      "Leap year\n"
     ]
    }
   ],
   "source": [
    "# WAP that displays all leap years from 1900 to 2101\n",
    "year = int(input(\"Enter the year (1900-2101) to check whether leap year: \"))\n",
    "if year%100 == 0:\n",
    "    if year%400 == 0:\n",
    "        print(\"Leap year\")\n",
    "    else:\n",
    "        print(\"Not leap year\")\n",
    "else:\n",
    "    if year%4 == 0:\n",
    "        print(\"Leap year\")\n",
    "    else:\n",
    "        print(\"Not leap year\")\n"
   ]
  },
  {
   "cell_type": "code",
   "execution_count": 9,
   "id": "924aa4f0-195d-498f-99cb-7489f9d34e0e",
   "metadata": {},
   "outputs": [
    {
     "name": "stdin",
     "output_type": "stream",
     "text": [
      "Enter the number:  23\n"
     ]
    },
    {
     "name": "stdout",
     "output_type": "stream",
     "text": [
      "Sum of series is:  3.73429151108684\n"
     ]
    }
   ],
   "source": [
    "# WAP to sum the series numbers - 1 + 1/2 + ... + 1/n using for loop\n",
    "n = int(input(\"Enter the number: \"))\n",
    "s = 0\n",
    "for i in range(1, n+1):\n",
    "    s += (1/i)\n",
    "print(\"Sum of series is: \", s)\n"
   ]
  },
  {
   "cell_type": "code",
   "execution_count": null,
   "id": "b85aaf72-b342-4aaf-980d-62d650bc44cf",
   "metadata": {},
   "outputs": [],
   "source": []
  }
 ],
 "metadata": {
  "kernelspec": {
   "display_name": "Python 3 (ipykernel)",
   "language": "python",
   "name": "python3"
  },
  "language_info": {
   "codemirror_mode": {
    "name": "ipython",
    "version": 3
   },
   "file_extension": ".py",
   "mimetype": "text/x-python",
   "name": "python",
   "nbconvert_exporter": "python",
   "pygments_lexer": "ipython3",
   "version": "3.12.5"
  }
 },
 "nbformat": 4,
 "nbformat_minor": 5
}
