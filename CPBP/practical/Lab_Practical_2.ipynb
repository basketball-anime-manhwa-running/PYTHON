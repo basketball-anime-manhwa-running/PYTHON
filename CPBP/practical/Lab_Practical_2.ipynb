{
 "cells": [
  {
   "cell_type": "code",
   "execution_count": 1,
   "id": "70459fda-33c3-4296-b8fe-9e2d2792ad7b",
   "metadata": {},
   "outputs": [
    {
     "name": "stdout",
     "output_type": "stream",
     "text": [
      "sum:  9\n",
      "diff:  5\n",
      "mult:  14\n",
      "div:  3.5\n",
      "mod:  1\n",
      "floor:  3\n",
      "power:  49\n"
     ]
    }
   ],
   "source": [
    "a = 7\n",
    "b = 2\n",
    "print(\"sum: \", a+b)\n",
    "print(\"diff: \", a-b)\n",
    "print(\"mult: \", a*b)\n",
    "print(\"div: \", a/b)\n",
    "print(\"mod: \", a%b)\n",
    "print(\"floor: \", a//b)\n",
    "print(\"power: \", a**b)\n"
   ]
  },
  {
   "cell_type": "code",
   "execution_count": 2,
   "id": "0af7aa19-ec52-4a04-a91d-6770968faa0d",
   "metadata": {},
   "outputs": [
    {
     "name": "stdout",
     "output_type": "stream",
     "text": [
      "52\n",
      "<class 'int'>\n",
      "0x38\n",
      "<class 'str'>\n",
      "0o70\n",
      "<class 'str'>\n"
     ]
    }
   ],
   "source": [
    "a = '4'\n",
    "b = ord(a)\n",
    "print(b)\n",
    "print(type(b))\n",
    "\n",
    "# Find hex value of given int\n",
    "b = hex(56)\n",
    "print(b)\n",
    "print(type(b))\n",
    "\n",
    "# Convert int to octal\n",
    "b = oct(56)\n",
    "print(b)\n",
    "print(type(b))\n"
   ]
  },
  {
   "cell_type": "code",
   "execution_count": 3,
   "id": "071f027b-7d2e-4ab0-acbc-6efed191161d",
   "metadata": {},
   "outputs": [
    {
     "name": "stdout",
     "output_type": "stream",
     "text": [
      "after converting the string to a tuple: ('j', 'a', 'v', 'a', 'T', 'p', 'o', 'i', 'n', 't')\n",
      "after converting the string to a set: {'o', 'i', 'n', 't', 'j', 'p', 'T', 'a', 'v'}\n",
      "after converting the string to a list: ['j', 'a', 'v', 'a', 'T', 'p', 'o', 'i', 'n', 't']\n"
     ]
    }
   ],
   "source": [
    "x = 'javaTpoint'\n",
    "y=tuple(x)\n",
    "print(\"after converting the string to a tuple: \", end=\"\")\n",
    "print(y)\n",
    "\n",
    "y = set(x)\n",
    "print(\"after converting the string to a set: \", end=\"\")\n",
    "print(y)\n",
    "\n",
    "y = list(x)\n",
    "print(\"after converting the string to a list: \", end=\"\")\n",
    "print(y)\n",
    "\n"
   ]
  },
  {
   "cell_type": "code",
   "execution_count": 4,
   "id": "e6df99f8-27ad-44b7-a459-16c0e16d0723",
   "metadata": {},
   "outputs": [
    {
     "name": "stdout",
     "output_type": "stream",
     "text": [
      "sum:  9\n",
      "diff:  5\n",
      "mult:  14\n",
      "div:  3.5\n",
      "mod:  1\n",
      "floor:  3\n",
      "power:  49\n"
     ]
    }
   ],
   "source": [
    "a = 7\n",
    "b = 2\n",
    "print(\"sum: \", a+b)\n",
    "print(\"diff: \", a-b)\n",
    "print(\"mult: \", a*b)\n",
    "print(\"div: \", a/b)\n",
    "print(\"mod: \", a%b)\n",
    "print(\"floor: \", a//b)\n",
    "print(\"power: \", a**b)\n"
   ]
  },
  {
   "cell_type": "code",
   "execution_count": 5,
   "id": "3a722a9a-c86d-46a8-90b0-5e34c740ff84",
   "metadata": {},
   "outputs": [
    {
     "name": "stdout",
     "output_type": "stream",
     "text": [
      "False\n",
      "True\n",
      "True\n",
      "False\n",
      "False\n",
      "True\n",
      "True\n",
      "True\n",
      "False\n",
      "True\n",
      "False\n"
     ]
    }
   ],
   "source": [
    "a=5\n",
    "b=2\n",
    "print(a==b)\n",
    "print(a!=b)\n",
    "print(a>b)\n",
    "print(a<b)\n",
    "print(a<=b)\n",
    "print(a>=b)\n",
    "\n",
    "# Logical Operators\n",
    "a=5\n",
    "b=6\n",
    "print((a>2) and (b>=6))\n",
    "print((a>2) or (b>=6))\n",
    "\n",
    "# Identity operators\n",
    "x1=5\n",
    "y1=5\n",
    "x2='Hello'\n",
    "y2='Hello'\n",
    "x3=[1,2,3]\n",
    "y3=[1,2,3]\n",
    "print(x1 is not y1)\n",
    "print(x2 is y2)\n",
    "print(x3 is y3)\n"
   ]
  },
  {
   "cell_type": "code",
   "execution_count": null,
   "id": "25257c2c-9ff3-4a0e-be63-39288169f26b",
   "metadata": {},
   "outputs": [],
   "source": []
  }
 ],
 "metadata": {
  "kernelspec": {
   "display_name": "Python 3 (ipykernel)",
   "language": "python",
   "name": "python3"
  },
  "language_info": {
   "codemirror_mode": {
    "name": "ipython",
    "version": 3
   },
   "file_extension": ".py",
   "mimetype": "text/x-python",
   "name": "python",
   "nbconvert_exporter": "python",
   "pygments_lexer": "ipython3",
   "version": "3.12.5"
  }
 },
 "nbformat": 4,
 "nbformat_minor": 5
}
