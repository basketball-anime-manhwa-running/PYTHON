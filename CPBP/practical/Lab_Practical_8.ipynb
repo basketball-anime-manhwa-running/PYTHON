{
 "cells": [
  {
   "cell_type": "code",
   "execution_count": 1,
   "id": "ab5d5d0b-56f2-4a56-8bc6-e20bb5a644c0",
   "metadata": {},
   "outputs": [
    {
     "name": "stdout",
     "output_type": "stream",
     "text": [
      "Anil\n",
      "7\n",
      "{'Name': 'Anil', 'Age': 8, 'Class': 'First'}\n",
      "{'Name': 'Anil', 'Age': 8, 'Class': 'First', 'School': 'DPS'}\n",
      "{'Age': 8, 'Class': 'First', 'School': 'DPS'}\n",
      "{}\n",
      "printing the dict after deleting it will result in error\n"
     ]
    }
   ],
   "source": [
    "# Accessing values in a Dictionary\n",
    "dict1 = {'Name': 'Anil', 'Age': 7, 'Class': 'First'}\n",
    "print(dict1['Name'])\n",
    "print(dict1['Age'])\n",
    "\n",
    "# Updating a dict\n",
    "dict1['Age'] = 8\n",
    "print(dict1)\n",
    "\n",
    "# Add a new entry\n",
    "dict1['School'] = 'DPS'\n",
    "print(dict1)\n",
    "\n",
    "# Delete entries\n",
    "del dict1['Name']\n",
    "print(dict1)\n",
    "\n",
    "# Clear whole dict\n",
    "dict1.clear()\n",
    "print(dict1)\n",
    "\n",
    "# Delete whole dict\n",
    "del dict1\n",
    "print(\"printing the dict after deleting it will result in error\")"
   ]
  },
  {
   "cell_type": "code",
   "execution_count": 2,
   "id": "f4e589e9-eed8-4460-b5bd-3956197aa7f5",
   "metadata": {},
   "outputs": [
    {
     "name": "stdout",
     "output_type": "stream",
     "text": [
      "{'Senior_Citizen': 'No', 'Gender': 'Female', 'Name': 'Zara', 'Age': 10}\n",
      "a   time\n",
      "b   money\n",
      "c   value\n",
      "\n",
      "a\n",
      "b\n",
      "c\n",
      "time\n",
      "money\n",
      "value\n",
      "{'a': 23, 'b': 91038, 'c': 1, 'd': 20, 'e': 55}\n",
      "[1, 20, 23, 55, 91038]\n",
      "{'c': 1, 'd': 20, 'a': 23, 'e': 55, 'b': 91038}\n"
     ]
    }
   ],
   "source": [
    "# WAP to merge two dictionaries with a third one\n",
    "a = {'Name': 'Zara', 'Age': 10}\n",
    "b = {'Gender': 'Female'}\n",
    "c = {'Senior_Citizen': 'No'}\n",
    "c.update(b)\n",
    "c.update(a)\n",
    "print(c)\n",
    "\n",
    "# Iterating through a dictionary\n",
    "dict1 = {\"a\": \"time\", \"b\": \"money\", \"c\": \"value\"}\n",
    "for key, values in dict1.items():\n",
    "    print(key, \" \", values)\n",
    "print()\n",
    "for i in dict1.keys():\n",
    "    print(i)\n",
    "for i in dict1.values():\n",
    "    print(i)\n",
    "\n",
    "# Sort dictionary by values\n",
    "dict1 = {\"a\": 23, \"b\": 91038, \"c\": 1, \"d\": 20, \"e\": 55}\n",
    "# print(sorted(dict1, key = dict1.values))\n",
    "print(dict1)\n",
    "ls = sorted(dict1.values())\n",
    "print(ls)\n",
    "dict2 = {}\n",
    "for i in ls:\n",
    "    for j in dict1.keys():\n",
    "        if dict1.get(j) == i:\n",
    "            dict2[j] = i\n",
    "print(dict2)\n"
   ]
  },
  {
   "cell_type": "code",
   "execution_count": null,
   "id": "b07aae49-dc88-451f-9b46-0c38ce6c9f42",
   "metadata": {},
   "outputs": [],
   "source": []
  }
 ],
 "metadata": {
  "kernelspec": {
   "display_name": "Python 3 (ipykernel)",
   "language": "python",
   "name": "python3"
  },
  "language_info": {
   "codemirror_mode": {
    "name": "ipython",
    "version": 3
   },
   "file_extension": ".py",
   "mimetype": "text/x-python",
   "name": "python",
   "nbconvert_exporter": "python",
   "pygments_lexer": "ipython3",
   "version": "3.12.5"
  }
 },
 "nbformat": 4,
 "nbformat_minor": 5
}
