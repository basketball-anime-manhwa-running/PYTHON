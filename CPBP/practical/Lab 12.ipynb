{
 "cells": [
  {
   "cell_type": "raw",
   "id": "a8f023ba-ca31-4a37-a959-39ac37c5b478",
   "metadata": {},
   "source": [
    "OBJECTIVE: Demonstrate polymorphism, error and exception handling and develop code for given problem statements:\n",
    "1)\n",
    "Demonstrate operator overloading\n",
    "2)\n",
    "Demonstrate Method Overriding\n",
    "3)\n",
    "WAP to handle the divide by zero exception\n",
    "4)\n",
    "Demonstrate Raise Exceptions, Instantiating Exceptions, assertion\n",
    "5)\n",
    "WAP that prompts the use to enter a number and prints the square of that number. If no number is entered, then a KeyBoardInterrupt is generated\n",
    "6)\n",
    "WAP which infinitely prints natural numbers. Raise the stopIterationException after displaying first 20 numbers tp exit from the program\n",
    "7)\n",
    "WAP that randomly generates a number. Raise a UserDefined exception if the number is below 0.1"
   ]
  },
  {
   "cell_type": "code",
   "execution_count": 1,
   "id": "d299af23-7b33-4ac7-b1ce-6bb23dbd69db",
   "metadata": {},
   "outputs": [
    {
     "name": "stdout",
     "output_type": "stream",
     "text": [
      "Vector 1: Vector(2, 3)\n",
      "Vector 2: Vector(4, 5)\n",
      "v1 + v2: Vector(6, 8)\n",
      "v1 - v2: Vector(-2, -2)\n"
     ]
    }
   ],
   "source": [
    "#Demonstrate operator overloading\n",
    "class Vector:  \n",
    "    def __init__(self, x, y):  \n",
    "        self.x = x  \n",
    "        self.y = y  \n",
    "\n",
    "    def __add__(self, other):  \n",
    "        \"\"\"Overload the + operator to add two vectors.\"\"\"  \n",
    "        if isinstance(other, Vector):  \n",
    "            return Vector(self.x + other.x, self.y + other.y)  \n",
    "        return NotImplemented  \n",
    "\n",
    "    def __sub__(self, other):  \n",
    "        \"\"\"Overload the - operator to subtract two vectors.\"\"\"  \n",
    "        if isinstance(other, Vector):  \n",
    "            return Vector(self.x - other.x, self.y - other.y)  \n",
    "        return NotImplemented  \n",
    "\n",
    "    def __str__(self):  \n",
    "        \"\"\"Return a string representation of the vector.\"\"\"  \n",
    "        return f\"Vector({self.x}, {self.y})\"  \n",
    "    \n",
    "    def __repr__(self):  \n",
    "        \"\"\"Return an unambiguous string representation of the vector.\"\"\"  \n",
    "        return f\"Vector({self.x}, {self.y})\"  \n",
    "\n",
    "# Example usage:  \n",
    "if __name__ == \"__main__\":  \n",
    "    v1 = Vector(2, 3)  \n",
    "    v2 = Vector(4, 5)  \n",
    "\n",
    "    print(f\"Vector 1: {v1}\")  \n",
    "    print(f\"Vector 2: {v2}\")  \n",
    "\n",
    "    v3 = v1 + v2  \n",
    "    print(f\"v1 + v2: {v3}\")  \n",
    "\n",
    "    v4 = v1 - v2  \n",
    "    print(f\"v1 - v2: {v4}\")"
   ]
  },
  {
   "cell_type": "code",
   "execution_count": 2,
   "id": "b258890b-80f9-4e1c-83d8-4674be4fd16e",
   "metadata": {},
   "outputs": [
    {
     "name": "stdout",
     "output_type": "stream",
     "text": [
      "Animal: Some generic sound\n",
      "Dog: Woof!\n",
      "Cat: Meow!\n"
     ]
    }
   ],
   "source": [
    "#Demonstrate Method Overriding\n",
    "# Base class  \n",
    "class Animal:  \n",
    "    def speak(self):  \n",
    "        return \"Some generic sound\"  \n",
    "\n",
    "# Derived class  \n",
    "class Dog(Animal):  \n",
    "    def speak(self):  \n",
    "        return \"Woof!\"  \n",
    "\n",
    "# Another derived class  \n",
    "class Cat(Animal):  \n",
    "    def speak(self):  \n",
    "        return \"Meow!\"  \n",
    "\n",
    "# Function to demonstrate method overriding  \n",
    "def demonstrate_method_overriding():  \n",
    "    # Create instances of Dog and Cat  \n",
    "    generic_animal = Animal()  \n",
    "    dog = Dog()  \n",
    "    cat = Cat()  \n",
    "\n",
    "    # Call the speak method from each instance  \n",
    "    print(f'Animal: {generic_animal.speak()}')  # Outputs: Some generic sound  \n",
    "    print(f'Dog: {dog.speak()}')                # Outputs: Woof!  \n",
    "    print(f'Cat: {cat.speak()}')                # Outputs: Meow!  \n",
    "\n",
    "# Run the demonstration  \n",
    "if __name__ == \"__main__\":  \n",
    "    demonstrate_method_overriding()"
   ]
  },
  {
   "cell_type": "code",
   "execution_count": 3,
   "id": "b21b4022-2a68-4e16-98f4-e78ec2ae5257",
   "metadata": {},
   "outputs": [
    {
     "name": "stdin",
     "output_type": "stream",
     "text": [
      "Enter the numerator:  5\n",
      "Enter the denominator:  0\n"
     ]
    },
    {
     "name": "stdout",
     "output_type": "stream",
     "text": [
      "Error: You cannot divide by zero. Please provide a non-zero denominator.\n"
     ]
    }
   ],
   "source": [
    "#WAP to handle the divide by zero exception\n",
    "def divide_numbers():  \n",
    "    try:  \n",
    "        # Input from user  \n",
    "        numerator = float(input(\"Enter the numerator: \"))  \n",
    "        denominator = float(input(\"Enter the denominator: \"))  \n",
    "        \n",
    "        # Attempting to perform the division  \n",
    "        result = numerator / denominator  \n",
    "        \n",
    "        print(f\"The result of {numerator} divided by {denominator} is {result}.\")  \n",
    "    \n",
    "    except ZeroDivisionError:  \n",
    "        print(\"Error: You cannot divide by zero. Please provide a non-zero denominator.\")  \n",
    "    except ValueError:  \n",
    "        print(\"Error: Please enter valid numbers.\")  \n",
    "\n",
    "# Call the function to execute  \n",
    "divide_numbers()"
   ]
  },
  {
   "cell_type": "code",
   "execution_count": 4,
   "id": "2f6ba136-549b-4cd4-8745-170029e1c38b",
   "metadata": {},
   "outputs": [
    {
     "name": "stdout",
     "output_type": "stream",
     "text": [
      "Caught a custom exception: Denominator cannot be zero.\n",
      "Caught a value error: The number must be positive.\n",
      "Caught an assertion error: Assertion Error: The number must be positive.\n",
      "Code executed properly\n"
     ]
    }
   ],
   "source": [
    "#Demonstrate Raise Exceptions, Instantiating Exceptions, assertion\n",
    "class CustomException(Exception):  \n",
    "    \"\"\"Custom exception class for demonstration.\"\"\"  \n",
    "    pass  \n",
    "\n",
    "def divide_numbers(numerator, denominator):  \n",
    "    \"\"\"Divides two numbers and raises exceptions for error cases.\"\"\"  \n",
    "    if denominator == 0:  \n",
    "        raise CustomException(\"Denominator cannot be zero.\")  \n",
    "    return numerator / denominator  \n",
    "\n",
    "def check_positive_number(num):  \n",
    "    \"\"\"Checks if a number is positive and raises an exception if not.\"\"\"  \n",
    "    if num < 0:  \n",
    "        raise ValueError(\"The number must be positive.\")  \n",
    "    return True  \n",
    "\n",
    "def assert_positive_number(num):  \n",
    "    \"\"\"Uses assert to ensure the number is positive.\"\"\"  \n",
    "    assert num >= 0, \"Assertion Error: The number must be positive.\"  \n",
    "\n",
    "def main():  \n",
    "    # Demonstration of dividing numbers  \n",
    "    try:  \n",
    "        result = divide_numbers(10, 0)  \n",
    "        print(f\"Result: {result}\")  \n",
    "    except CustomException as e:  \n",
    "        print(f\"Caught a custom exception: {e}\")  \n",
    "\n",
    "    # Demonstration of checking a positive number  \n",
    "    try:  \n",
    "        check_positive_number(-5)  \n",
    "    except ValueError as e:  \n",
    "        print(f\"Caught a value error: {e}\")  \n",
    "\n",
    "    # Demonstration of assert  \n",
    "    try:  \n",
    "        assert_positive_number(-3)  \n",
    "    except AssertionError as e:  \n",
    "        print(f\"Caught an assertion error: {e}\")  \n",
    "        \n",
    "    print(\"Code executed properly\")  \n",
    "\n",
    "if __name__ == \"__main__\":  \n",
    "    main()"
   ]
  },
  {
   "cell_type": "code",
   "execution_count": 6,
   "id": "6949aa35-8af9-44ab-84b5-090d5a6e8ae7",
   "metadata": {},
   "outputs": [
    {
     "name": "stdin",
     "output_type": "stream",
     "text": [
      "Please enter a number:  u\n"
     ]
    },
    {
     "name": "stdout",
     "output_type": "stream",
     "text": [
      "Invalid input! Please enter a valid number.\n"
     ]
    }
   ],
   "source": [
    "#WAP that prompts the use to enter a number and prints the square of that number. If no number is entered, then a KeyBoardInterrupt is generated\n",
    "def main():  \n",
    "    try:  \n",
    "        # Prompt the user to enter a number  \n",
    "        user_input = input(\"Please enter a number: \")  \n",
    "        \n",
    "        # Check if the input is empty  \n",
    "        if user_input.strip() == \"\":  \n",
    "            raise KeyboardInterrupt(\"No input was provided, raising KeyboardInterrupt.\")  \n",
    "        \n",
    "        # Convert input to a float (or int) to handle numerical input  \n",
    "        number = float(user_input)  \n",
    "\n",
    "        # Calculate the square of the number  \n",
    "        square = number ** 2  \n",
    "\n",
    "        # Print the square of the number  \n",
    "        print(f\"The square of {number} is {square}\")  \n",
    "\n",
    "    except KeyboardInterrupt as e:  \n",
    "        print(e)  \n",
    "    except ValueError:  \n",
    "        print(\"Invalid input! Please enter a valid number.\")  \n",
    "\n",
    "if __name__ == \"__main__\":  \n",
    "    main()"
   ]
  },
  {
   "cell_type": "code",
   "execution_count": 7,
   "id": "ad0b63c7-a06a-44d6-9143-e7a871e1cba7",
   "metadata": {},
   "outputs": [
    {
     "name": "stdout",
     "output_type": "stream",
     "text": [
      "1\n",
      "2\n",
      "3\n",
      "4\n",
      "5\n",
      "6\n",
      "7\n",
      "8\n",
      "9\n",
      "10\n",
      "11\n",
      "12\n",
      "13\n",
      "14\n",
      "15\n",
      "16\n",
      "17\n",
      "18\n",
      "19\n",
      "20\n"
     ]
    }
   ],
   "source": [
    "#WAP which infinitely prints natural numbers. Raise the stopIterationException after displaying first 20 numbers tp exit from the program\n",
    "class NaturalNumberGenerator:  \n",
    "    def __init__(self):  \n",
    "        self.current = 0  # Start from 0  \n",
    "    \n",
    "    def __iter__(self):  \n",
    "        return self  \n",
    "\n",
    "    def __next__(self):  \n",
    "        if self.current < 20:  # Limit the output to the first 20 natural numbers  \n",
    "            self.current += 1  \n",
    "            return self.current  \n",
    "        else:  \n",
    "            raise StopIteration  # Raise StopIteration after 20 numbers  \n",
    "\n",
    "if __name__ == \"__main__\":  \n",
    "    generator = NaturalNumberGenerator()  \n",
    "    \n",
    "    try:  \n",
    "        for number in generator:  \n",
    "            print(number)  \n",
    "    except StopIteration:  \n",
    "        print(\"Stopped iteration after displaying the first 20 natural numbers.\")"
   ]
  },
  {
   "cell_type": "code",
   "execution_count": 8,
   "id": "5f489a0f-5801-4010-9352-056880c14d1d",
   "metadata": {},
   "outputs": [
    {
     "name": "stdout",
     "output_type": "stream",
     "text": [
      "Generated number: 0.0813264541385399\n",
      "Generated number 0.0813264541385399 is below the allowed threshold of 0.1.\n"
     ]
    }
   ],
   "source": [
    "#WAP that randomly generates a number. Raise a UserDefined exception if the number is below 0.1\n",
    "import random  \n",
    "\n",
    "# Define a custom exception class  \n",
    "class BelowThresholdError(Exception):  \n",
    "    \"\"\"Exception raised when generated number is below the threshold of 0.1.\"\"\"  \n",
    "    def __init__(self, value):  \n",
    "        self.value = value  \n",
    "        super().__init__(f\"Generated number {value} is below the allowed threshold of 0.1.\")  \n",
    "\n",
    "# Function to generate a random number and check it  \n",
    "def generate_random_number():  \n",
    "    # Generate a random float between 0 and 1  \n",
    "    number = random.random()  # This generates a float in the range [0.0, 1.0)  \n",
    "    print(f\"Generated number: {number}\")  \n",
    "    \n",
    "    # Raise the custom exception if the number is below 0.1  \n",
    "    if number < 0.1:  \n",
    "        raise BelowThresholdError(number)  \n",
    "    \n",
    "    return number  \n",
    "\n",
    "# Main execution block  \n",
    "if __name__ == \"__main__\":  \n",
    "    try:  \n",
    "        generate_random_number()  \n",
    "    except BelowThresholdError as e:  \n",
    "        print(e)"
   ]
  },
  {
   "cell_type": "code",
   "execution_count": null,
   "id": "1c55f67b-004e-4ee8-b4a2-31d80049445f",
   "metadata": {},
   "outputs": [],
   "source": []
  }
 ],
 "metadata": {
  "kernelspec": {
   "display_name": "Python 3 (ipykernel)",
   "language": "python",
   "name": "python3"
  },
  "language_info": {
   "codemirror_mode": {
    "name": "ipython",
    "version": 3
   },
   "file_extension": ".py",
   "mimetype": "text/x-python",
   "name": "python",
   "nbconvert_exporter": "python",
   "pygments_lexer": "ipython3",
   "version": "3.11.7"
  }
 },
 "nbformat": 4,
 "nbformat_minor": 5
}
