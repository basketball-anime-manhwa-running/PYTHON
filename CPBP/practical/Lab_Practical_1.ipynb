{
 "cells": [
  {
   "cell_type": "code",
   "execution_count": 2,
   "id": "2a5e4bbc-d457-449d-8231-71ad1734491b",
   "metadata": {},
   "outputs": [
    {
     "name": "stdout",
     "output_type": "stream",
     "text": [
      "sum:  9\n",
      "diff:  5\n",
      "mult:  14\n",
      "div:  3.5\n",
      "mod:  1\n",
      "floor:  3\n",
      "power:  49\n"
     ]
    }
   ],
   "source": [
    "a = 7\n",
    "b = 2\n",
    "print(\"sum: \", a+b)\n",
    "print(\"diff: \", a-b)\n",
    "print(\"mult: \", a*b)\n",
    "print(\"div: \", a/b)\n",
    "print(\"mod: \", a%b)\n",
    "print(\"floor: \", a//b)\n",
    "print(\"power: \", a**b)\n"
   ]
  },
  {
   "cell_type": "code",
   "execution_count": null,
   "id": "087f1ec1-2371-4228-8a42-7070e3755aeb",
   "metadata": {},
   "outputs": [],
   "source": []
  }
 ],
 "metadata": {
  "kernelspec": {
   "display_name": "Python 3 (ipykernel)",
   "language": "python",
   "name": "python3"
  },
  "language_info": {
   "codemirror_mode": {
    "name": "ipython",
    "version": 3
   },
   "file_extension": ".py",
   "mimetype": "text/x-python",
   "name": "python",
   "nbconvert_exporter": "python",
   "pygments_lexer": "ipython3",
   "version": "3.11.7"
  }
 },
 "nbformat": 4,
 "nbformat_minor": 5
}
