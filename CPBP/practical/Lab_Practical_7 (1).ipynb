{
 "cells": [
  {
   "cell_type": "code",
   "execution_count": 1,
   "id": "8d7f6c60-07f9-42e9-81ff-6ff7ac9359ed",
   "metadata": {},
   "outputs": [
    {
     "name": "stdout",
     "output_type": "stream",
     "text": [
      "<class 'set'>\n",
      "True\n",
      "{'banana', 'orange', 'apple', 'cherry'}\n",
      "{'banana', 'orange', 'papaya', 'cherry', 'mango', 'apple'}\n",
      "{'banana', 'papaya2', 'orange', 'papaya', 'mango2', 'cherry', 'mango', 'apple'}\n",
      "{'banana', 'papaya2', 'orange', 'papaya', 'cherry', 'mango', 'apple'}\n",
      "{'papaya2', 'orange', 'papaya', 'cherry', 'mango', 'apple'}\n"
     ]
    }
   ],
   "source": [
    "# SETS\n",
    "\n",
    "thisset = {\"apple\", \"banana\", \"cherry\"}\n",
    "print(type(thisset))\n",
    "print(\"banana\" in thisset)\n",
    "\n",
    "# Add items in set\n",
    "thisset.add(\"orange\")\n",
    "print(thisset)\n",
    "\n",
    "# Add items from another set into this set\n",
    "tropical = {\"mango\", \"papaya\"}\n",
    "thisset.update(tropical)\n",
    "print(thisset)\n",
    "\n",
    "# Add elements of a list to the set\n",
    "l1 = [\"mango2\", \"papaya2\"]\n",
    "thisset.update(l1)\n",
    "print(thisset)\n",
    "\n",
    "# Remove item\n",
    "thisset.remove(\"mango2\")\n",
    "print(thisset)\n",
    "\n",
    "# Remove item using discard()\n",
    "thisset.discard(\"banana\")\n",
    "print(thisset)\n"
   ]
  },
  {
   "cell_type": "code",
   "execution_count": 2,
   "id": "6e1c93b0-764d-4774-80a6-6421f99f96f3",
   "metadata": {},
   "outputs": [
    {
     "name": "stdout",
     "output_type": "stream",
     "text": [
      "Set1 after adding squares:  {64, 1, 4, 36, 100, 9, 16, 49, 81, 25}\n",
      "Set2 after adding cubes:  {64, 1, 512, 8, 1000, 343, 216, 729, 27, 125}\n",
      "\n",
      "Demonstrating the use of update function: \n",
      "Set1 after update:  {64, 1, 4, 36, 100, 9, 'mango', 16, 49, 81, 25}\n",
      "\n",
      "Demonstrating the use of pop function: \n",
      "64\n",
      "\n",
      "Demonstrating the use of remove function: \n",
      "{1, 4, 36, 100, 9, 16, 49, 81, 25}\n",
      "\n",
      "Demonstrating the use of clear function: \n",
      "set()\n"
     ]
    }
   ],
   "source": [
    "# WAP that creates 2 sets squares and cubes in range 1 to 10. Demonstrate the use of update, pop, remove and clear function\n",
    "\n",
    "set1 = set()\n",
    "set2 = set()\n",
    "for i in range(1, 11):\n",
    "    set1.add(i*i)\n",
    "    set2.add(i*i*i)\n",
    "print(\"Set1 after adding squares: \", set1)\n",
    "print(\"Set2 after adding cubes: \", set2)\n",
    "\n",
    "print(\"\\nDemonstrating the use of update function: \")\n",
    "set3 = {\"mango\"}\n",
    "set1.update(set3)\n",
    "print(\"Set1 after update: \", set1)\n",
    "\n",
    "print(\"\\nDemonstrating the use of pop function: \")\n",
    "print(set1.pop())\n",
    "\n",
    "print(\"\\nDemonstrating the use of remove function: \")\n",
    "set1.remove(\"mango\")\n",
    "print(set1)\n",
    "\n",
    "print(\"\\nDemonstrating the use of clear function: \")\n",
    "set1.clear()\n",
    "print(set1)\n"
   ]
  },
  {
   "cell_type": "code",
   "execution_count": 3,
   "id": "16aacc9e-8d29-47f8-91f6-d78e1f72b4b8",
   "metadata": {},
   "outputs": [
    {
     "name": "stdout",
     "output_type": "stream",
     "text": [
      "Set of even numbers:  {2, 4, 6, 8, 10}\n",
      "Set of composite numbers:  {4, 6, 8, 9, 10, 12, 14, 15, 16, 18, 20}\n",
      "\n",
      "Demonstrating use of all() function: \n",
      "True\n",
      "\n",
      "Removing '2' from set1:  {4, 6, 8, 10}\n",
      "\n",
      "Demonstrating use of issuperset() function: \n",
      "True\n",
      "\n",
      "Demonstrating use of len() function: \n",
      "11\n",
      "\n",
      "Demonstrating use of sum() function: \n",
      "Sum of elements of set1:  28\n"
     ]
    }
   ],
   "source": [
    "# WAP that creates two sets one of even numbers in the range 1 to 10 and the other as all composite numbers in range 1 to 20\n",
    "# Demonstrate the use of all(), issuperset(), len() and sum() on the sets.\n",
    "\n",
    "set1 = {i for i in range(1, 11) if i % 2 == 0 }\n",
    "print(\"Set of even numbers: \",set1)\n",
    "\n",
    "set2 = set()\n",
    "\n",
    "c = 0\n",
    "for i in range(2, 21):\n",
    "    for j in range(2, i):\n",
    "        if i%j ==0:\n",
    "            c+=1\n",
    "    if c!=0:\n",
    "        set2.add(i)\n",
    "    c = 0\n",
    "print(\"Set of composite numbers: \", set2)\n",
    "\n",
    "# all() function returns True if all elements are True, else returns False\n",
    "print(\"\\nDemonstrating use of all() function: \")\n",
    "print(all(set1))\n",
    "\n",
    "set1.remove(2)\n",
    "print(\"\\nRemoving '2' from set1: \", set1)\n",
    "\n",
    "print(\"\\nDemonstrating use of issuperset() function: \")\n",
    "print(set2.issuperset(set1))\n",
    "\n",
    "print(\"\\nDemonstrating use of len() function: \")\n",
    "print(len(set2))\n",
    "\n",
    "print(\"\\nDemonstrating use of sum() function: \")\n",
    "print(\"Sum of elements of set1: \", sum(set1))\n"
   ]
  },
  {
   "cell_type": "code",
   "execution_count": null,
   "id": "374ebf93-df63-4761-b46d-2eede234efe6",
   "metadata": {},
   "outputs": [],
   "source": []
  }
 ],
 "metadata": {
  "kernelspec": {
   "display_name": "Python 3 (ipykernel)",
   "language": "python",
   "name": "python3"
  },
  "language_info": {
   "codemirror_mode": {
    "name": "ipython",
    "version": 3
   },
   "file_extension": ".py",
   "mimetype": "text/x-python",
   "name": "python",
   "nbconvert_exporter": "python",
   "pygments_lexer": "ipython3",
   "version": "3.12.5"
  }
 },
 "nbformat": 4,
 "nbformat_minor": 5
}
