{
 "cells": [
  {
   "cell_type": "code",
   "execution_count": 1,
   "id": "2c2916e6-d7a3-43fb-b419-c6706401ac35",
   "metadata": {},
   "outputs": [
    {
     "name": "stdout",
     "output_type": "stream",
     "text": [
      "array('i', [1, 2, 3])\n",
      "1 2 3 "
     ]
    }
   ],
   "source": [
    "# Creating array in python\n",
    "import array as arr\n",
    "a = arr.array('i', [1,2,3])\n",
    "print(a)\n",
    "for i in range(0,3):\n",
    "    print(a[i], end=\" \")\n"
   ]
  },
  {
   "cell_type": "code",
   "execution_count": 2,
   "id": "3adffb98-f9b8-4862-af38-d4c33e0874bd",
   "metadata": {},
   "outputs": [
    {
     "name": "stdout",
     "output_type": "stream",
     "text": [
      "Array of integers (Before):  array('i', [1, 2, 3])\n",
      "Array of integers (After Inserting):  array('i', [1, 4, 2, 3])\n",
      "Array of floats (Before):  array('d', [1.0, 2.0, 3.0])\n",
      "Array of floats (After appending):  array('d', [1.0, 2.0, 3.0, 4.4])\n"
     ]
    }
   ],
   "source": [
    "# Demonstrate the functions in arrays like insert(), append()\n",
    "a = arr.array('i', [1,2,3])\n",
    "print(\"Array of integers (Before): \", a)\n",
    "a.insert(1,4)\n",
    "print(\"Array of integers (After Inserting): \",a)\n",
    "b = arr.array('d', [1,2,3])\n",
    "print(\"Array of floats (Before): \", b)\n",
    "b.append(4.4)\n",
    "print(\"Array of floats (After appending): \", b)\n"
   ]
  },
  {
   "cell_type": "code",
   "execution_count": 3,
   "id": "39f6d2a6-a69f-4d60-bbf3-ffa183bf0d7b",
   "metadata": {},
   "outputs": [
    {
     "name": "stdout",
     "output_type": "stream",
     "text": [
      "Initial Array: \n",
      "1 2 3 4 5 6 7 8 9 10 \n",
      "Slicing elements in a range 3-8: \n",
      "array('i', [4, 5, 6, 7, 8])\n",
      "\n",
      "Elements sliced from 5th element till the end: \n",
      "array('i', [6, 7, 8, 9, 10])\n",
      "\n",
      "Printing all elements using slice operartion: \n",
      "array('i', [1, 2, 3, 4, 5, 6, 7, 8, 9, 10])\n"
     ]
    }
   ],
   "source": [
    "# Slicing\n",
    "import array as arr\n",
    "l = [1, 2, 3, 4, 5, 6, 7, 8, 9, 10]\n",
    "a = arr.array('i', l)\n",
    "print(\"Initial Array: \")\n",
    "for i in (a):\n",
    "    print(i, end = \" \")\n",
    "sliced_array = a[3:8]\n",
    "print(\"\\nSlicing elements in a range 3-8: \")\n",
    "print(sliced_array)\n",
    "sliced_array = a[5:]\n",
    "print(\"\\nElements sliced from 5th element till the end: \")\n",
    "print(sliced_array)\n",
    "sliced_array=a[:]\n",
    "print(\"\\nPrinting all elements using slice operartion: \")\n",
    "print(sliced_array)\n"
   ]
  },
  {
   "cell_type": "code",
   "execution_count": 4,
   "id": "c9f32010-eeb4-4231-bef8-822e5255adf6",
   "metadata": {},
   "outputs": [
    {
     "name": "stdout",
     "output_type": "stream",
     "text": [
      "1 2 3 1 2 5 \n",
      "After updation\n",
      "1 2 6 1 2 5 "
     ]
    }
   ],
   "source": [
    "# Array Updation\n",
    "import array\n",
    "arr = array.array('i', [1,2,3,1,2,5])\n",
    "for i in range(0,6):\n",
    "    print(arr[i], end = \" \")\n",
    "print(\"\\nAfter updation\")\n",
    "arr[2]=6\n",
    "for i in range(0,6):\n",
    "    print(arr[i], end=\" \")\n",
    "\n"
   ]
  },
  {
   "cell_type": "code",
   "execution_count": 5,
   "id": "7aac6235-5d2a-4953-9bd6-e2d08a05dc6f",
   "metadata": {},
   "outputs": [
    {
     "name": "stdout",
     "output_type": "stream",
     "text": [
      "()\n"
     ]
    }
   ],
   "source": [
    "# Create empty tuple: \n",
    "tuple1 = ()\n",
    "print(tuple1)\n",
    "\n"
   ]
  },
  {
   "cell_type": "code",
   "execution_count": 1,
   "id": "ad49f5bf-d860-47b6-9bd5-0387cdabfa2d",
   "metadata": {},
   "outputs": [
    {
     "name": "stdout",
     "output_type": "stream",
     "text": [
      "('Hello', 'ANIL')\n"
     ]
    }
   ],
   "source": [
    "# Create tuple using string: \n",
    "tuple1 = ('Hello', 'ANIL')\n",
    "print(tuple1)\n"
   ]
  },
  {
   "cell_type": "code",
   "execution_count": 8,
   "id": "90f9d95a-4b52-495d-ab2e-a00c9c089d8e",
   "metadata": {},
   "outputs": [
    {
     "name": "stdout",
     "output_type": "stream",
     "text": [
      "('Hello', 'Shashank')\n"
     ]
    }
   ],
   "source": [
    "# Create tuple using list: \n",
    "list1 = ['Hello', 'Shashank']\n",
    "print(tuple(list1))\n"
   ]
  },
  {
   "cell_type": "code",
   "execution_count": 2,
   "id": "53062758-d477-4319-b05a-9057ce309fb4",
   "metadata": {},
   "outputs": [
    {
     "name": "stdout",
     "output_type": "stream",
     "text": [
      "('A', 'n', 'i', 'l')\n"
     ]
    }
   ],
   "source": [
    "# Create a tuple using built-in function: \n",
    "tuple1 = tuple('Anil')\n",
    "print(tuple1)\n"
   ]
  },
  {
   "cell_type": "code",
   "execution_count": 3,
   "id": "ee78c3a1-0981-4ad6-9cb2-2333e51c3dc3",
   "metadata": {},
   "outputs": [
    {
     "name": "stdout",
     "output_type": "stream",
     "text": [
      "(5, 'anil', 7, 'JFidsof')\n"
     ]
    }
   ],
   "source": [
    "# Creating a tuple with mixed datatypes\n",
    "tuple1 = (5, 'anil', 7, 'JFidsof')\n",
    "print(tuple1)\n"
   ]
  },
  {
   "cell_type": "code",
   "execution_count": 4,
   "id": "9c4eca3b-0730-4958-ba9c-2604ed13860e",
   "metadata": {},
   "outputs": [
    {
     "name": "stdout",
     "output_type": "stream",
     "text": [
      "((1, 2, 3), ('a', 'b', 'c'))\n"
     ]
    }
   ],
   "source": [
    "# Nested tuples\n",
    "t1 = (1,2,3)\n",
    "t2 = ('a', 'b', 'c')\n",
    "t3 = (t1, t2)\n",
    "print(t3)\n"
   ]
  },
  {
   "cell_type": "code",
   "execution_count": 15,
   "id": "695542d0-6a66-4619-9d73-4fcc5fe3560b",
   "metadata": {},
   "outputs": [
    {
     "name": "stdout",
     "output_type": "stream",
     "text": [
      "('shashank', 97, 'Mtech')\n",
      "('raghav', 87, 'BCA')\n"
     ]
    }
   ],
   "source": [
    "# Program to demonstrate use of nested tuples\n",
    "Toppers = ((\"Anil\", 97, \"Mtech\"), (\"raghav\", 87, \"BCA\"))\n",
    "for i in Toppers:\n",
    "    print(i)\n"
   ]
  },
  {
   "cell_type": "code",
   "execution_count": null,
   "id": "8c943661-021f-4f5c-8239-4c2c627605a5",
   "metadata": {},
   "outputs": [],
   "source": []
  },
  {
   "cell_type": "code",
   "execution_count": 5,
   "id": "a601b341-0ab2-4c31-ac35-94f02f0e69b9",
   "metadata": {},
   "outputs": [
    {
     "name": "stdout",
     "output_type": "stream",
     "text": [
      "The original list of toppers is:  [['Anil', 'Mtech', 92], ['Student2', 'MBA', 99], ['Student3', 'MTech', 94], ['Student4', 'BSC', 95]]\n",
      "Enter the metadata you wish to edit: \n",
      "\n",
      "Choose the name of the student you wish to edit the details for. Press\n",
      "0. To edit the details of student Anil\n",
      "1. To edit the details of student Student2\n",
      "2. To edit the details of student Student3\n",
      "3. To edit the details of student Student4\n"
     ]
    },
    {
     "name": "stdin",
     "output_type": "stream",
     "text": [
      "Enter your choice:  0\n"
     ]
    },
    {
     "name": "stdout",
     "output_type": "stream",
     "text": [
      "Press\n",
      "1. To edit the name\n",
      "2. To edit the branch\n",
      "3. To edit the marks\n"
     ]
    },
    {
     "name": "stdin",
     "output_type": "stream",
     "text": [
      "Enter your choice (1/2/3):  1\n",
      "Enter the new name:  Anil\n"
     ]
    },
    {
     "name": "stdout",
     "output_type": "stream",
     "text": [
      "New list is:  [['Anil', 'Mtech', 92], ['Student2', 'MBA', 99], ['Student3', 'MTech', 94], ['Student4', 'BSC', 95]]\n"
     ]
    }
   ],
   "source": [
    "# WAP that has a nested list to store toppers details. Edit the details and reprint the details.\n",
    "# Eg - l1 = [\"Arav\", \"MSC\", 92]\n",
    "l1 = [[\"Anil\", \"Mtech\", 92], [\"Student2\", \"MBA\", 99], [\"Student3\", \"MTech\", 94], [\"Student4\", \"BSC\", 95]]\n",
    "\n",
    "print(\"The original list of toppers is: \", l1)\n",
    "print(\"Enter the metadata you wish to edit: \")\n",
    "print(\"\\nChoose the name of the student you wish to edit the details for. Press\")\n",
    "for i in range(len(l1)):\n",
    "    print(f'{i}. To edit the details of student {l1[i][0]}')\n",
    "ch1 = int(input(\"Enter your choice: \"))\n",
    "\n",
    "print(\"Press\\n1. To edit the name\\n2. To edit the branch\\n3. To edit the marks\")\n",
    "ch2 = int(input(\"Enter your choice (1/2/3): \"))\n",
    "\n",
    "if ch1 not in range(len(l1)):\n",
    "    print(\"Wrong Student index chosen!\")\n",
    "else:\n",
    "\n",
    "    if ch2 == 1:\n",
    "        new_name = input(\"Enter the new name: \")\n",
    "        l1[ch1][0] = new_name\n",
    "    elif ch2 == 1:\n",
    "        new_name = input(\"Enter the new branch: \")\n",
    "        l1[ch1][1] = new_name\n",
    "    elif ch2 == 1:\n",
    "        new_name = input(\"Enter the new marks: \")\n",
    "        l1[ch1][2] = new_name\n",
    "    else:\n",
    "        print(\"Wrong choice entered!\")\n",
    "        \n",
    "    print(\"New list is: \", l1)\n",
    "\n"
   ]
  },
  {
   "cell_type": "markdown",
   "id": "69157191-f206-4916-a933-16478e5bf565",
   "metadata": {},
   "source": [
    "##### Creating a tuple using Loop\n",
    "t1 = ('Anil')\n",
    "n = 5\n",
    "for i in range(int(n)):\n",
    "    t1 = (t1,)\n",
    "    print(t1)\n",
    "\n",
    "# WAP to swap two values using tuple assignment\n",
    "t1 = (2,3)\n",
    "print(\"Tuple is: \", t1)\n",
    "print(\"Before swap: \")\n",
    "a, b = t1\n",
    "print(f'Value of a is {a} and value of b is {b}')\n",
    "print(\"After swap: \")\n",
    "(a, b) = (b, a)\n",
    "print(f'Value of a is {a} and value of b is {b}')\n"
   ]
  },
  {
   "cell_type": "code",
   "execution_count": null,
   "id": "322efac0-54bc-498e-93d1-cdef49ed7ae3",
   "metadata": {},
   "outputs": [
    {
     "name": "stdin",
     "output_type": "stream",
     "text": [
      "Enter radius:  5\n"
     ]
    },
    {
     "name": "stdout",
     "output_type": "stream",
     "text": [
      "Area is:  78.53981633974483\n",
      "Circumference is:  31.41592653589793\n"
     ]
    }
   ],
   "source": [
    "# WAP using a function that returns the area and circumference of a circle whose radius is passed as an argument\n",
    "import math\n",
    "def func1(r):\n",
    "    area = math.pi * r * r\n",
    "    circum = 2 *math.pi *r\n",
    "    return (area, circum)\n",
    "rad = int(input(\"Enter radius: \"))\n",
    "(ar, circum) = func1(rad)\n",
    "print(\"Area is: \", ar)\n",
    "print(\"Circumference is: \", circum)\n",
    "\n",
    "# WAP that scans an email address and forms a tuple of username and domain\n",
    "email = input(\"Enter the email address: \")\n",
    "email = email.split(\"@\")\n",
    "email_tuple = tuple(email)\n",
    "print(email_tuple)\n"
   ]
  },
  {
   "cell_type": "code",
   "execution_count": null,
   "id": "20f91330-6ddb-40aa-8853-afc8985ae92d",
   "metadata": {},
   "outputs": [],
   "source": []
  }
 ],
 "metadata": {
  "kernelspec": {
   "display_name": "Python 3 (ipykernel)",
   "language": "python",
   "name": "python3"
  },
  "language_info": {
   "codemirror_mode": {
    "name": "ipython",
    "version": 3
   },
   "file_extension": ".py",
   "mimetype": "text/x-python",
   "name": "python",
   "nbconvert_exporter": "python",
   "pygments_lexer": "ipython3",
   "version": "3.12.5"
  }
 },
 "nbformat": 4,
 "nbformat_minor": 5
}
