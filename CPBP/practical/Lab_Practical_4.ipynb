{
 "cells": [
  {
   "cell_type": "code",
   "execution_count": 1,
   "id": "907c294c-f5dc-40f3-b2b8-e830c0aa40d1",
   "metadata": {},
   "outputs": [
    {
     "name": "stdout",
     "output_type": "stream",
     "text": [
      "[2, 3, 4, 5]\n",
      "['A', 'N', 'I', 'L', 'Y', 'A', 'D', 'A', 'V']\n",
      "Sliced:  ['A', 'N', 'I']\n",
      "['L', 'Y', 'A', 'D', 'A']\n",
      "['V', 'A', 'D', 'A', 'Y', 'L', 'I', 'N', 'A']\n"
     ]
    }
   ],
   "source": [
    "list1 = ['physics', 'chem', 1997, 2000]\n",
    "list2 = [1,2,3,4,5,6,7,8]\n",
    "print(list2[1:5])\n",
    "\n",
    "# List methods- insert, append, extend, reverse, reversed, remove, pop, slicing, \n",
    "List = ['A', 'N', 'I', 'L', 'Y', 'A', 'D', 'A','V',]\n",
    "print(List)\n",
    "Sliced_list = List[:-6]\n",
    "print(\"Sliced: \", Sliced_list)\n",
    "l2 = List[-6:-1]\n",
    "print(l2)\n",
    "l3 = List[::-1]\n",
    "print(l3)\n"
   ]
  },
  {
   "cell_type": "code",
   "execution_count": null,
   "id": "62d0e732",
   "metadata": {},
   "outputs": [],
   "source": []
  },
  {
   "cell_type": "code",
   "execution_count": 4,
   "id": "5d9e1c7b-924b-4551-b43c-72639cc1524f",
   "metadata": {},
   "outputs": [
    {
     "name": "stdout",
     "output_type": "stream",
     "text": [
      "[1, 9, 25, 49, 81]\n"
     ]
    }
   ],
   "source": [
    "l1 = [x**2 for x in range(1,11) if x%2 == 1]\n",
    "print(l1)\n"
   ]
  },
  {
   "cell_type": "code",
   "execution_count": 5,
   "id": "130ecab0-006f-4605-b5e6-baf7dbffe252",
   "metadata": {},
   "outputs": [
    {
     "name": "stdout",
     "output_type": "stream",
     "text": [
      "1\n",
      "a\n",
      "ANILYADAV\n",
      "[2, 3, 4, 5]\n",
      "8.9\n"
     ]
    }
   ],
   "source": [
    "ls = [1,'a',\"ANILYADAV\",[2,3,4,5],8.9]\n",
    "i = 0\n",
    "while i < (len(ls)):\n",
    "    print(ls[i])\n",
    "    i+=1\n"
   ]
  },
  {
   "cell_type": "code",
   "execution_count": 6,
   "id": "976d8b7a-878f-497d-9c2e-99dc9ac67773",
   "metadata": {},
   "outputs": [
    {
     "name": "stdout",
     "output_type": "stream",
     "text": [
      "index:  0\n",
      "index:  1\n",
      "index:  2\n",
      "index:  3\n",
      "index:  4\n"
     ]
    }
   ],
   "source": [
    "l1 = [1,2,3,4,5]\n",
    "for i in range(len(l1)):\n",
    "    print(\"index: \", i)\n"
   ]
  },
  {
   "cell_type": "code",
   "execution_count": 7,
   "id": "bbb3722f-9427-4955-b026-f950805fd05d",
   "metadata": {},
   "outputs": [
    {
     "name": "stdout",
     "output_type": "stream",
     "text": [
      "Sum =  55\n",
      "Avg =  5.5\n"
     ]
    }
   ],
   "source": [
    "l1 = [1,2,3,4,5,6,7,8,9,10]\n",
    "s = 0\n",
    "for i in l1:\n",
    "    s+=i\n",
    "print(\"Sum = \", s)\n",
    "print(\"Avg = \", s/len(l1))\n"
   ]
  },
  {
   "cell_type": "code",
   "execution_count": null,
   "id": "12f7ce6f-adcb-457d-9907-27af03854729",
   "metadata": {},
   "outputs": [],
   "source": []
  },
  {
   "cell_type": "code",
   "execution_count": null,
   "id": "27263b85-c359-4b53-9976-73610cac7ac3",
   "metadata": {},
   "outputs": [],
   "source": []
  }
 ],
 "metadata": {
  "kernelspec": {
   "display_name": "Python 3 (ipykernel)",
   "language": "python",
   "name": "python3"
  },
  "language_info": {
   "codemirror_mode": {
    "name": "ipython",
    "version": 3
   },
   "file_extension": ".py",
   "mimetype": "text/x-python",
   "name": "python",
   "nbconvert_exporter": "python",
   "pygments_lexer": "ipython3",
   "version": "3.12.5"
  }
 },
 "nbformat": 4,
 "nbformat_minor": 5
}
