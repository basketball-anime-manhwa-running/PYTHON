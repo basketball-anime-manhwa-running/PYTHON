{
 "cells": [
  {
   "cell_type": "raw",
   "id": "6db819ff-da4d-4fb7-841b-30db4a3359f4",
   "metadata": {},
   "source": [
    "OBJECTIVE: Demonstrate Classes, Objects and Inheritance and develop code for given problem statements:\n",
    "1)\n",
    "WAP with class Employee that keeps a track of the number of employees in an organization and also stores their name, designation, and salary details.\n",
    "2)\n",
    "WAP that has a class Circle. Use a class variable to define the value of constant pi. Use this class variable to calculate area and circumference of a circle with specified radius.\n",
    "3)\n",
    "WAP that has a class Point. Define another class Location which has 2 objects - location and destination. Also define a function in location that prints the reflection of destination on the x-axis.\n",
    "4)\n",
    "WAP that has classes such as Student, Course, Department. Enroll a student in a course of a particular department. Classes are -\n",
    "a.\n",
    "Student details - name, roll no\n",
    "b.\n",
    "Course - name, code, year and semester\n",
    "c.\n",
    "Department – Name"
   ]
  },
  {
   "cell_type": "code",
   "execution_count": 2,
   "id": "1626caa1-b7cf-401a-a8c9-b9377e4ce74e",
   "metadata": {},
   "outputs": [
    {
     "name": "stdout",
     "output_type": "stream",
     "text": [
      "Name: Alice Smith, Designation: Software Engineer, Salary: $85,000.00\n",
      "Name: Bob Johnson, Designation: Project Manager, Salary: $95,000.00\n",
      "Name: Charlie Brown, Designation: Data Scientist, Salary: $90,000.00\n",
      "Total number of employees: 3\n"
     ]
    }
   ],
   "source": [
    "#WAP with class Employee that keeps a track of the number of employees in an organization and also stores their name, designation, and salary details.\n",
    "class Employee:  \n",
    "    # Class variable to keep track of the number of employees  \n",
    "    employee_count = 0  \n",
    "    \n",
    "    def __init__(self, name, designation, salary):  \n",
    "        # Instance variables for employee details  \n",
    "        self.name = name  \n",
    "        self.designation = designation  \n",
    "        self.salary = salary  \n",
    "        \n",
    "        # Increment the employee count whenever a new employee is created  \n",
    "        Employee.employee_count += 1  \n",
    "        \n",
    "    @classmethod  \n",
    "    def get_employee_count(cls):  \n",
    "        \"\"\"Returns the current number of employees.\"\"\"  \n",
    "        return cls.employee_count  \n",
    "    \n",
    "    def display_info(self):  \n",
    "        \"\"\"Displays the information of the employee.\"\"\"  \n",
    "        print(f\"Name: {self.name}, Designation: {self.designation}, Salary: ${self.salary:,.2f}\")  \n",
    "\n",
    "# Example usage  \n",
    "if __name__ == \"__main__\":  \n",
    "    # Creating instances of employees  \n",
    "    emp1 = Employee(\"Alice Smith\", \"Software Engineer\", 85000)  \n",
    "    emp2 = Employee(\"Bob Johnson\", \"Project Manager\", 95000)  \n",
    "    emp3 = Employee(\"Charlie Brown\", \"Data Scientist\", 90000)  \n",
    "    \n",
    "    # Displaying employee information  \n",
    "    emp1.display_info()  \n",
    "    emp2.display_info()  \n",
    "    emp3.display_info()  \n",
    "    \n",
    "    # Displaying the total number of employees  \n",
    "    print(f\"Total number of employees: {Employee.get_employee_count()}\")"
   ]
  },
  {
   "cell_type": "code",
   "execution_count": 3,
   "id": "746d78c1-9215-420f-8dac-415a77d79eb5",
   "metadata": {},
   "outputs": [
    {
     "name": "stdin",
     "output_type": "stream",
     "text": [
      "Enter the radius of the circle:  4\n"
     ]
    },
    {
     "name": "stdout",
     "output_type": "stream",
     "text": [
      "Area of the circle: 50.27\n",
      "Circumference of the circle: 25.13\n"
     ]
    }
   ],
   "source": [
    "#WAP that has a class Circle. Use a class variable to define the value of constant pi. Use this class variable to calculate area and circumference of a circle with specified radius.\n",
    "class Circle:  \n",
    "    # Class variable for pi  \n",
    "    pi = 3.14159  \n",
    "    \n",
    "    def __init__(self, radius):  \n",
    "        self.radius = radius  \n",
    "    \n",
    "    def area(self):  \n",
    "        \"\"\"Calculate the area of the circle.\"\"\"  \n",
    "        return Circle.pi * (self.radius ** 2)  \n",
    "\n",
    "    def circumference(self):  \n",
    "        \"\"\"Calculate the circumference of the circle.\"\"\"  \n",
    "        return 2 * Circle.pi * self.radius  \n",
    "\n",
    "# Example usage:  \n",
    "def main():  \n",
    "    # Create an instance of Circle with a specified radius  \n",
    "    radius = float(input(\"Enter the radius of the circle: \"))  \n",
    "    circle = Circle(radius)  \n",
    "    \n",
    "    # Calculate area and circumference  \n",
    "    area = circle.area()  \n",
    "    circumference = circle.circumference()  \n",
    "    \n",
    "    # Display results  \n",
    "    print(f\"Area of the circle: {area:.2f}\")  \n",
    "    print(f\"Circumference of the circle: {circumference:.2f}\")  \n",
    "\n",
    "if __name__ == \"__main__\":  \n",
    "    main()"
   ]
  },
  {
   "cell_type": "code",
   "execution_count": 4,
   "id": "144c6b81-38ed-41f5-9e1b-0382ed942c27",
   "metadata": {},
   "outputs": [
    {
     "name": "stdout",
     "output_type": "stream",
     "text": [
      "Reflection of destination Point(3, 4) on the x-axis: Point(3, -4)\n"
     ]
    }
   ],
   "source": [
    "#WAP that has a class Point. Define another class Location which has 2 objects - location and destination. Also define a function in location that prints the reflection of destination on the x-axis.\n",
    "class Point:  \n",
    "    def __init__(self, x=0, y=0):  \n",
    "        self.x = x  \n",
    "        self.y = y  \n",
    "\n",
    "    def __str__(self):  \n",
    "        return f\"Point({self.x}, {self.y})\"  \n",
    "\n",
    "class Location:  \n",
    "    def __init__(self, location_x, location_y, destination_x, destination_y):  \n",
    "        self.location = Point(location_x, location_y)  \n",
    "        self.destination = Point(destination_x, destination_y)  \n",
    "\n",
    "    def print_reflection_on_x_axis(self):  \n",
    "        # Reflection of the destination on the x-axis means inverting the y-coordinate  \n",
    "        reflected_destination = Point(self.destination.x, -self.destination.y)  \n",
    "        print(f\"Reflection of destination {self.destination} on the x-axis: {reflected_destination}\")  \n",
    "\n",
    "# Example usage:  \n",
    "if __name__ == \"__main__\":  \n",
    "    location = Location(1, 2, 3, 4)  # Creating location at (1, 2) and destination at (3, 4)  \n",
    "    location.print_reflection_on_x_axis()  # Print the reflection of the destination on the x-axis"
   ]
  },
  {
   "cell_type": "code",
   "execution_count": 5,
   "id": "6aee3a57-0445-4d15-b28b-6c4153d872a5",
   "metadata": {},
   "outputs": [
    {
     "name": "stdout",
     "output_type": "stream",
     "text": [
      "Course(Name: Data Structures, Code: CS101, Year: 1, Semester: 1):\n",
      "\tStudent(Name: Alice, Roll No: 001)\n",
      "\tStudent(Name: Bob, Roll No: 002)\n",
      "Course(Name: Thermodynamics, Code: ME101, Year: 1, Semester: 1):\n",
      "\tStudent(Name: Charlie, Roll No: 003)\n",
      "Department(Name: Computer Science, Courses: [Data Structures, Algorithms])\n",
      "Department(Name: Mechanical Engineering, Courses: [Thermodynamics])\n"
     ]
    }
   ],
   "source": [
    "#WAP that has classes such as Student, Course, Department. Enroll a student in a course of a particular department. Classes are -\n",
    "#a.Student details - name, roll no\n",
    "#b.Course - name, code, year and semester\n",
    "#c.Department – Name\n",
    "class Student:  \n",
    "    def __init__(self, name, roll_no):  \n",
    "        self.name = name  \n",
    "        self.roll_no = roll_no  \n",
    "\n",
    "    def __str__(self):  \n",
    "        return f\"Student(Name: {self.name}, Roll No: {self.roll_no})\"  \n",
    "\n",
    "\n",
    "class Course:  \n",
    "    def __init__(self, name, code, year, semester):  \n",
    "        self.name = name  \n",
    "        self.code = code  \n",
    "        self.year = year  \n",
    "        self.semester = semester  \n",
    "\n",
    "    def __str__(self):  \n",
    "        return f\"Course(Name: {self.name}, Code: {self.code}, Year: {self.year}, Semester: {self.semester})\"  \n",
    "\n",
    "\n",
    "class Department:  \n",
    "    def __init__(self, name):  \n",
    "        self.name = name  \n",
    "        self.courses = []  \n",
    "\n",
    "    def add_course(self, course):  \n",
    "        self.courses.append(course)  \n",
    "\n",
    "    def __str__(self):  \n",
    "        course_list = ', '.join(course.name for course in self.courses)  \n",
    "        return f\"Department(Name: {self.name}, Courses: [{course_list}])\"  \n",
    "\n",
    "\n",
    "class Enrollment:  \n",
    "    def __init__(self):  \n",
    "        self.enrollments = {}  \n",
    "\n",
    "    def enroll_student(self, student, course):  \n",
    "        if course not in self.enrollments:  \n",
    "            self.enrollments[course] = []  \n",
    "        self.enrollments[course].append(student)  \n",
    "\n",
    "    def show_enrollments(self):  \n",
    "        for course, students in self.enrollments.items():  \n",
    "            print(f\"{course}:\")  \n",
    "            for student in students:  \n",
    "                print(f\"\\t{student}\")  \n",
    "\n",
    "\n",
    "# Example usage:  \n",
    "\n",
    "# Create departments  \n",
    "cs_department = Department(\"Computer Science\")  \n",
    "me_department = Department(\"Mechanical Engineering\")  \n",
    "\n",
    "# Create courses  \n",
    "cs_course_1 = Course(\"Data Structures\", \"CS101\", 1, 1)  \n",
    "cs_course_2 = Course(\"Algorithms\", \"CS102\", 1, 2)  \n",
    "me_course_1 = Course(\"Thermodynamics\", \"ME101\", 1, 1)  \n",
    "\n",
    "# Add courses to departments  \n",
    "cs_department.add_course(cs_course_1)  \n",
    "cs_department.add_course(cs_course_2)  \n",
    "me_department.add_course(me_course_1)  \n",
    "\n",
    "# Create students  \n",
    "student_1 = Student(\"Alice\", \"001\")  \n",
    "student_2 = Student(\"Bob\", \"002\")  \n",
    "student_3 = Student(\"Charlie\", \"003\")  \n",
    "\n",
    "# Enroll students  \n",
    "enrollment = Enrollment()  \n",
    "enrollment.enroll_student(student_1, cs_course_1)  \n",
    "enrollment.enroll_student(student_2, cs_course_1)  \n",
    "enrollment.enroll_student(student_3, me_course_1)  \n",
    "\n",
    "# Show enrollments  \n",
    "enrollment.show_enrollments()  \n",
    "\n",
    "# Print department details  \n",
    "print(cs_department)  \n",
    "print(me_department)"
   ]
  },
  {
   "cell_type": "code",
   "execution_count": null,
   "id": "1fbe252e-40fd-49cc-b031-5028775ad7e4",
   "metadata": {},
   "outputs": [],
   "source": []
  }
 ],
 "metadata": {
  "kernelspec": {
   "display_name": "Python 3 (ipykernel)",
   "language": "python",
   "name": "python3"
  },
  "language_info": {
   "codemirror_mode": {
    "name": "ipython",
    "version": 3
   },
   "file_extension": ".py",
   "mimetype": "text/x-python",
   "name": "python",
   "nbconvert_exporter": "python",
   "pygments_lexer": "ipython3",
   "version": "3.11.7"
  }
 },
 "nbformat": 4,
 "nbformat_minor": 5
}
