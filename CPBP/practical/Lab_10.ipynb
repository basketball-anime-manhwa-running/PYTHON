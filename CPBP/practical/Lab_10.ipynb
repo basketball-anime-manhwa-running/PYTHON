{
 "cells": [
  {
   "cell_type": "code",
   "execution_count": 1,
   "id": "f0ac88ff-ad33-4eb0-8058-54e57f511ef0",
   "metadata": {},
   "outputs": [
    {
     "name": "stdout",
     "output_type": "stream",
     "text": [
      "First 10 bytes of file1:  b'Welcome to'\n",
      "File2 contents after copying:\n",
      "b'Welcome to'\n"
     ]
    }
   ],
   "source": [
    "# WAP that copies first 10 bytes of a binary file into another\n",
    "# WAP that copies first 10 bytes of a binary file into another\n",
    "with open(r\"H:\\hello world.txt\", \"rb\") as f:\n",
    "    a = f.read(10)\n",
    "    print(\"First 10 bytes of file1: \", a)\n",
    "\n",
    "with open(r\"H:\\Welcome to the world of python.txt\", \"wb+\") as f2:\n",
    "    f2.write(a)\n",
    "    f2.seek(0)  # Move the cursor to the beginning of the file to read it\n",
    "    print(\"File2 contents after copying:\")\n",
    "    print(f2.read())\n",
    "\n"
   ]
  },
  {
   "cell_type": "code",
   "execution_count": 9,
   "id": "0dc5c050-58d0-498b-a1b0-b619efe88462",
   "metadata": {},
   "outputs": [
    {
     "name": "stdin",
     "output_type": "stream",
     "text": [
      "Enter the file name:  Welcome to the world of python.txt\n",
      "Enter the character to be searched:  e\n"
     ]
    },
    {
     "name": "stdout",
     "output_type": "stream",
     "text": [
      "Count of given character in file: 2\n"
     ]
    }
   ],
   "source": [
    "# WAP that accepts a file name as an input from the user.\n",
    "# Open the file and count the number of times a character appears in the file\n",
    "\n",
    "# Accepting user input\n",
    "f = input(\"Enter the file name: \")\n",
    "ch = input(\"Enter the character to be searched: \")\n",
    "count = 0\n",
    "\n",
    "# Constructing the full file path\n",
    "file_path = \"H:\\\\\" + f\n",
    "\n",
    "# Open the file and count the occurrences of the character\n",
    "with open(file_path, \"r\") as f1:\n",
    "    for line in f1:\n",
    "        for c in line:\n",
    "            if c == ch:\n",
    "                count += 1\n",
    "\n",
    "print(\"Count of given character in file:\", count)\n"
   ]
  },
  {
   "cell_type": "code",
   "execution_count": 10,
   "id": "87aa0c3a-b5a4-4825-9208-c250d08a6ba9",
   "metadata": {},
   "outputs": [],
   "source": [
    "# WAP to create a new directroy in the current directory\n",
    "import os\n",
    "os.mkdir(\"new_dir\")\n",
    "\n"
   ]
  },
  {
   "cell_type": "code",
   "execution_count": 11,
   "id": "60b3311c-b08a-48cf-a8e3-963e3d72987c",
   "metadata": {},
   "outputs": [],
   "source": [
    "# WAP that changes curr dur to newly created dir new_dir\n",
    "os.chdir(\"new_dir\")\n"
   ]
  },
  {
   "cell_type": "code",
   "execution_count": null,
   "id": "70d38ec6-f5f1-41ff-ad84-92ee309fc71e",
   "metadata": {},
   "outputs": [],
   "source": []
  }
 ],
 "metadata": {
  "kernelspec": {
   "display_name": "Python 3 (ipykernel)",
   "language": "python",
   "name": "python3"
  },
  "language_info": {
   "codemirror_mode": {
    "name": "ipython",
    "version": 3
   },
   "file_extension": ".py",
   "mimetype": "text/x-python",
   "name": "python",
   "nbconvert_exporter": "python",
   "pygments_lexer": "ipython3",
   "version": "3.11.7"
  }
 },
 "nbformat": 4,
 "nbformat_minor": 5
}
