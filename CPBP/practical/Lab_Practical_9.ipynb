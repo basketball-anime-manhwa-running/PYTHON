{
 "cells": [
  {
   "cell_type": "code",
   "execution_count": 1,
   "id": "01e7951e-685c-4801-82ed-88fa3ae16477",
   "metadata": {},
   "outputs": [
    {
     "name": "stdout",
     "output_type": "stream",
     "text": [
      "orl\n"
     ]
    }
   ],
   "source": [
    "a = \"HelloWorld\"\n",
    "# Get the characters from o in World to but not included d in \"World\"\n",
    "print(a[-4:-1])\n"
   ]
  },
  {
   "cell_type": "code",
   "execution_count": 2,
   "id": "6215bbb4-dc82-46f0-a164-f540768be4ed",
   "metadata": {},
   "outputs": [
    {
     "name": "stdout",
     "output_type": "stream",
     "text": [
      "1 \t 1 \t 1 \t 1\n",
      "2 \t 4 \t 8 \t 16\n",
      "3 \t 9 \t 27 \t 81\n",
      "4 \t 16 \t 64 \t 256\n",
      "5 \t 25 \t 125 \t 625\n",
      "\n",
      "\n",
      "1\t1\t1\t1\n",
      "2\t4\t8\t16\n",
      "3\t9\t27\t81\n",
      "4\t16\t64\t256\n",
      "5\t25\t125\t625\n",
      "\n",
      "\n",
      "i   i**2 i**3  \n",
      "\n",
      "\n",
      "1   1    1     \n",
      "2   4    8     \n",
      "3   9    27    \n",
      "4   16   64    \n",
      "5   25   125   \n"
     ]
    }
   ],
   "source": [
    "# WAP to display powers of number without using formatting characters\n",
    "i=1\n",
    "while i<=5:\n",
    "    print(i**1, \"\\t\", i**2, \"\\t\",  i**3, \"\\t\",  i**4)\n",
    "    i+=1\n",
    "print()\n",
    "print()\n",
    "\n",
    "i=1\n",
    "while i<=5:\n",
    "    print(\"%d\\t%d\\t%d\\t%d\"%(i**1, i**2, i**3,  i**4))\n",
    "    i+=1\n",
    "print()\n",
    "print()\n",
    "\n",
    "i = 1\n",
    "print(\"%-4s%-5s%-6s\"%('i', 'i**2', 'i**3'))\n",
    "print()\n",
    "print()\n",
    "\n",
    "i = 1\n",
    "while i<=5:\n",
    "    print(\"%-4d%-5d%-6d\"%(i, i**2, i**3))\n",
    "    i+=1\n"
   ]
  },
  {
   "cell_type": "code",
   "execution_count": 3,
   "id": "400028b1-e87f-4eca-ba99-bc7fc69163da",
   "metadata": {},
   "outputs": [
    {
     "name": "stdout",
     "output_type": "stream",
     "text": [
      "Hello\n",
      "**hello***\n",
      "2\n",
      "True\n",
      "True\n",
      "7\n",
      "-1\n",
      "substring not found\n",
      "5\n",
      "5\n",
      "substring not found\n",
      "True\n",
      "False\n",
      "True\n",
      "True\n",
      "False\n",
      "True\n",
      "False\n",
      "5\n",
      "Hello%%%%%\n",
      "*****Hello\n",
      "     Hello\n",
      "-000001234\n",
      "abcHello  zyx\n",
      "abc  Hellozyx\n",
      "abcHellozyx\n",
      "s\n",
      "Follo Follo Follo\n",
      "Follo Follo Hello\n",
      "The World Is Beautiful\n",
      "HeLLo wORld\n",
      "['abc', ' def', ' ghi', ' jkl']\n"
     ]
    }
   ],
   "source": [
    "# Built-in string methods and functions\n",
    "s =  \"hello\"\n",
    "print(s.capitalize())\n",
    "\n",
    "s = \"hello\"\n",
    "print(s.center(10, '*'))\n",
    "\n",
    "msg = 'he'\n",
    "str1 = \"hellohello\"\n",
    "print(str1.count(msg, 0, len(str1)))\n",
    "\n",
    "msg = \"she is my best friend\"\n",
    "print(msg.endswith(\"end\", 0, len(msg)))\n",
    "\n",
    "str1 = \"the world is beautiful\"\n",
    "print(str1.startswith(\"th\", 0, len(str1)))\n",
    "\n",
    "msg = \"she is my best my friend\"\n",
    "print(msg.find(\"my\", 0, len(msg)))\n",
    "print(msg.find(\"mine\", 0, len(msg)))\n",
    "\n",
    "try:\n",
    "    print(msg.index(\"mine\", 0, len(msg)))\n",
    "except:\n",
    "    print(\"substring not found\")\n",
    "    \n",
    "# rfind searches from end\n",
    "msg = \"is this your bag?\"\n",
    "print(msg.rfind(\"is\", 0, len(msg)))\n",
    "\n",
    "print(msg.rindex(\"is\"))\n",
    "try:\n",
    "    print(msg.rindex(\"z\"))\n",
    "except:\n",
    "    print(\"substring not found\")\n",
    "\n",
    "msg = \"jamesbond007\"\n",
    "print(msg.isalnum())\n",
    "\n",
    "print(msg.isalpha())\n",
    "msg = \"jamesbond\"\n",
    "print(msg.isalpha())\n",
    "\n",
    "msg = \"007\"\n",
    "print(msg.isdigit())\n",
    "\n",
    "msg = \"Hello\"\n",
    "print(msg.islower())\n",
    "\n",
    "msg = \"   \"\n",
    "print(msg.isspace())\n",
    "\n",
    "msg = \"Hello\"\n",
    "print(msg.isupper())\n",
    "\n",
    "print(len(msg))\n",
    "\n",
    "s = \"Hello\"\n",
    "print(s.ljust(10,'%'))\n",
    "\n",
    "print(s.rjust(10,'*'))\n",
    "print(s.rjust(10))\n",
    "\n",
    "s = \"-1234\"\n",
    "print(s.zfill(10))\n",
    "\n",
    "s = \"  Hello  \"\n",
    "print('abc' + s.lstrip() + 'zyx')\n",
    "\n",
    "print('abc' + s.rstrip() + 'zyx')\n",
    "\n",
    "print('abc' + s.strip() + 'zyx')\n",
    "\n",
    "s = \"Hello friends\"\n",
    "print(max(s))\n",
    "\n",
    "s = \"Hello Hello Hello\"\n",
    "print(s.replace(\"He\", \"Fo\"))\n",
    "print(s.replace(\"He\", \"Fo\", 2))\n",
    "\n",
    "s = \"The world is beautiful\"\n",
    "print(s.title())\n",
    "\n",
    "s = \"hEllO WorLD\"\n",
    "print(s.swapcase())\n",
    "\n",
    "s = \"abc, def, ghi, jkl\"\n",
    "print(s.split(','))\n"
   ]
  },
  {
   "cell_type": "code",
   "execution_count": 4,
   "id": "42f2b735-f6bf-4eb2-9198-651a2e287937",
   "metadata": {},
   "outputs": [
    {
     "name": "stdout",
     "output_type": "stream",
     "text": [
      "\n",
      "A\n",
      "AB\n",
      "ABC\n",
      "ABCD\n",
      "ABCDE\n",
      "ABCDEF"
     ]
    }
   ],
   "source": [
    "# WAP to print the pattern\n",
    "for i in range(1, 7):\n",
    "    ch = 'A'\n",
    "    print()\n",
    "    for j in range(1, i+1):\n",
    "        print(ch, end=\"\")\n",
    "        ch = chr(ord(ch)+1)\n"
   ]
  },
  {
   "cell_type": "code",
   "execution_count": 5,
   "id": "06ec9f25-df7f-4a91-a84e-df34f3644529",
   "metadata": {},
   "outputs": [
    {
     "name": "stdout",
     "output_type": "stream",
     "text": [
      "Welcome to Python"
     ]
    }
   ],
   "source": [
    "# WAP using while loop to iterate a given string\n",
    "s = \"Welcome to Python\"\n",
    "i = 0\n",
    "while i < len(s):\n",
    "    print(s[i], end=\"\")\n",
    "    i+=1\n"
   ]
  },
  {
   "cell_type": "code",
   "execution_count": 8,
   "id": "b038c59a-255b-4341-912e-cc26a8d7d96a",
   "metadata": {},
   "outputs": [
    {
     "name": "stdin",
     "output_type": "stream",
     "text": [
      "Enter the string:  Shashank\n",
      "Enter the encryption key:  1\n"
     ]
    },
    {
     "name": "stdout",
     "output_type": "stream",
     "text": [
      "Tibtibol\n"
     ]
    }
   ],
   "source": [
    "# WAP that encrypts a message by adding a key value to every character\n",
    "s = input(\"Enter the string: \")\n",
    "key = int(input(\"Enter the encryption key: \"))\n",
    "new_s = \"\"\n",
    "for i in s:\n",
    "    new_s += chr(ord(i)+key)\n",
    "print(new_s)\n",
    "\n"
   ]
  },
  {
   "cell_type": "code",
   "execution_count": 9,
   "id": "5a477c09-0a2f-4f52-a939-bc71db045353",
   "metadata": {},
   "outputs": [
    {
     "name": "stdout",
     "output_type": "stream",
     "text": [
      "['Dear Students, I am pleased to inform you that, there is a workshop on Python in college tomorrow.', 'Everyone should come and there will also be a quiz in Python, whosoever wins will win a gold medal.']\n"
     ]
    }
   ],
   "source": [
    "# WAP that uses split function to split a multi-line string \n",
    "s = '''Dear Students, I am pleased to inform you that, there is a workshop on Python in college tomorrow.\n",
    "Everyone should come and there will also be a quiz in Python, whosoever wins will win a gold medal.'''\n",
    "\n",
    "print(s.split('\\n'))\n"
   ]
  },
  {
   "cell_type": "code",
   "execution_count": 13,
   "id": "c4b71203-638a-49dd-a788-b82f6db08161",
   "metadata": {},
   "outputs": [
    {
     "name": "stdin",
     "output_type": "stream",
     "text": [
      "Enter the string:  Shashank\n"
     ]
    },
    {
     "name": "stdout",
     "output_type": "stream",
     "text": [
      "Shshnk"
     ]
    }
   ],
   "source": [
    "# WAP that accepts a string from user and re-displays the same string after removing vowels\n",
    "vowels = ['a', 'e', 'i', 'o', 'u', 'A', 'E', 'I', 'O', 'U']\n",
    "s = input(\"Enter the string: \")\n",
    "for i in s:\n",
    "    if i not in vowels:\n",
    "        print(i, end=\"\")\n",
    "\n",
    "pattern = r\"[a-zA-Z]+\\s+\\d+\"\n",
    "\n"
   ]
  },
  {
   "cell_type": "code",
   "execution_count": 12,
   "id": "7000fee7-a8b5-4bc2-be57-482bc38514cf",
   "metadata": {},
   "outputs": [
    {
     "name": "stdout",
     "output_type": "stream",
     "text": [
      "0 8 (0, 8)\n",
      "9 17 (9, 17)\n",
      "18 27 (18, 27)\n"
     ]
    }
   ],
   "source": [
    "# Patterns that begin with one or more characters followed by space and followed by one or more digits\n",
    "import re\n",
    "matches = re.finditer(pattern, \"LXI 2013,VXI 2015,VDI 20104,Maruti Suzuki Cars available with us\")\n",
    "for match in matches:\n",
    "    print(match.start(), match.end(), match.span())"
   ]
  },
  {
   "cell_type": "code",
   "execution_count": 14,
   "id": "67574aae-0dcc-4412-bc0d-12084bb3c58e",
   "metadata": {},
   "outputs": [
    {
     "name": "stdout",
     "output_type": "stream",
     "text": [
      "Good\n"
     ]
    }
   ],
   "source": [
    "# WAP that uses a regex to match strings which start with sequence of digits (atleast 1) followed by a blank and after this add arbitrary characters\n",
    "\n",
    "pat = r\"^\\d+\\s*\"\n",
    "pat = r\"^[0-9]+ .*\"\n",
    "if re.match(pat, \"123 adij\"):\n",
    "    print(\"Good\")\n",
    "\n"
   ]
  },
  {
   "cell_type": "code",
   "execution_count": null,
   "id": "c32c922d-f4ce-4fee-b64d-a4a8c4056f83",
   "metadata": {},
   "outputs": [],
   "source": []
  }
 ],
 "metadata": {
  "kernelspec": {
   "display_name": "Python 3 (ipykernel)",
   "language": "python",
   "name": "python3"
  },
  "language_info": {
   "codemirror_mode": {
    "name": "ipython",
    "version": 3
   },
   "file_extension": ".py",
   "mimetype": "text/x-python",
   "name": "python",
   "nbconvert_exporter": "python",
   "pygments_lexer": "ipython3",
   "version": "3.12.5"
  }
 },
 "nbformat": 4,
 "nbformat_minor": 5
}
