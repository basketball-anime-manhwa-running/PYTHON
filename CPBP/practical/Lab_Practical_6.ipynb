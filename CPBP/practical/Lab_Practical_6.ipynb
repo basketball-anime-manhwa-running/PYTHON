{
 "cells": [
  {
   "cell_type": "code",
   "execution_count": 1,
   "id": "721086b4-5234-46c3-b106-84b7dfa07b15",
   "metadata": {},
   "outputs": [
    {
     "name": "stdout",
     "output_type": "stream",
     "text": [
      "36\n",
      "[1, 4, 9, 16, 25]\n",
      "[1, 4, 9, 16, 25]\n"
     ]
    }
   ],
   "source": [
    "# Defining the function\n",
    "def square(num):\n",
    "#     Returns the square of the number\n",
    "    return num**2\n",
    "\n",
    "obj = square(6)\n",
    "print(obj)\n",
    "\n",
    "# Pass by Reference and Pass by value\n",
    "\n",
    "def square(item_list):\n",
    "#     Returns the square of the number\n",
    "    squares = []\n",
    "    for i in item_list:\n",
    "        squares.append(i**2)\n",
    "    return squares\n",
    "\n",
    "# Pass by reference\n",
    "num = [1,2,3,4,5]\n",
    "obj = square(num)\n",
    "print(obj)\n",
    "\n",
    "# Pass by value\n",
    "obj = square([1,2,3,4,5])\n",
    "print(obj)\n"
   ]
  },
  {
   "cell_type": "code",
   "execution_count": 4,
   "id": "1d092bbe-da93-4a3d-85e0-63a8d142d842",
   "metadata": {},
   "outputs": [
    {
     "name": "stdin",
     "output_type": "stream",
     "text": [
      "Enter num1:  1\n",
      "Enter num2:  2\n"
     ]
    },
    {
     "name": "stdout",
     "output_type": "stream",
     "text": [
      "num1 - num2 =  -1\n"
     ]
    }
   ],
   "source": [
    "# WAP that subtracts two numbers using a function\n",
    "def func(a,b):\n",
    "    return a - b\n",
    "a = int(input(\"Enter num1: \"))\n",
    "b =  int(input(\"Enter num2: \"))\n",
    "print(\"num1 - num2 = \", func(a,b))\n"
   ]
  },
  {
   "cell_type": "code",
   "execution_count": 5,
   "id": "4ef1eb3d-fd4f-4e37-8c12-7c317311411f",
   "metadata": {},
   "outputs": [
    {
     "name": "stdin",
     "output_type": "stream",
     "text": [
      "Enter num1:  1\n"
     ]
    },
    {
     "name": "stdout",
     "output_type": "stream",
     "text": [
      "Number is Odd\n"
     ]
    }
   ],
   "source": [
    "# WAP using functions and return statements to check whether a number is even or odd\n",
    "def func(a):\n",
    "    if (a%2 == 0):\n",
    "        return \"Even\"\n",
    "    else:\n",
    "        return \"Odd\"\n",
    "a = int(input(\"Enter num1: \"))\n",
    "print(\"Number is\", func(a))\n",
    "\n"
   ]
  },
  {
   "cell_type": "code",
   "execution_count": 6,
   "id": "b5629a19-f044-4288-986e-8cf35e47098d",
   "metadata": {},
   "outputs": [
    {
     "name": "stdin",
     "output_type": "stream",
     "text": [
      "Enter age of person:  60\n",
      "Enter principal amount:  20000\n",
      "Enter time in years:  5\n"
     ]
    },
    {
     "name": "stdout",
     "output_type": "stream",
     "text": [
      "Simple Interest is:  12000.0\n"
     ]
    }
   ],
   "source": [
    "# WAP to calculate simple interest. \n",
    "# Suppose the customer is a Senior citizen and is being offered 12% ROI. For all other customers, ROI is 10%.\n",
    "age = int(input(\"Enter age of person: \"))\n",
    "principal = float(input(\"Enter principal amount: \"))\n",
    "time = int(input(\"Enter time in years: \"))\n",
    "if age>=60:\n",
    "    r=12\n",
    "else:\n",
    "    r=10\n",
    "si = principal*r*time/100\n",
    "print(\"Simple Interest is: \", si)\n",
    "\n"
   ]
  },
  {
   "cell_type": "code",
   "execution_count": 7,
   "id": "4afdd7a2-3e00-4619-a033-ff45b45f600c",
   "metadata": {},
   "outputs": [
    {
     "data": {
      "text/plain": [
       "64"
      ]
     },
     "execution_count": 7,
     "metadata": {},
     "output_type": "execute_result"
    }
   ],
   "source": [
    "# Program to find certain power of a number using recursion\n",
    "def func1(n,i):\n",
    "    if i == 0:\n",
    "        return 1\n",
    "    else:\n",
    "        return n*func1(n,i-1)\n",
    "func1(2,6)\n"
   ]
  },
  {
   "cell_type": "code",
   "execution_count": null,
   "id": "81cbb528-d5f2-498f-a65c-e9037d10fb7f",
   "metadata": {},
   "outputs": [],
   "source": []
  }
 ],
 "metadata": {
  "kernelspec": {
   "display_name": "Python 3 (ipykernel)",
   "language": "python",
   "name": "python3"
  },
  "language_info": {
   "codemirror_mode": {
    "name": "ipython",
    "version": 3
   },
   "file_extension": ".py",
   "mimetype": "text/x-python",
   "name": "python",
   "nbconvert_exporter": "python",
   "pygments_lexer": "ipython3",
   "version": "3.12.5"
  }
 },
 "nbformat": 4,
 "nbformat_minor": 5
}
