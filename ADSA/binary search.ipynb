{
 "cells": [
  {
   "cell_type": "code",
   "execution_count": 3,
   "id": "df16039f-e258-468f-a29c-37542599319f",
   "metadata": {},
   "outputs": [
    {
     "name": "stdout",
     "output_type": "stream",
     "text": [
      "True\n"
     ]
    }
   ],
   "source": [
    "def binary_search(a,value):\n",
    "\tif len(a)==0 or (len(a)==1 and a[0]!=value):\n",
    "\t\treturn False\n",
    "\n",
    "\tmid=a[len(a)//2]\n",
    "\tif value==mid: return True \n",
    "\tif value<mid:  return binary_search(a[:len(a)//2],value)\n",
    "\tif value>mid:  return binary_search(a[len(a)//2+1:],value)\n",
    "\n",
    "\n",
    "a=[1,2,3,4,5,6,7,8,9]\n",
    "print(binary_search(a,5))"
   ]
  },
  {
   "cell_type": "code",
   "execution_count": null,
   "id": "abfc570b-5d27-4001-b36c-fb9e99d6df06",
   "metadata": {},
   "outputs": [],
   "source": []
  }
 ],
 "metadata": {
  "kernelspec": {
   "display_name": "Python 3 (ipykernel)",
   "language": "python",
   "name": "python3"
  },
  "language_info": {
   "codemirror_mode": {
    "name": "ipython",
    "version": 3
   },
   "file_extension": ".py",
   "mimetype": "text/x-python",
   "name": "python",
   "nbconvert_exporter": "python",
   "pygments_lexer": "ipython3",
   "version": "3.12.5"
  }
 },
 "nbformat": 4,
 "nbformat_minor": 5
}
